{
 "cells": [
  {
   "cell_type": "markdown",
   "metadata": {},
   "source": [
    "# King Count Sale Price Predictions #\n",
    "\n",
    "* Morgan Didjurgis\n",
    "* Flex 40 weeks\n",
    "* Instructor: Abhineet Kulkarni\n",
    "\n",
    "\n"
   ]
  },
  {
   "cell_type": "markdown",
   "metadata": {},
   "source": [
    "## Overview ##\n",
    "\n",
    "This project uses King County sales data from 2014-2015 to build a linear model that predicts sales prices for single-family home buyers based on property features. \n"
   ]
  },
  {
   "cell_type": "markdown",
   "metadata": {},
   "source": [
    "### Business Problem ###\n",
    "\n",
    "Single Family home buyers can benefit from tools to help them evaluate how much more or less different features/locations should cost.  This can help them narrow down homes to visit and also determine if a list price is reasonable before making an offer."
   ]
  },
  {
   "cell_type": "markdown",
   "metadata": {},
   "source": [
    "### Data Understanding ###\n",
    "\n",
    "The data set used to fit the model is a list of ~18,000 properties sold in King County in 2014-2015 with accompanying prices and characteristics. The description of the column names can be found in 'column_names.md' in the data folder in this repo.\n",
    "\n",
    "Most single family home buyers work with agents if they are not already very familiar with real estate.  Therefore, while I did aim to only include features  that the home buyer would care about, there are some features which improve accuracy that an agent may assist the home buyer in selecting or that an application might provide suggestions for based on averages in that city.\n",
    "\n",
    "Throughout the process of model development, one must consider the tradeoff between ability to interpret the model and determine which features affect price most and the accuracy of the price prediction.  While it is useful to tell a buyer which features or locations are 'most expensive', it is often easier for actually see price predictions based on combinations of features.  I will prioritize the ability for a buyer to 'play' with different features and see predictions rather than having to compare 'impact' of those features. For this audience, actual price predictions are easier to comprehend and more user friendly."
   ]
  },
  {
   "cell_type": "code",
   "execution_count": 115,
   "metadata": {},
   "outputs": [],
   "source": [
    "import pandas as pd\n",
    "import numpy as np\n",
    "import matplotlib.pyplot as plt\n",
    "import seaborn as sns\n",
    "import pickle\n",
    "from itertools import combinations\n",
    "from sklearn.preprocessing import PolynomialFeatures\n",
    "from sklearn.metrics import mean_squared_error\n",
    "from sklearn.metrics import r2_score\n",
    "from sklearn.model_selection import cross_val_score\n",
    "from sklearn.feature_selection import RFE\n",
    "from sklearn.linear_model import LinearRegression\n",
    "import statsmodels.api as sm\n",
    "from sklearn.model_selection import train_test_split\n",
    "from statsmodels.stats.outliers_influence import variance_inflation_factor\n",
    "import requests\n",
    "from bs4 import BeautifulSoup\n",
    "%matplotlib inline"
   ]
  },
  {
   "cell_type": "markdown",
   "metadata": {},
   "source": [
    "## Clean Data ##\n",
    "\n",
    "Examine the data to determine if all columns are applicable to a single-family home pricing model. Identify null values and determine how to handle.\n",
    "Prepare all features for modeling."
   ]
  },
  {
   "cell_type": "code",
   "execution_count": 116,
   "metadata": {},
   "outputs": [
    {
     "name": "stdout",
     "output_type": "stream",
     "text": [
      "<class 'pandas.core.frame.DataFrame'>\n",
      "RangeIndex: 21597 entries, 0 to 21596\n",
      "Data columns (total 21 columns):\n",
      " #   Column         Non-Null Count  Dtype  \n",
      "---  ------         --------------  -----  \n",
      " 0   id             21597 non-null  int64  \n",
      " 1   date           21597 non-null  object \n",
      " 2   price          21597 non-null  float64\n",
      " 3   bedrooms       21597 non-null  int64  \n",
      " 4   bathrooms      21597 non-null  float64\n",
      " 5   sqft_living    21597 non-null  int64  \n",
      " 6   sqft_lot       21597 non-null  int64  \n",
      " 7   floors         21597 non-null  float64\n",
      " 8   waterfront     19221 non-null  float64\n",
      " 9   view           21534 non-null  float64\n",
      " 10  condition      21597 non-null  int64  \n",
      " 11  grade          21597 non-null  int64  \n",
      " 12  sqft_above     21597 non-null  int64  \n",
      " 13  sqft_basement  21597 non-null  object \n",
      " 14  yr_built       21597 non-null  int64  \n",
      " 15  yr_renovated   17755 non-null  float64\n",
      " 16  zipcode        21597 non-null  int64  \n",
      " 17  lat            21597 non-null  float64\n",
      " 18  long           21597 non-null  float64\n",
      " 19  sqft_living15  21597 non-null  int64  \n",
      " 20  sqft_lot15     21597 non-null  int64  \n",
      "dtypes: float64(8), int64(11), object(2)\n",
      "memory usage: 3.5+ MB\n"
     ]
    }
   ],
   "source": [
    "df=pd.read_csv('data/kc_house_data.csv')\n",
    "df.info()"
   ]
  },
  {
   "cell_type": "markdown",
   "metadata": {},
   "source": [
    "waterfront and yr_renovated have null values that need to be addressed.\n",
    "\n",
    "id, date, view are not applicable to a model for house pricing and will be removed\n",
    "\n",
    "zipcode, lat, long will be replaced with a city column"
   ]
  },
  {
   "cell_type": "code",
   "execution_count": 117,
   "metadata": {
    "scrolled": true
   },
   "outputs": [
    {
     "data": {
      "text/html": [
       "<div>\n",
       "<style scoped>\n",
       "    .dataframe tbody tr th:only-of-type {\n",
       "        vertical-align: middle;\n",
       "    }\n",
       "\n",
       "    .dataframe tbody tr th {\n",
       "        vertical-align: top;\n",
       "    }\n",
       "\n",
       "    .dataframe thead th {\n",
       "        text-align: right;\n",
       "    }\n",
       "</style>\n",
       "<table border=\"1\" class=\"dataframe\">\n",
       "  <thead>\n",
       "    <tr style=\"text-align: right;\">\n",
       "      <th></th>\n",
       "      <th>id</th>\n",
       "      <th>date</th>\n",
       "      <th>price</th>\n",
       "      <th>bedrooms</th>\n",
       "      <th>bathrooms</th>\n",
       "      <th>sqft_living</th>\n",
       "      <th>sqft_lot</th>\n",
       "      <th>floors</th>\n",
       "      <th>waterfront</th>\n",
       "      <th>view</th>\n",
       "      <th>...</th>\n",
       "      <th>grade</th>\n",
       "      <th>sqft_above</th>\n",
       "      <th>sqft_basement</th>\n",
       "      <th>yr_built</th>\n",
       "      <th>yr_renovated</th>\n",
       "      <th>zipcode</th>\n",
       "      <th>lat</th>\n",
       "      <th>long</th>\n",
       "      <th>sqft_living15</th>\n",
       "      <th>sqft_lot15</th>\n",
       "    </tr>\n",
       "  </thead>\n",
       "  <tbody>\n",
       "    <tr>\n",
       "      <th>0</th>\n",
       "      <td>7129300520</td>\n",
       "      <td>10/13/2014</td>\n",
       "      <td>221900.0</td>\n",
       "      <td>3</td>\n",
       "      <td>1.00</td>\n",
       "      <td>1180</td>\n",
       "      <td>5650</td>\n",
       "      <td>1.0</td>\n",
       "      <td>NaN</td>\n",
       "      <td>0.0</td>\n",
       "      <td>...</td>\n",
       "      <td>7</td>\n",
       "      <td>1180</td>\n",
       "      <td>0.0</td>\n",
       "      <td>1955</td>\n",
       "      <td>0.0</td>\n",
       "      <td>98178</td>\n",
       "      <td>47.5112</td>\n",
       "      <td>-122.257</td>\n",
       "      <td>1340</td>\n",
       "      <td>5650</td>\n",
       "    </tr>\n",
       "    <tr>\n",
       "      <th>1</th>\n",
       "      <td>6414100192</td>\n",
       "      <td>12/9/2014</td>\n",
       "      <td>538000.0</td>\n",
       "      <td>3</td>\n",
       "      <td>2.25</td>\n",
       "      <td>2570</td>\n",
       "      <td>7242</td>\n",
       "      <td>2.0</td>\n",
       "      <td>0.0</td>\n",
       "      <td>0.0</td>\n",
       "      <td>...</td>\n",
       "      <td>7</td>\n",
       "      <td>2170</td>\n",
       "      <td>400.0</td>\n",
       "      <td>1951</td>\n",
       "      <td>1991.0</td>\n",
       "      <td>98125</td>\n",
       "      <td>47.7210</td>\n",
       "      <td>-122.319</td>\n",
       "      <td>1690</td>\n",
       "      <td>7639</td>\n",
       "    </tr>\n",
       "    <tr>\n",
       "      <th>2</th>\n",
       "      <td>5631500400</td>\n",
       "      <td>2/25/2015</td>\n",
       "      <td>180000.0</td>\n",
       "      <td>2</td>\n",
       "      <td>1.00</td>\n",
       "      <td>770</td>\n",
       "      <td>10000</td>\n",
       "      <td>1.0</td>\n",
       "      <td>0.0</td>\n",
       "      <td>0.0</td>\n",
       "      <td>...</td>\n",
       "      <td>6</td>\n",
       "      <td>770</td>\n",
       "      <td>0.0</td>\n",
       "      <td>1933</td>\n",
       "      <td>NaN</td>\n",
       "      <td>98028</td>\n",
       "      <td>47.7379</td>\n",
       "      <td>-122.233</td>\n",
       "      <td>2720</td>\n",
       "      <td>8062</td>\n",
       "    </tr>\n",
       "    <tr>\n",
       "      <th>3</th>\n",
       "      <td>2487200875</td>\n",
       "      <td>12/9/2014</td>\n",
       "      <td>604000.0</td>\n",
       "      <td>4</td>\n",
       "      <td>3.00</td>\n",
       "      <td>1960</td>\n",
       "      <td>5000</td>\n",
       "      <td>1.0</td>\n",
       "      <td>0.0</td>\n",
       "      <td>0.0</td>\n",
       "      <td>...</td>\n",
       "      <td>7</td>\n",
       "      <td>1050</td>\n",
       "      <td>910.0</td>\n",
       "      <td>1965</td>\n",
       "      <td>0.0</td>\n",
       "      <td>98136</td>\n",
       "      <td>47.5208</td>\n",
       "      <td>-122.393</td>\n",
       "      <td>1360</td>\n",
       "      <td>5000</td>\n",
       "    </tr>\n",
       "    <tr>\n",
       "      <th>4</th>\n",
       "      <td>1954400510</td>\n",
       "      <td>2/18/2015</td>\n",
       "      <td>510000.0</td>\n",
       "      <td>3</td>\n",
       "      <td>2.00</td>\n",
       "      <td>1680</td>\n",
       "      <td>8080</td>\n",
       "      <td>1.0</td>\n",
       "      <td>0.0</td>\n",
       "      <td>0.0</td>\n",
       "      <td>...</td>\n",
       "      <td>8</td>\n",
       "      <td>1680</td>\n",
       "      <td>0.0</td>\n",
       "      <td>1987</td>\n",
       "      <td>0.0</td>\n",
       "      <td>98074</td>\n",
       "      <td>47.6168</td>\n",
       "      <td>-122.045</td>\n",
       "      <td>1800</td>\n",
       "      <td>7503</td>\n",
       "    </tr>\n",
       "  </tbody>\n",
       "</table>\n",
       "<p>5 rows × 21 columns</p>\n",
       "</div>"
      ],
      "text/plain": [
       "           id        date     price  bedrooms  bathrooms  sqft_living  \\\n",
       "0  7129300520  10/13/2014  221900.0         3       1.00         1180   \n",
       "1  6414100192   12/9/2014  538000.0         3       2.25         2570   \n",
       "2  5631500400   2/25/2015  180000.0         2       1.00          770   \n",
       "3  2487200875   12/9/2014  604000.0         4       3.00         1960   \n",
       "4  1954400510   2/18/2015  510000.0         3       2.00         1680   \n",
       "\n",
       "   sqft_lot  floors  waterfront  view  ...  grade  sqft_above  sqft_basement  \\\n",
       "0      5650     1.0         NaN   0.0  ...      7        1180            0.0   \n",
       "1      7242     2.0         0.0   0.0  ...      7        2170          400.0   \n",
       "2     10000     1.0         0.0   0.0  ...      6         770            0.0   \n",
       "3      5000     1.0         0.0   0.0  ...      7        1050          910.0   \n",
       "4      8080     1.0         0.0   0.0  ...      8        1680            0.0   \n",
       "\n",
       "  yr_built  yr_renovated  zipcode      lat     long  sqft_living15  sqft_lot15  \n",
       "0     1955           0.0    98178  47.5112 -122.257           1340        5650  \n",
       "1     1951        1991.0    98125  47.7210 -122.319           1690        7639  \n",
       "2     1933           NaN    98028  47.7379 -122.233           2720        8062  \n",
       "3     1965           0.0    98136  47.5208 -122.393           1360        5000  \n",
       "4     1987           0.0    98074  47.6168 -122.045           1800        7503  \n",
       "\n",
       "[5 rows x 21 columns]"
      ]
     },
     "execution_count": 117,
     "metadata": {},
     "output_type": "execute_result"
    }
   ],
   "source": [
    "df.head()"
   ]
  },
  {
   "cell_type": "code",
   "execution_count": 118,
   "metadata": {},
   "outputs": [
    {
     "data": {
      "text/plain": [
       "count    21597.000000\n",
       "mean      2014.322962\n",
       "std          0.467619\n",
       "min       2014.000000\n",
       "25%       2014.000000\n",
       "50%       2014.000000\n",
       "75%       2015.000000\n",
       "max       2015.000000\n",
       "Name: date, dtype: float64"
      ]
     },
     "execution_count": 118,
     "metadata": {},
     "output_type": "execute_result"
    }
   ],
   "source": [
    "#Examine timeframe homes were sold in\n",
    "years=df['date'].apply(lambda x: int(x[-4:]))\n",
    "years.describe()"
   ]
  },
  {
   "cell_type": "markdown",
   "metadata": {},
   "source": [
    "These homes were all sold in 2014 and 2015. This model would be most useful in 2015/2016, since the real estate market changes significantly over time."
   ]
  },
  {
   "cell_type": "markdown",
   "metadata": {},
   "source": [
    "### waterfront ###\n",
    "\n",
    "For this variable, 1.0 represents waterfront properties and 0.0 represents not waterfront. Replace null values with 0, since we will assume they are not waterfront."
   ]
  },
  {
   "cell_type": "code",
   "execution_count": 119,
   "metadata": {},
   "outputs": [
    {
     "data": {
      "text/plain": [
       "0.0    19075\n",
       "1.0      146\n",
       "Name: waterfront, dtype: int64"
      ]
     },
     "execution_count": 119,
     "metadata": {},
     "output_type": "execute_result"
    }
   ],
   "source": [
    "df['waterfront'].value_counts()"
   ]
  },
  {
   "cell_type": "code",
   "execution_count": 120,
   "metadata": {},
   "outputs": [
    {
     "data": {
      "text/plain": [
       "2376"
      ]
     },
     "execution_count": 120,
     "metadata": {},
     "output_type": "execute_result"
    }
   ],
   "source": [
    "#check number of null values\n",
    "df['waterfront'].isnull().sum()"
   ]
  },
  {
   "cell_type": "code",
   "execution_count": 121,
   "metadata": {},
   "outputs": [
    {
     "data": {
      "text/plain": [
       "0.0    21451\n",
       "1.0      146\n",
       "Name: waterfront, dtype: int64"
      ]
     },
     "execution_count": 121,
     "metadata": {},
     "output_type": "execute_result"
    }
   ],
   "source": [
    "#fill null values with 0.0\n",
    "df['waterfront'].fillna(0.0,inplace=True)\n",
    "df['waterfront'].value_counts()"
   ]
  },
  {
   "cell_type": "markdown",
   "metadata": {},
   "source": [
    "### yr_renovated ###\n",
    "\n",
    "Use the yr_renovated column to make a new column that distinguishes whether or not the house has been renovated. Value for 'renovated' will be 1 and 'not-renovated' will be 0. Null values and values of 0 in yr_renovated will assume to be 'not-renovated'."
   ]
  },
  {
   "cell_type": "code",
   "execution_count": 122,
   "metadata": {},
   "outputs": [
    {
     "data": {
      "text/plain": [
       "3842"
      ]
     },
     "execution_count": 122,
     "metadata": {},
     "output_type": "execute_result"
    }
   ],
   "source": [
    "df['yr_renovated'].isnull().sum()"
   ]
  },
  {
   "cell_type": "code",
   "execution_count": 123,
   "metadata": {},
   "outputs": [
    {
     "data": {
      "text/plain": [
       "0.0       17011\n",
       "2014.0       73\n",
       "2003.0       31\n",
       "2013.0       31\n",
       "2007.0       30\n",
       "Name: yr_renovated, dtype: int64"
      ]
     },
     "execution_count": 123,
     "metadata": {},
     "output_type": "execute_result"
    }
   ],
   "source": [
    "df['yr_renovated'].value_counts().head()"
   ]
  },
  {
   "cell_type": "code",
   "execution_count": 124,
   "metadata": {},
   "outputs": [
    {
     "data": {
      "text/plain": [
       "0.0    20853\n",
       "1.0      744\n",
       "Name: yr_renovated, dtype: int64"
      ]
     },
     "execution_count": 124,
     "metadata": {},
     "output_type": "execute_result"
    }
   ],
   "source": [
    "#create new series and fill null/zero values with 0.0 and all others with 1.0\n",
    "ren_col=df['yr_renovated'].copy()\n",
    "ren_col.fillna(0.0,inplace=True)\n",
    "ren_col=ren_col.apply(lambda x: 1 if x!=0 else x)\n",
    "ren_col.value_counts()"
   ]
  },
  {
   "cell_type": "code",
   "execution_count": 125,
   "metadata": {},
   "outputs": [],
   "source": [
    "#add renovated column to df\n",
    "df['renovated']=ren_col"
   ]
  },
  {
   "cell_type": "markdown",
   "metadata": {},
   "source": [
    "### sqft_basement ###\n",
    "\n",
    "Change this column to numeric values and create new column that denotes having a basement with value 1 and not having a basement with value 0."
   ]
  },
  {
   "cell_type": "code",
   "execution_count": 126,
   "metadata": {},
   "outputs": [
    {
     "data": {
      "text/plain": [
       "0.0      12826\n",
       "?          454\n",
       "600.0      217\n",
       "500.0      209\n",
       "700.0      208\n",
       "Name: sqft_basement, dtype: int64"
      ]
     },
     "execution_count": 126,
     "metadata": {},
     "output_type": "execute_result"
    }
   ],
   "source": [
    "df['sqft_basement'].value_counts().head()"
   ]
  },
  {
   "cell_type": "markdown",
   "metadata": {},
   "source": [
    "Need to address '?' value. Will assume no basement."
   ]
  },
  {
   "cell_type": "code",
   "execution_count": 127,
   "metadata": {},
   "outputs": [
    {
     "data": {
      "text/plain": [
       "415.0     1\n",
       "172.0     1\n",
       "1248.0    1\n",
       "3480.0    1\n",
       "792.0     1\n",
       "Name: sqft_basement, dtype: int64"
      ]
     },
     "execution_count": 127,
     "metadata": {},
     "output_type": "execute_result"
    }
   ],
   "source": [
    "df['sqft_basement'].value_counts().tail()"
   ]
  },
  {
   "cell_type": "code",
   "execution_count": 128,
   "metadata": {},
   "outputs": [
    {
     "data": {
      "text/plain": [
       "0.0      12826\n",
       "0.0        454\n",
       "600.0      217\n",
       "500.0      209\n",
       "700.0      208\n",
       "Name: sqft_basement, dtype: int64"
      ]
     },
     "execution_count": 128,
     "metadata": {},
     "output_type": "execute_result"
    }
   ],
   "source": [
    "#Make all '?' values 0.0\n",
    "df['sqft_basement']=df['sqft_basement'].apply(lambda x:\n",
    "                                             0.0 if x=='?' else x)\n",
    "df['sqft_basement'].value_counts().head()"
   ]
  },
  {
   "cell_type": "code",
   "execution_count": 129,
   "metadata": {},
   "outputs": [
    {
     "data": {
      "text/plain": [
       "0.0      13280\n",
       "600.0      217\n",
       "500.0      209\n",
       "700.0      208\n",
       "800.0      201\n",
       "Name: sqft_basement, dtype: int64"
      ]
     },
     "execution_count": 129,
     "metadata": {},
     "output_type": "execute_result"
    }
   ],
   "source": [
    "df['sqft_basement']=df['sqft_basement'].astype(float)\n",
    "df['sqft_basement'].value_counts().head()"
   ]
  },
  {
   "cell_type": "code",
   "execution_count": 130,
   "metadata": {},
   "outputs": [
    {
     "data": {
      "text/plain": [
       "0.0    13280\n",
       "1.0     8317\n",
       "Name: basement, dtype: int64"
      ]
     },
     "execution_count": 130,
     "metadata": {},
     "output_type": "execute_result"
    }
   ],
   "source": [
    "#For all homes with sqft_basement greater than 0, denote having basement with 1\n",
    "df['basement']=df['sqft_basement'].apply(lambda x: 1 if x!=0 else x)\n",
    "df['basement'].value_counts()"
   ]
  },
  {
   "cell_type": "markdown",
   "metadata": {},
   "source": [
    "### drop columns that aren't applicable ###\n",
    "\n",
    "Id, date, and view are not applicable to this model so we will drop them.  We'll also drop yr_renovated and sqft_basement since the presence of 0 to denote not having the feature will affect the model."
   ]
  },
  {
   "cell_type": "code",
   "execution_count": 131,
   "metadata": {
    "scrolled": true
   },
   "outputs": [
    {
     "name": "stdout",
     "output_type": "stream",
     "text": [
      "<class 'pandas.core.frame.DataFrame'>\n",
      "RangeIndex: 21597 entries, 0 to 21596\n",
      "Data columns (total 18 columns):\n",
      " #   Column         Non-Null Count  Dtype  \n",
      "---  ------         --------------  -----  \n",
      " 0   price          21597 non-null  float64\n",
      " 1   bedrooms       21597 non-null  int64  \n",
      " 2   bathrooms      21597 non-null  float64\n",
      " 3   sqft_living    21597 non-null  int64  \n",
      " 4   sqft_lot       21597 non-null  int64  \n",
      " 5   floors         21597 non-null  float64\n",
      " 6   waterfront     21597 non-null  float64\n",
      " 7   condition      21597 non-null  int64  \n",
      " 8   grade          21597 non-null  int64  \n",
      " 9   sqft_above     21597 non-null  int64  \n",
      " 10  yr_built       21597 non-null  int64  \n",
      " 11  zipcode        21597 non-null  int64  \n",
      " 12  lat            21597 non-null  float64\n",
      " 13  long           21597 non-null  float64\n",
      " 14  sqft_living15  21597 non-null  int64  \n",
      " 15  sqft_lot15     21597 non-null  int64  \n",
      " 16  renovated      21597 non-null  float64\n",
      " 17  basement       21597 non-null  float64\n",
      "dtypes: float64(8), int64(10)\n",
      "memory usage: 3.0 MB\n"
     ]
    }
   ],
   "source": [
    "df.drop(columns=['id','date','view','yr_renovated','sqft_basement'],\n",
    "        inplace=True)\n",
    "df.info()"
   ]
  },
  {
   "cell_type": "markdown",
   "metadata": {},
   "source": [
    "### Create city feature ###\n",
    "\n",
    "Drop zipcode, lat, long after city created"
   ]
  },
  {
   "cell_type": "markdown",
   "metadata": {},
   "source": [
    "Use BeautifulSoup to webscrape a list of cities corresponding to zipcodes in King County and create a dictionary of zipcodes and cities."
   ]
  },
  {
   "cell_type": "code",
   "execution_count": 132,
   "metadata": {},
   "outputs": [],
   "source": [
    "zip_url='https://www.zip-codes.com/county/wa-king.asp'\n",
    "response=requests.get(zip_url)\n",
    "soup=BeautifulSoup(response.content,'html.parser')"
   ]
  },
  {
   "cell_type": "code",
   "execution_count": 133,
   "metadata": {},
   "outputs": [],
   "source": [
    "labels=soup.findAll('td',attrs={\"class\":\"label\"})\n",
    "zip_city={}\n",
    "\n",
    "for x in labels:\n",
    "    class_a=x.find('a',attrs={\"style\":\"text-decoration:underline;\"})\n",
    "    if class_a != None:\n",
    "        title=class_a.get('title')\n",
    "        zip_code=int(title[9:14])\n",
    "        city=title[16:-4]\n",
    "        zip_city[zip_code]=city"
   ]
  },
  {
   "cell_type": "code",
   "execution_count": 134,
   "metadata": {},
   "outputs": [
    {
     "data": {
      "text/plain": [
       "{98001: 'AUBURN',\n",
       " 98002: 'AUBURN',\n",
       " 98003: 'FEDERAL WAY',\n",
       " 98004: 'BELLEVUE',\n",
       " 98005: 'BELLEVUE',\n",
       " 98006: 'BELLEVUE',\n",
       " 98007: 'BELLEVUE',\n",
       " 98008: 'BELLEVUE',\n",
       " 98009: 'BELLEVUE',\n",
       " 98010: 'BLACK DIAMOND',\n",
       " 98011: 'BOTHELL',\n",
       " 98013: 'BURTON',\n",
       " 98014: 'CARNATION',\n",
       " 98015: 'BELLEVUE',\n",
       " 98019: 'DUVALL',\n",
       " 98022: 'ENUMCLAW',\n",
       " 98023: 'FEDERAL WAY',\n",
       " 98024: 'FALL CITY',\n",
       " 98025: 'HOBART',\n",
       " 98027: 'ISSAQUAH',\n",
       " 98028: 'KENMORE',\n",
       " 98029: 'ISSAQUAH',\n",
       " 98030: 'KENT',\n",
       " 98031: 'KENT',\n",
       " 98032: 'KENT',\n",
       " 98033: 'KIRKLAND',\n",
       " 98034: 'KIRKLAND',\n",
       " 98035: 'KENT',\n",
       " 98038: 'MAPLE VALLEY',\n",
       " 98039: 'MEDINA',\n",
       " 98040: 'MERCER ISLAND',\n",
       " 98041: 'BOTHELL',\n",
       " 98042: 'KENT',\n",
       " 98045: 'NORTH BEND',\n",
       " 98047: 'PACIFIC',\n",
       " 98050: 'PRESTON',\n",
       " 98051: 'RAVENSDALE',\n",
       " 98052: 'REDMOND',\n",
       " 98053: 'REDMOND',\n",
       " 98055: 'RENTON',\n",
       " 98056: 'RENTON',\n",
       " 98057: 'RENTON',\n",
       " 98058: 'RENTON',\n",
       " 98059: 'RENTON',\n",
       " 98062: 'SEAHURST',\n",
       " 98063: 'FEDERAL WAY',\n",
       " 98064: 'KENT',\n",
       " 98065: 'SNOQUALMIE',\n",
       " 98070: 'VASHON',\n",
       " 98071: 'AUBURN',\n",
       " 98072: 'WOODINVILLE',\n",
       " 98073: 'REDMOND',\n",
       " 98074: 'SAMMAMISH',\n",
       " 98075: 'SAMMAMISH',\n",
       " 98077: 'WOODINVILLE',\n",
       " 98083: 'KIRKLAND',\n",
       " 98089: 'KENT',\n",
       " 98092: 'AUBURN',\n",
       " 98093: 'FEDERAL WAY',\n",
       " 98101: 'SEATTLE',\n",
       " 98102: 'SEATTLE',\n",
       " 98103: 'SEATTLE',\n",
       " 98104: 'SEATTLE',\n",
       " 98105: 'SEATTLE',\n",
       " 98106: 'SEATTLE',\n",
       " 98107: 'SEATTLE',\n",
       " 98108: 'SEATTLE',\n",
       " 98109: 'SEATTLE',\n",
       " 98111: 'SEATTLE',\n",
       " 98112: 'SEATTLE',\n",
       " 98113: 'SEATTLE',\n",
       " 98114: 'SEATTLE',\n",
       " 98115: 'SEATTLE',\n",
       " 98116: 'SEATTLE',\n",
       " 98117: 'SEATTLE',\n",
       " 98118: 'SEATTLE',\n",
       " 98119: 'SEATTLE',\n",
       " 98121: 'SEATTLE',\n",
       " 98122: 'SEATTLE',\n",
       " 98124: 'SEATTLE',\n",
       " 98125: 'SEATTLE',\n",
       " 98126: 'SEATTLE',\n",
       " 98127: 'SEATTLE',\n",
       " 98129: 'SEATTLE',\n",
       " 98131: 'SEATTLE',\n",
       " 98133: 'SEATTLE',\n",
       " 98134: 'SEATTLE',\n",
       " 98136: 'SEATTLE',\n",
       " 98138: 'SEATTLE',\n",
       " 98139: 'SEATTLE',\n",
       " 98141: 'SEATTLE',\n",
       " 98144: 'SEATTLE',\n",
       " 98145: 'SEATTLE',\n",
       " 98146: 'SEATTLE',\n",
       " 98148: 'SEATTLE',\n",
       " 98154: 'SEATTLE',\n",
       " 98155: 'SEATTLE',\n",
       " 98158: 'SEATTLE',\n",
       " 98160: 'SEATTLE',\n",
       " 98161: 'SEATTLE',\n",
       " 98164: 'SEATTLE',\n",
       " 98165: 'SEATTLE',\n",
       " 98166: 'SEATTLE',\n",
       " 98168: 'SEATTLE',\n",
       " 98170: 'SEATTLE',\n",
       " 98174: 'SEATTLE',\n",
       " 98175: 'SEATTLE',\n",
       " 98177: 'SEATTLE',\n",
       " 98178: 'SEATTLE',\n",
       " 98181: 'SEATTLE',\n",
       " 98185: 'SEATTLE',\n",
       " 98188: 'SEATTLE',\n",
       " 98190: 'SEATTLE',\n",
       " 98191: 'SEATTLE',\n",
       " 98194: 'SEATTLE',\n",
       " 98195: 'SEATTLE',\n",
       " 98198: 'SEATTLE',\n",
       " 98199: 'SEATTLE',\n",
       " 98224: 'BARING',\n",
       " 98288: 'SKYKOMISH'}"
      ]
     },
     "execution_count": 134,
     "metadata": {},
     "output_type": "execute_result"
    }
   ],
   "source": [
    "zip_city"
   ]
  },
  {
   "cell_type": "code",
   "execution_count": 135,
   "metadata": {},
   "outputs": [],
   "source": [
    "#create city column\n",
    "df['city']=df['zipcode'].map(zip_city)"
   ]
  },
  {
   "cell_type": "code",
   "execution_count": 136,
   "metadata": {
    "scrolled": true
   },
   "outputs": [
    {
     "data": {
      "text/plain": [
       "0      SEATTLE\n",
       "1      SEATTLE\n",
       "2      KENMORE\n",
       "3      SEATTLE\n",
       "4    SAMMAMISH\n",
       "Name: city, dtype: object"
      ]
     },
     "execution_count": 136,
     "metadata": {},
     "output_type": "execute_result"
    }
   ],
   "source": [
    "df['city'].head()"
   ]
  },
  {
   "cell_type": "code",
   "execution_count": 137,
   "metadata": {},
   "outputs": [],
   "source": [
    "#drop zipcode, lat, long columns now that there is city column\n",
    "df.drop(columns=['zipcode','lat','long'],inplace=True)"
   ]
  },
  {
   "cell_type": "code",
   "execution_count": 138,
   "metadata": {
    "scrolled": false
   },
   "outputs": [
    {
     "data": {
      "text/html": [
       "<div>\n",
       "<style scoped>\n",
       "    .dataframe tbody tr th:only-of-type {\n",
       "        vertical-align: middle;\n",
       "    }\n",
       "\n",
       "    .dataframe tbody tr th {\n",
       "        vertical-align: top;\n",
       "    }\n",
       "\n",
       "    .dataframe thead th {\n",
       "        text-align: right;\n",
       "    }\n",
       "</style>\n",
       "<table border=\"1\" class=\"dataframe\">\n",
       "  <thead>\n",
       "    <tr style=\"text-align: right;\">\n",
       "      <th></th>\n",
       "      <th>price</th>\n",
       "      <th>bedrooms</th>\n",
       "      <th>bathrooms</th>\n",
       "      <th>sqft_living</th>\n",
       "      <th>sqft_lot</th>\n",
       "      <th>floors</th>\n",
       "      <th>waterfront</th>\n",
       "      <th>condition</th>\n",
       "      <th>grade</th>\n",
       "      <th>sqft_above</th>\n",
       "      <th>yr_built</th>\n",
       "      <th>sqft_living15</th>\n",
       "      <th>sqft_lot15</th>\n",
       "      <th>renovated</th>\n",
       "      <th>basement</th>\n",
       "      <th>city</th>\n",
       "    </tr>\n",
       "  </thead>\n",
       "  <tbody>\n",
       "    <tr>\n",
       "      <th>0</th>\n",
       "      <td>221900.0</td>\n",
       "      <td>3</td>\n",
       "      <td>1.00</td>\n",
       "      <td>1180</td>\n",
       "      <td>5650</td>\n",
       "      <td>1.0</td>\n",
       "      <td>0.0</td>\n",
       "      <td>3</td>\n",
       "      <td>7</td>\n",
       "      <td>1180</td>\n",
       "      <td>1955</td>\n",
       "      <td>1340</td>\n",
       "      <td>5650</td>\n",
       "      <td>0.0</td>\n",
       "      <td>0.0</td>\n",
       "      <td>SEATTLE</td>\n",
       "    </tr>\n",
       "    <tr>\n",
       "      <th>1</th>\n",
       "      <td>538000.0</td>\n",
       "      <td>3</td>\n",
       "      <td>2.25</td>\n",
       "      <td>2570</td>\n",
       "      <td>7242</td>\n",
       "      <td>2.0</td>\n",
       "      <td>0.0</td>\n",
       "      <td>3</td>\n",
       "      <td>7</td>\n",
       "      <td>2170</td>\n",
       "      <td>1951</td>\n",
       "      <td>1690</td>\n",
       "      <td>7639</td>\n",
       "      <td>1.0</td>\n",
       "      <td>1.0</td>\n",
       "      <td>SEATTLE</td>\n",
       "    </tr>\n",
       "    <tr>\n",
       "      <th>2</th>\n",
       "      <td>180000.0</td>\n",
       "      <td>2</td>\n",
       "      <td>1.00</td>\n",
       "      <td>770</td>\n",
       "      <td>10000</td>\n",
       "      <td>1.0</td>\n",
       "      <td>0.0</td>\n",
       "      <td>3</td>\n",
       "      <td>6</td>\n",
       "      <td>770</td>\n",
       "      <td>1933</td>\n",
       "      <td>2720</td>\n",
       "      <td>8062</td>\n",
       "      <td>0.0</td>\n",
       "      <td>0.0</td>\n",
       "      <td>KENMORE</td>\n",
       "    </tr>\n",
       "    <tr>\n",
       "      <th>3</th>\n",
       "      <td>604000.0</td>\n",
       "      <td>4</td>\n",
       "      <td>3.00</td>\n",
       "      <td>1960</td>\n",
       "      <td>5000</td>\n",
       "      <td>1.0</td>\n",
       "      <td>0.0</td>\n",
       "      <td>5</td>\n",
       "      <td>7</td>\n",
       "      <td>1050</td>\n",
       "      <td>1965</td>\n",
       "      <td>1360</td>\n",
       "      <td>5000</td>\n",
       "      <td>0.0</td>\n",
       "      <td>1.0</td>\n",
       "      <td>SEATTLE</td>\n",
       "    </tr>\n",
       "    <tr>\n",
       "      <th>4</th>\n",
       "      <td>510000.0</td>\n",
       "      <td>3</td>\n",
       "      <td>2.00</td>\n",
       "      <td>1680</td>\n",
       "      <td>8080</td>\n",
       "      <td>1.0</td>\n",
       "      <td>0.0</td>\n",
       "      <td>3</td>\n",
       "      <td>8</td>\n",
       "      <td>1680</td>\n",
       "      <td>1987</td>\n",
       "      <td>1800</td>\n",
       "      <td>7503</td>\n",
       "      <td>0.0</td>\n",
       "      <td>0.0</td>\n",
       "      <td>SAMMAMISH</td>\n",
       "    </tr>\n",
       "  </tbody>\n",
       "</table>\n",
       "</div>"
      ],
      "text/plain": [
       "      price  bedrooms  bathrooms  sqft_living  sqft_lot  floors  waterfront  \\\n",
       "0  221900.0         3       1.00         1180      5650     1.0         0.0   \n",
       "1  538000.0         3       2.25         2570      7242     2.0         0.0   \n",
       "2  180000.0         2       1.00          770     10000     1.0         0.0   \n",
       "3  604000.0         4       3.00         1960      5000     1.0         0.0   \n",
       "4  510000.0         3       2.00         1680      8080     1.0         0.0   \n",
       "\n",
       "   condition  grade  sqft_above  yr_built  sqft_living15  sqft_lot15  \\\n",
       "0          3      7        1180      1955           1340        5650   \n",
       "1          3      7        2170      1951           1690        7639   \n",
       "2          3      6         770      1933           2720        8062   \n",
       "3          5      7        1050      1965           1360        5000   \n",
       "4          3      8        1680      1987           1800        7503   \n",
       "\n",
       "   renovated  basement       city  \n",
       "0        0.0       0.0    SEATTLE  \n",
       "1        1.0       1.0    SEATTLE  \n",
       "2        0.0       0.0    KENMORE  \n",
       "3        0.0       1.0    SEATTLE  \n",
       "4        0.0       0.0  SAMMAMISH  "
      ]
     },
     "execution_count": 138,
     "metadata": {},
     "output_type": "execute_result"
    }
   ],
   "source": [
    "df.head()"
   ]
  },
  {
   "cell_type": "markdown",
   "metadata": {},
   "source": [
    "### Dummy variables for city ###"
   ]
  },
  {
   "cell_type": "code",
   "execution_count": 139,
   "metadata": {},
   "outputs": [
    {
     "data": {
      "text/plain": [
       "SEATTLE          8973\n",
       "RENTON           1597\n",
       "BELLEVUE         1407\n",
       "KENT             1201\n",
       "KIRKLAND          977\n",
       "REDMOND           977\n",
       "AUBURN            911\n",
       "SAMMAMISH         800\n",
       "FEDERAL WAY       779\n",
       "ISSAQUAH          733\n",
       "MAPLE VALLEY      589\n",
       "WOODINVILLE       471\n",
       "SNOQUALMIE        308\n",
       "KENMORE           283\n",
       "MERCER ISLAND     282\n",
       "ENUMCLAW          233\n",
       "NORTH BEND        220\n",
       "BOTHELL           195\n",
       "DUVALL            190\n",
       "CARNATION         124\n",
       "VASHON            117\n",
       "BLACK DIAMOND     100\n",
       "FALL CITY          80\n",
       "MEDINA             50\n",
       "Name: city, dtype: int64"
      ]
     },
     "execution_count": 139,
     "metadata": {},
     "output_type": "execute_result"
    }
   ],
   "source": [
    "df['city'].value_counts()"
   ]
  },
  {
   "cell_type": "code",
   "execution_count": 140,
   "metadata": {},
   "outputs": [
    {
     "data": {
      "text/html": [
       "<div>\n",
       "<style scoped>\n",
       "    .dataframe tbody tr th:only-of-type {\n",
       "        vertical-align: middle;\n",
       "    }\n",
       "\n",
       "    .dataframe tbody tr th {\n",
       "        vertical-align: top;\n",
       "    }\n",
       "\n",
       "    .dataframe thead th {\n",
       "        text-align: right;\n",
       "    }\n",
       "</style>\n",
       "<table border=\"1\" class=\"dataframe\">\n",
       "  <thead>\n",
       "    <tr style=\"text-align: right;\">\n",
       "      <th></th>\n",
       "      <th>AUBURN</th>\n",
       "      <th>BELLEVUE</th>\n",
       "      <th>BLACK DIAMOND</th>\n",
       "      <th>BOTHELL</th>\n",
       "      <th>CARNATION</th>\n",
       "      <th>DUVALL</th>\n",
       "      <th>ENUMCLAW</th>\n",
       "      <th>FALL CITY</th>\n",
       "      <th>FEDERAL WAY</th>\n",
       "      <th>ISSAQUAH</th>\n",
       "      <th>...</th>\n",
       "      <th>MAPLE VALLEY</th>\n",
       "      <th>MEDINA</th>\n",
       "      <th>MERCER ISLAND</th>\n",
       "      <th>NORTH BEND</th>\n",
       "      <th>REDMOND</th>\n",
       "      <th>RENTON</th>\n",
       "      <th>SAMMAMISH</th>\n",
       "      <th>SNOQUALMIE</th>\n",
       "      <th>VASHON</th>\n",
       "      <th>WOODINVILLE</th>\n",
       "    </tr>\n",
       "  </thead>\n",
       "  <tbody>\n",
       "    <tr>\n",
       "      <th>0</th>\n",
       "      <td>0</td>\n",
       "      <td>0</td>\n",
       "      <td>0</td>\n",
       "      <td>0</td>\n",
       "      <td>0</td>\n",
       "      <td>0</td>\n",
       "      <td>0</td>\n",
       "      <td>0</td>\n",
       "      <td>0</td>\n",
       "      <td>0</td>\n",
       "      <td>...</td>\n",
       "      <td>0</td>\n",
       "      <td>0</td>\n",
       "      <td>0</td>\n",
       "      <td>0</td>\n",
       "      <td>0</td>\n",
       "      <td>0</td>\n",
       "      <td>0</td>\n",
       "      <td>0</td>\n",
       "      <td>0</td>\n",
       "      <td>0</td>\n",
       "    </tr>\n",
       "    <tr>\n",
       "      <th>1</th>\n",
       "      <td>0</td>\n",
       "      <td>0</td>\n",
       "      <td>0</td>\n",
       "      <td>0</td>\n",
       "      <td>0</td>\n",
       "      <td>0</td>\n",
       "      <td>0</td>\n",
       "      <td>0</td>\n",
       "      <td>0</td>\n",
       "      <td>0</td>\n",
       "      <td>...</td>\n",
       "      <td>0</td>\n",
       "      <td>0</td>\n",
       "      <td>0</td>\n",
       "      <td>0</td>\n",
       "      <td>0</td>\n",
       "      <td>0</td>\n",
       "      <td>0</td>\n",
       "      <td>0</td>\n",
       "      <td>0</td>\n",
       "      <td>0</td>\n",
       "    </tr>\n",
       "    <tr>\n",
       "      <th>2</th>\n",
       "      <td>0</td>\n",
       "      <td>0</td>\n",
       "      <td>0</td>\n",
       "      <td>0</td>\n",
       "      <td>0</td>\n",
       "      <td>0</td>\n",
       "      <td>0</td>\n",
       "      <td>0</td>\n",
       "      <td>0</td>\n",
       "      <td>0</td>\n",
       "      <td>...</td>\n",
       "      <td>0</td>\n",
       "      <td>0</td>\n",
       "      <td>0</td>\n",
       "      <td>0</td>\n",
       "      <td>0</td>\n",
       "      <td>0</td>\n",
       "      <td>0</td>\n",
       "      <td>0</td>\n",
       "      <td>0</td>\n",
       "      <td>0</td>\n",
       "    </tr>\n",
       "    <tr>\n",
       "      <th>3</th>\n",
       "      <td>0</td>\n",
       "      <td>0</td>\n",
       "      <td>0</td>\n",
       "      <td>0</td>\n",
       "      <td>0</td>\n",
       "      <td>0</td>\n",
       "      <td>0</td>\n",
       "      <td>0</td>\n",
       "      <td>0</td>\n",
       "      <td>0</td>\n",
       "      <td>...</td>\n",
       "      <td>0</td>\n",
       "      <td>0</td>\n",
       "      <td>0</td>\n",
       "      <td>0</td>\n",
       "      <td>0</td>\n",
       "      <td>0</td>\n",
       "      <td>0</td>\n",
       "      <td>0</td>\n",
       "      <td>0</td>\n",
       "      <td>0</td>\n",
       "    </tr>\n",
       "    <tr>\n",
       "      <th>4</th>\n",
       "      <td>0</td>\n",
       "      <td>0</td>\n",
       "      <td>0</td>\n",
       "      <td>0</td>\n",
       "      <td>0</td>\n",
       "      <td>0</td>\n",
       "      <td>0</td>\n",
       "      <td>0</td>\n",
       "      <td>0</td>\n",
       "      <td>0</td>\n",
       "      <td>...</td>\n",
       "      <td>0</td>\n",
       "      <td>0</td>\n",
       "      <td>0</td>\n",
       "      <td>0</td>\n",
       "      <td>0</td>\n",
       "      <td>0</td>\n",
       "      <td>1</td>\n",
       "      <td>0</td>\n",
       "      <td>0</td>\n",
       "      <td>0</td>\n",
       "    </tr>\n",
       "  </tbody>\n",
       "</table>\n",
       "<p>5 rows × 23 columns</p>\n",
       "</div>"
      ],
      "text/plain": [
       "   AUBURN  BELLEVUE  BLACK DIAMOND  BOTHELL  CARNATION  DUVALL  ENUMCLAW  \\\n",
       "0       0         0              0        0          0       0         0   \n",
       "1       0         0              0        0          0       0         0   \n",
       "2       0         0              0        0          0       0         0   \n",
       "3       0         0              0        0          0       0         0   \n",
       "4       0         0              0        0          0       0         0   \n",
       "\n",
       "   FALL CITY  FEDERAL WAY  ISSAQUAH  ...  MAPLE VALLEY  MEDINA  MERCER ISLAND  \\\n",
       "0          0            0         0  ...             0       0              0   \n",
       "1          0            0         0  ...             0       0              0   \n",
       "2          0            0         0  ...             0       0              0   \n",
       "3          0            0         0  ...             0       0              0   \n",
       "4          0            0         0  ...             0       0              0   \n",
       "\n",
       "   NORTH BEND  REDMOND  RENTON  SAMMAMISH  SNOQUALMIE  VASHON  WOODINVILLE  \n",
       "0           0        0       0          0           0       0            0  \n",
       "1           0        0       0          0           0       0            0  \n",
       "2           0        0       0          0           0       0            0  \n",
       "3           0        0       0          0           0       0            0  \n",
       "4           0        0       0          1           0       0            0  \n",
       "\n",
       "[5 rows x 23 columns]"
      ]
     },
     "execution_count": 140,
     "metadata": {},
     "output_type": "execute_result"
    }
   ],
   "source": [
    "#create dummy variables for cities\n",
    "#drop Seattle since it is the most common city, so that it is the reference\n",
    "\n",
    "city_dummies=pd.get_dummies(df['city'])\n",
    "city_dummies.drop(columns=['SEATTLE'],inplace=True)\n",
    "city_dummies.head()"
   ]
  },
  {
   "cell_type": "code",
   "execution_count": 141,
   "metadata": {},
   "outputs": [
    {
     "data": {
      "text/html": [
       "<div>\n",
       "<style scoped>\n",
       "    .dataframe tbody tr th:only-of-type {\n",
       "        vertical-align: middle;\n",
       "    }\n",
       "\n",
       "    .dataframe tbody tr th {\n",
       "        vertical-align: top;\n",
       "    }\n",
       "\n",
       "    .dataframe thead th {\n",
       "        text-align: right;\n",
       "    }\n",
       "</style>\n",
       "<table border=\"1\" class=\"dataframe\">\n",
       "  <thead>\n",
       "    <tr style=\"text-align: right;\">\n",
       "      <th></th>\n",
       "      <th>price</th>\n",
       "      <th>bedrooms</th>\n",
       "      <th>bathrooms</th>\n",
       "      <th>sqft_living</th>\n",
       "      <th>sqft_lot</th>\n",
       "      <th>floors</th>\n",
       "      <th>waterfront</th>\n",
       "      <th>condition</th>\n",
       "      <th>grade</th>\n",
       "      <th>sqft_above</th>\n",
       "      <th>...</th>\n",
       "      <th>MAPLE VALLEY</th>\n",
       "      <th>MEDINA</th>\n",
       "      <th>MERCER ISLAND</th>\n",
       "      <th>NORTH BEND</th>\n",
       "      <th>REDMOND</th>\n",
       "      <th>RENTON</th>\n",
       "      <th>SAMMAMISH</th>\n",
       "      <th>SNOQUALMIE</th>\n",
       "      <th>VASHON</th>\n",
       "      <th>WOODINVILLE</th>\n",
       "    </tr>\n",
       "  </thead>\n",
       "  <tbody>\n",
       "    <tr>\n",
       "      <th>0</th>\n",
       "      <td>221900.0</td>\n",
       "      <td>3</td>\n",
       "      <td>1.00</td>\n",
       "      <td>1180</td>\n",
       "      <td>5650</td>\n",
       "      <td>1.0</td>\n",
       "      <td>0.0</td>\n",
       "      <td>3</td>\n",
       "      <td>7</td>\n",
       "      <td>1180</td>\n",
       "      <td>...</td>\n",
       "      <td>0</td>\n",
       "      <td>0</td>\n",
       "      <td>0</td>\n",
       "      <td>0</td>\n",
       "      <td>0</td>\n",
       "      <td>0</td>\n",
       "      <td>0</td>\n",
       "      <td>0</td>\n",
       "      <td>0</td>\n",
       "      <td>0</td>\n",
       "    </tr>\n",
       "    <tr>\n",
       "      <th>1</th>\n",
       "      <td>538000.0</td>\n",
       "      <td>3</td>\n",
       "      <td>2.25</td>\n",
       "      <td>2570</td>\n",
       "      <td>7242</td>\n",
       "      <td>2.0</td>\n",
       "      <td>0.0</td>\n",
       "      <td>3</td>\n",
       "      <td>7</td>\n",
       "      <td>2170</td>\n",
       "      <td>...</td>\n",
       "      <td>0</td>\n",
       "      <td>0</td>\n",
       "      <td>0</td>\n",
       "      <td>0</td>\n",
       "      <td>0</td>\n",
       "      <td>0</td>\n",
       "      <td>0</td>\n",
       "      <td>0</td>\n",
       "      <td>0</td>\n",
       "      <td>0</td>\n",
       "    </tr>\n",
       "    <tr>\n",
       "      <th>2</th>\n",
       "      <td>180000.0</td>\n",
       "      <td>2</td>\n",
       "      <td>1.00</td>\n",
       "      <td>770</td>\n",
       "      <td>10000</td>\n",
       "      <td>1.0</td>\n",
       "      <td>0.0</td>\n",
       "      <td>3</td>\n",
       "      <td>6</td>\n",
       "      <td>770</td>\n",
       "      <td>...</td>\n",
       "      <td>0</td>\n",
       "      <td>0</td>\n",
       "      <td>0</td>\n",
       "      <td>0</td>\n",
       "      <td>0</td>\n",
       "      <td>0</td>\n",
       "      <td>0</td>\n",
       "      <td>0</td>\n",
       "      <td>0</td>\n",
       "      <td>0</td>\n",
       "    </tr>\n",
       "    <tr>\n",
       "      <th>3</th>\n",
       "      <td>604000.0</td>\n",
       "      <td>4</td>\n",
       "      <td>3.00</td>\n",
       "      <td>1960</td>\n",
       "      <td>5000</td>\n",
       "      <td>1.0</td>\n",
       "      <td>0.0</td>\n",
       "      <td>5</td>\n",
       "      <td>7</td>\n",
       "      <td>1050</td>\n",
       "      <td>...</td>\n",
       "      <td>0</td>\n",
       "      <td>0</td>\n",
       "      <td>0</td>\n",
       "      <td>0</td>\n",
       "      <td>0</td>\n",
       "      <td>0</td>\n",
       "      <td>0</td>\n",
       "      <td>0</td>\n",
       "      <td>0</td>\n",
       "      <td>0</td>\n",
       "    </tr>\n",
       "    <tr>\n",
       "      <th>4</th>\n",
       "      <td>510000.0</td>\n",
       "      <td>3</td>\n",
       "      <td>2.00</td>\n",
       "      <td>1680</td>\n",
       "      <td>8080</td>\n",
       "      <td>1.0</td>\n",
       "      <td>0.0</td>\n",
       "      <td>3</td>\n",
       "      <td>8</td>\n",
       "      <td>1680</td>\n",
       "      <td>...</td>\n",
       "      <td>0</td>\n",
       "      <td>0</td>\n",
       "      <td>0</td>\n",
       "      <td>0</td>\n",
       "      <td>0</td>\n",
       "      <td>0</td>\n",
       "      <td>1</td>\n",
       "      <td>0</td>\n",
       "      <td>0</td>\n",
       "      <td>0</td>\n",
       "    </tr>\n",
       "  </tbody>\n",
       "</table>\n",
       "<p>5 rows × 38 columns</p>\n",
       "</div>"
      ],
      "text/plain": [
       "      price  bedrooms  bathrooms  sqft_living  sqft_lot  floors  waterfront  \\\n",
       "0  221900.0         3       1.00         1180      5650     1.0         0.0   \n",
       "1  538000.0         3       2.25         2570      7242     2.0         0.0   \n",
       "2  180000.0         2       1.00          770     10000     1.0         0.0   \n",
       "3  604000.0         4       3.00         1960      5000     1.0         0.0   \n",
       "4  510000.0         3       2.00         1680      8080     1.0         0.0   \n",
       "\n",
       "   condition  grade  sqft_above  ...  MAPLE VALLEY  MEDINA  MERCER ISLAND  \\\n",
       "0          3      7        1180  ...             0       0              0   \n",
       "1          3      7        2170  ...             0       0              0   \n",
       "2          3      6         770  ...             0       0              0   \n",
       "3          5      7        1050  ...             0       0              0   \n",
       "4          3      8        1680  ...             0       0              0   \n",
       "\n",
       "   NORTH BEND  REDMOND  RENTON  SAMMAMISH  SNOQUALMIE  VASHON  WOODINVILLE  \n",
       "0           0        0       0          0           0       0            0  \n",
       "1           0        0       0          0           0       0            0  \n",
       "2           0        0       0          0           0       0            0  \n",
       "3           0        0       0          0           0       0            0  \n",
       "4           0        0       0          1           0       0            0  \n",
       "\n",
       "[5 rows x 38 columns]"
      ]
     },
     "execution_count": 141,
     "metadata": {},
     "output_type": "execute_result"
    }
   ],
   "source": [
    "df_model=pd.concat([df,city_dummies],axis=1)\n",
    "df_model.drop(columns=['city'],inplace=True)\n",
    "df_model.head()"
   ]
  },
  {
   "cell_type": "markdown",
   "metadata": {},
   "source": [
    "## Build Linear Model ##"
   ]
  },
  {
   "cell_type": "markdown",
   "metadata": {},
   "source": [
    "### Initial Model ###"
   ]
  },
  {
   "cell_type": "code",
   "execution_count": 142,
   "metadata": {},
   "outputs": [],
   "source": [
    "X=df_model.drop(columns=['price'])\n",
    "y=df_model['price']"
   ]
  },
  {
   "cell_type": "code",
   "execution_count": 143,
   "metadata": {},
   "outputs": [],
   "source": [
    "#split test and train\n",
    "X_train, X_test, y_train, y_test = train_test_split(X,y,test_size=.2,\n",
    "                                                    random_state=40)"
   ]
  },
  {
   "cell_type": "code",
   "execution_count": 144,
   "metadata": {},
   "outputs": [
    {
     "data": {
      "text/html": [
       "<table class=\"simpletable\">\n",
       "<caption>OLS Regression Results</caption>\n",
       "<tr>\n",
       "  <th>Dep. Variable:</th>          <td>price</td>      <th>  R-squared:         </th>  <td>   0.729</td>  \n",
       "</tr>\n",
       "<tr>\n",
       "  <th>Model:</th>                   <td>OLS</td>       <th>  Adj. R-squared:    </th>  <td>   0.729</td>  \n",
       "</tr>\n",
       "<tr>\n",
       "  <th>Method:</th>             <td>Least Squares</td>  <th>  F-statistic:       </th>  <td>   1254.</td>  \n",
       "</tr>\n",
       "<tr>\n",
       "  <th>Date:</th>             <td>Wed, 15 Dec 2021</td> <th>  Prob (F-statistic):</th>   <td>  0.00</td>   \n",
       "</tr>\n",
       "<tr>\n",
       "  <th>Time:</th>                 <td>15:31:31</td>     <th>  Log-Likelihood:    </th> <td>-2.3464e+05</td>\n",
       "</tr>\n",
       "<tr>\n",
       "  <th>No. Observations:</th>      <td> 17277</td>      <th>  AIC:               </th>  <td>4.694e+05</td> \n",
       "</tr>\n",
       "<tr>\n",
       "  <th>Df Residuals:</th>          <td> 17239</td>      <th>  BIC:               </th>  <td>4.697e+05</td> \n",
       "</tr>\n",
       "<tr>\n",
       "  <th>Df Model:</th>              <td>    37</td>      <th>                     </th>      <td> </td>     \n",
       "</tr>\n",
       "<tr>\n",
       "  <th>Covariance Type:</th>      <td>nonrobust</td>    <th>                     </th>      <td> </td>     \n",
       "</tr>\n",
       "</table>\n",
       "<table class=\"simpletable\">\n",
       "<tr>\n",
       "        <td></td>           <th>coef</th>     <th>std err</th>      <th>t</th>      <th>P>|t|</th>  <th>[0.025</th>    <th>0.975]</th>  \n",
       "</tr>\n",
       "<tr>\n",
       "  <th>const</th>         <td> 4.182e+06</td> <td> 1.54e+05</td> <td>   27.231</td> <td> 0.000</td> <td> 3.88e+06</td> <td> 4.48e+06</td>\n",
       "</tr>\n",
       "<tr>\n",
       "  <th>bedrooms</th>      <td>-3.669e+04</td> <td> 2007.133</td> <td>  -18.280</td> <td> 0.000</td> <td>-4.06e+04</td> <td>-3.28e+04</td>\n",
       "</tr>\n",
       "<tr>\n",
       "  <th>bathrooms</th>     <td> 3.911e+04</td> <td> 3500.073</td> <td>   11.173</td> <td> 0.000</td> <td> 3.22e+04</td> <td>  4.6e+04</td>\n",
       "</tr>\n",
       "<tr>\n",
       "  <th>sqft_living</th>   <td>  163.0127</td> <td>    6.342</td> <td>   25.702</td> <td> 0.000</td> <td>  150.581</td> <td>  175.444</td>\n",
       "</tr>\n",
       "<tr>\n",
       "  <th>sqft_lot</th>      <td>    0.1929</td> <td>    0.050</td> <td>    3.863</td> <td> 0.000</td> <td>    0.095</td> <td>    0.291</td>\n",
       "</tr>\n",
       "<tr>\n",
       "  <th>floors</th>        <td> 2.292e+04</td> <td> 3955.249</td> <td>    5.795</td> <td> 0.000</td> <td> 1.52e+04</td> <td> 3.07e+04</td>\n",
       "</tr>\n",
       "<tr>\n",
       "  <th>waterfront</th>    <td> 7.607e+05</td> <td> 1.78e+04</td> <td>   42.657</td> <td> 0.000</td> <td> 7.26e+05</td> <td> 7.96e+05</td>\n",
       "</tr>\n",
       "<tr>\n",
       "  <th>condition</th>     <td> 2.498e+04</td> <td> 2532.957</td> <td>    9.862</td> <td> 0.000</td> <td>    2e+04</td> <td> 2.99e+04</td>\n",
       "</tr>\n",
       "<tr>\n",
       "  <th>grade</th>         <td> 9.409e+04</td> <td> 2332.267</td> <td>   40.344</td> <td> 0.000</td> <td> 8.95e+04</td> <td> 9.87e+04</td>\n",
       "</tr>\n",
       "<tr>\n",
       "  <th>sqft_above</th>    <td>    8.8306</td> <td>    7.008</td> <td>    1.260</td> <td> 0.208</td> <td>   -4.905</td> <td>   22.566</td>\n",
       "</tr>\n",
       "<tr>\n",
       "  <th>yr_built</th>      <td>-2440.6219</td> <td>   79.258</td> <td>  -30.793</td> <td> 0.000</td> <td>-2595.976</td> <td>-2285.268</td>\n",
       "</tr>\n",
       "<tr>\n",
       "  <th>sqft_living15</th> <td>   29.0370</td> <td>    3.706</td> <td>    7.834</td> <td> 0.000</td> <td>   21.772</td> <td>   36.302</td>\n",
       "</tr>\n",
       "<tr>\n",
       "  <th>sqft_lot15</th>    <td>   -0.3632</td> <td>    0.080</td> <td>   -4.568</td> <td> 0.000</td> <td>   -0.519</td> <td>   -0.207</td>\n",
       "</tr>\n",
       "<tr>\n",
       "  <th>renovated</th>     <td>  3.15e+04</td> <td> 8316.301</td> <td>    3.787</td> <td> 0.000</td> <td> 1.52e+04</td> <td> 4.78e+04</td>\n",
       "</tr>\n",
       "<tr>\n",
       "  <th>basement</th>      <td>-5061.1661</td> <td> 5421.219</td> <td>   -0.934</td> <td> 0.351</td> <td>-1.57e+04</td> <td> 5564.974</td>\n",
       "</tr>\n",
       "<tr>\n",
       "  <th>AUBURN</th>        <td>-2.098e+05</td> <td> 7869.259</td> <td>  -26.657</td> <td> 0.000</td> <td>-2.25e+05</td> <td>-1.94e+05</td>\n",
       "</tr>\n",
       "<tr>\n",
       "  <th>BELLEVUE</th>      <td> 1.277e+05</td> <td> 6737.991</td> <td>   18.949</td> <td> 0.000</td> <td> 1.14e+05</td> <td> 1.41e+05</td>\n",
       "</tr>\n",
       "<tr>\n",
       "  <th>BLACK DIAMOND</th> <td>  -1.3e+05</td> <td> 2.18e+04</td> <td>   -5.970</td> <td> 0.000</td> <td>-1.73e+05</td> <td>-8.73e+04</td>\n",
       "</tr>\n",
       "<tr>\n",
       "  <th>BOTHELL</th>       <td>-1.039e+05</td> <td> 1.58e+04</td> <td>   -6.587</td> <td> 0.000</td> <td>-1.35e+05</td> <td> -7.3e+04</td>\n",
       "</tr>\n",
       "<tr>\n",
       "  <th>CARNATION</th>     <td>-8.621e+04</td> <td> 1.97e+04</td> <td>   -4.370</td> <td> 0.000</td> <td>-1.25e+05</td> <td>-4.75e+04</td>\n",
       "</tr>\n",
       "<tr>\n",
       "  <th>DUVALL</th>        <td>-1.108e+05</td> <td> 1.61e+04</td> <td>   -6.903</td> <td> 0.000</td> <td>-1.42e+05</td> <td>-7.94e+04</td>\n",
       "</tr>\n",
       "<tr>\n",
       "  <th>ENUMCLAW</th>      <td>-1.708e+05</td> <td> 1.47e+04</td> <td>  -11.595</td> <td> 0.000</td> <td>   -2e+05</td> <td>-1.42e+05</td>\n",
       "</tr>\n",
       "<tr>\n",
       "  <th>FALL CITY</th>     <td>-2.346e+04</td> <td> 2.42e+04</td> <td>   -0.968</td> <td> 0.333</td> <td> -7.1e+04</td> <td>  2.4e+04</td>\n",
       "</tr>\n",
       "<tr>\n",
       "  <th>FEDERAL WAY</th>   <td>-2.444e+05</td> <td> 8362.136</td> <td>  -29.233</td> <td> 0.000</td> <td>-2.61e+05</td> <td>-2.28e+05</td>\n",
       "</tr>\n",
       "<tr>\n",
       "  <th>ISSAQUAH</th>      <td>-5.784e+04</td> <td> 8560.523</td> <td>   -6.756</td> <td> 0.000</td> <td>-7.46e+04</td> <td>-4.11e+04</td>\n",
       "</tr>\n",
       "<tr>\n",
       "  <th>KENMORE</th>       <td>-1.043e+05</td> <td> 1.31e+04</td> <td>   -7.961</td> <td> 0.000</td> <td> -1.3e+05</td> <td>-7.86e+04</td>\n",
       "</tr>\n",
       "<tr>\n",
       "  <th>KENT</th>          <td>-1.977e+05</td> <td> 7035.679</td> <td>  -28.102</td> <td> 0.000</td> <td>-2.12e+05</td> <td>-1.84e+05</td>\n",
       "</tr>\n",
       "<tr>\n",
       "  <th>KIRKLAND</th>      <td> 5.489e+04</td> <td> 7625.052</td> <td>    7.199</td> <td> 0.000</td> <td> 3.99e+04</td> <td> 6.98e+04</td>\n",
       "</tr>\n",
       "<tr>\n",
       "  <th>MAPLE VALLEY</th>  <td>-1.731e+05</td> <td> 9846.848</td> <td>  -17.580</td> <td> 0.000</td> <td>-1.92e+05</td> <td>-1.54e+05</td>\n",
       "</tr>\n",
       "<tr>\n",
       "  <th>MEDINA</th>        <td> 1.044e+06</td> <td> 3.11e+04</td> <td>   33.514</td> <td> 0.000</td> <td> 9.83e+05</td> <td>  1.1e+06</td>\n",
       "</tr>\n",
       "<tr>\n",
       "  <th>MERCER ISLAND</th> <td> 2.674e+05</td> <td> 1.37e+04</td> <td>   19.454</td> <td> 0.000</td> <td>  2.4e+05</td> <td> 2.94e+05</td>\n",
       "</tr>\n",
       "<tr>\n",
       "  <th>NORTH BEND</th>    <td>-1.024e+05</td> <td> 1.46e+04</td> <td>   -6.993</td> <td> 0.000</td> <td>-1.31e+05</td> <td>-7.37e+04</td>\n",
       "</tr>\n",
       "<tr>\n",
       "  <th>REDMOND</th>       <td> -1.44e+04</td> <td> 7899.579</td> <td>   -1.823</td> <td> 0.068</td> <td>-2.99e+04</td> <td> 1084.397</td>\n",
       "</tr>\n",
       "<tr>\n",
       "  <th>RENTON</th>        <td>-1.481e+05</td> <td> 6320.019</td> <td>  -23.433</td> <td> 0.000</td> <td> -1.6e+05</td> <td>-1.36e+05</td>\n",
       "</tr>\n",
       "<tr>\n",
       "  <th>SAMMAMISH</th>     <td>-8.052e+04</td> <td> 8687.947</td> <td>   -9.268</td> <td> 0.000</td> <td>-9.76e+04</td> <td>-6.35e+04</td>\n",
       "</tr>\n",
       "<tr>\n",
       "  <th>SNOQUALMIE</th>    <td>-1.215e+05</td> <td> 1.29e+04</td> <td>   -9.390</td> <td> 0.000</td> <td>-1.47e+05</td> <td>-9.62e+04</td>\n",
       "</tr>\n",
       "<tr>\n",
       "  <th>VASHON</th>        <td> -1.55e+05</td> <td> 2.03e+04</td> <td>   -7.652</td> <td> 0.000</td> <td>-1.95e+05</td> <td>-1.15e+05</td>\n",
       "</tr>\n",
       "<tr>\n",
       "  <th>WOODINVILLE</th>   <td>-1.038e+05</td> <td> 1.07e+04</td> <td>   -9.695</td> <td> 0.000</td> <td>-1.25e+05</td> <td>-8.28e+04</td>\n",
       "</tr>\n",
       "</table>\n",
       "<table class=\"simpletable\">\n",
       "<tr>\n",
       "  <th>Omnibus:</th>       <td>14612.793</td> <th>  Durbin-Watson:     </th>  <td>   1.991</td>  \n",
       "</tr>\n",
       "<tr>\n",
       "  <th>Prob(Omnibus):</th>  <td> 0.000</td>   <th>  Jarque-Bera (JB):  </th> <td>1624335.014</td>\n",
       "</tr>\n",
       "<tr>\n",
       "  <th>Skew:</th>           <td> 3.497</td>   <th>  Prob(JB):          </th>  <td>    0.00</td>  \n",
       "</tr>\n",
       "<tr>\n",
       "  <th>Kurtosis:</th>       <td>49.984</td>   <th>  Cond. No.          </th>  <td>5.36e+06</td>  \n",
       "</tr>\n",
       "</table><br/><br/>Notes:<br/>[1] Standard Errors assume that the covariance matrix of the errors is correctly specified.<br/>[2] The condition number is large, 5.36e+06. This might indicate that there are<br/>strong multicollinearity or other numerical problems."
      ],
      "text/plain": [
       "<class 'statsmodels.iolib.summary.Summary'>\n",
       "\"\"\"\n",
       "                            OLS Regression Results                            \n",
       "==============================================================================\n",
       "Dep. Variable:                  price   R-squared:                       0.729\n",
       "Model:                            OLS   Adj. R-squared:                  0.729\n",
       "Method:                 Least Squares   F-statistic:                     1254.\n",
       "Date:                Wed, 15 Dec 2021   Prob (F-statistic):               0.00\n",
       "Time:                        15:31:31   Log-Likelihood:            -2.3464e+05\n",
       "No. Observations:               17277   AIC:                         4.694e+05\n",
       "Df Residuals:                   17239   BIC:                         4.697e+05\n",
       "Df Model:                          37                                         \n",
       "Covariance Type:            nonrobust                                         \n",
       "=================================================================================\n",
       "                    coef    std err          t      P>|t|      [0.025      0.975]\n",
       "---------------------------------------------------------------------------------\n",
       "const          4.182e+06   1.54e+05     27.231      0.000    3.88e+06    4.48e+06\n",
       "bedrooms      -3.669e+04   2007.133    -18.280      0.000   -4.06e+04   -3.28e+04\n",
       "bathrooms      3.911e+04   3500.073     11.173      0.000    3.22e+04     4.6e+04\n",
       "sqft_living     163.0127      6.342     25.702      0.000     150.581     175.444\n",
       "sqft_lot          0.1929      0.050      3.863      0.000       0.095       0.291\n",
       "floors         2.292e+04   3955.249      5.795      0.000    1.52e+04    3.07e+04\n",
       "waterfront     7.607e+05   1.78e+04     42.657      0.000    7.26e+05    7.96e+05\n",
       "condition      2.498e+04   2532.957      9.862      0.000       2e+04    2.99e+04\n",
       "grade          9.409e+04   2332.267     40.344      0.000    8.95e+04    9.87e+04\n",
       "sqft_above        8.8306      7.008      1.260      0.208      -4.905      22.566\n",
       "yr_built      -2440.6219     79.258    -30.793      0.000   -2595.976   -2285.268\n",
       "sqft_living15    29.0370      3.706      7.834      0.000      21.772      36.302\n",
       "sqft_lot15       -0.3632      0.080     -4.568      0.000      -0.519      -0.207\n",
       "renovated       3.15e+04   8316.301      3.787      0.000    1.52e+04    4.78e+04\n",
       "basement      -5061.1661   5421.219     -0.934      0.351   -1.57e+04    5564.974\n",
       "AUBURN        -2.098e+05   7869.259    -26.657      0.000   -2.25e+05   -1.94e+05\n",
       "BELLEVUE       1.277e+05   6737.991     18.949      0.000    1.14e+05    1.41e+05\n",
       "BLACK DIAMOND   -1.3e+05   2.18e+04     -5.970      0.000   -1.73e+05   -8.73e+04\n",
       "BOTHELL       -1.039e+05   1.58e+04     -6.587      0.000   -1.35e+05    -7.3e+04\n",
       "CARNATION     -8.621e+04   1.97e+04     -4.370      0.000   -1.25e+05   -4.75e+04\n",
       "DUVALL        -1.108e+05   1.61e+04     -6.903      0.000   -1.42e+05   -7.94e+04\n",
       "ENUMCLAW      -1.708e+05   1.47e+04    -11.595      0.000      -2e+05   -1.42e+05\n",
       "FALL CITY     -2.346e+04   2.42e+04     -0.968      0.333    -7.1e+04     2.4e+04\n",
       "FEDERAL WAY   -2.444e+05   8362.136    -29.233      0.000   -2.61e+05   -2.28e+05\n",
       "ISSAQUAH      -5.784e+04   8560.523     -6.756      0.000   -7.46e+04   -4.11e+04\n",
       "KENMORE       -1.043e+05   1.31e+04     -7.961      0.000    -1.3e+05   -7.86e+04\n",
       "KENT          -1.977e+05   7035.679    -28.102      0.000   -2.12e+05   -1.84e+05\n",
       "KIRKLAND       5.489e+04   7625.052      7.199      0.000    3.99e+04    6.98e+04\n",
       "MAPLE VALLEY  -1.731e+05   9846.848    -17.580      0.000   -1.92e+05   -1.54e+05\n",
       "MEDINA         1.044e+06   3.11e+04     33.514      0.000    9.83e+05     1.1e+06\n",
       "MERCER ISLAND  2.674e+05   1.37e+04     19.454      0.000     2.4e+05    2.94e+05\n",
       "NORTH BEND    -1.024e+05   1.46e+04     -6.993      0.000   -1.31e+05   -7.37e+04\n",
       "REDMOND        -1.44e+04   7899.579     -1.823      0.068   -2.99e+04    1084.397\n",
       "RENTON        -1.481e+05   6320.019    -23.433      0.000    -1.6e+05   -1.36e+05\n",
       "SAMMAMISH     -8.052e+04   8687.947     -9.268      0.000   -9.76e+04   -6.35e+04\n",
       "SNOQUALMIE    -1.215e+05   1.29e+04     -9.390      0.000   -1.47e+05   -9.62e+04\n",
       "VASHON         -1.55e+05   2.03e+04     -7.652      0.000   -1.95e+05   -1.15e+05\n",
       "WOODINVILLE   -1.038e+05   1.07e+04     -9.695      0.000   -1.25e+05   -8.28e+04\n",
       "==============================================================================\n",
       "Omnibus:                    14612.793   Durbin-Watson:                   1.991\n",
       "Prob(Omnibus):                  0.000   Jarque-Bera (JB):          1624335.014\n",
       "Skew:                           3.497   Prob(JB):                         0.00\n",
       "Kurtosis:                      49.984   Cond. No.                     5.36e+06\n",
       "==============================================================================\n",
       "\n",
       "Notes:\n",
       "[1] Standard Errors assume that the covariance matrix of the errors is correctly specified.\n",
       "[2] The condition number is large, 5.36e+06. This might indicate that there are\n",
       "strong multicollinearity or other numerical problems.\n",
       "\"\"\""
      ]
     },
     "execution_count": 144,
     "metadata": {},
     "output_type": "execute_result"
    }
   ],
   "source": [
    "X_train_ols=sm.add_constant(X_train)\n",
    "model=sm.OLS(y_train,X_train_ols)\n",
    "results=model.fit()\n",
    "results.summary()"
   ]
  },
  {
   "cell_type": "markdown",
   "metadata": {},
   "source": [
    "**Initial Model Results**\n",
    "\n",
    "Initial R-squared value is .73 and all but basement, sqft_above, and two city dummies are significant to the .05 threshold.  There does appear to be issues with multicollinearity and the scale of the coefficients varies widely.  \n",
    "\n",
    "The underlying distributions of the non-categorical variables tend to be right skewed, so performing a log transformation on these could increase normality.\n",
    "\n",
    "Next step will be to perform log transformations on the non-categorical variables and scale them to using standardization."
   ]
  },
  {
   "cell_type": "markdown",
   "metadata": {},
   "source": [
    "### Log Transformation ###\n",
    "\n",
    "Identify features that would benefit from log transformation.  Waterfront, basement, renovated, and city will not be considered for log transformation since they are categorical 1/0."
   ]
  },
  {
   "cell_type": "code",
   "execution_count": 145,
   "metadata": {},
   "outputs": [
    {
     "data": {
      "image/png": "[encoded data removed]",
      "text/plain": [
       "<Figure size 1080x1080 with 16 Axes>"
      ]
     },
     "metadata": {
      "needs_background": "light"
     },
     "output_type": "display_data"
    }
   ],
   "source": [
    "#Look at distribution of variables with histplot. \n",
    "#Log transformation could make right skewed distributions more normal\n",
    "\n",
    "cols=df.columns\n",
    "\n",
    "fig,axes=plt.subplots(4,4,figsize=(15,15))\n",
    "\n",
    "for c,ax in enumerate(axes.flatten()):\n",
    "    sns.histplot(data=df[cols[c]],ax=ax)"
   ]
  },
  {
   "cell_type": "code",
   "execution_count": 146,
   "metadata": {},
   "outputs": [
    {
     "data": {
      "image/png": "[encoded data removed]",
      "text/plain": [
       "<Figure size 1080x1080 with 16 Axes>"
      ]
     },
     "metadata": {
      "needs_background": "light"
     },
     "output_type": "display_data"
    }
   ],
   "source": [
    "to_check=['sqft_living','bathrooms','sqft_lot',\n",
    "          'floors','sqft_above','yr_built','sqft_living15','sqft_lot15']\n",
    "#Check linearity of variables with price\n",
    "\n",
    "fig,axes=plt.subplots(4,4,figsize=(15,15))\n",
    "\n",
    "for n,ax in enumerate(axes.flatten()):\n",
    "    x=df[cols[n]]\n",
    "    ax.scatter(x,y)\n",
    "    ax.set_title(cols[n])"
   ]
  },
  {
   "cell_type": "markdown",
   "metadata": {},
   "source": [
    "**Choose features to log transform**\n",
    "\n",
    "price, sqft_living, bathrooms, sqft_lot, floors, sqft_above, grade, sqft_living15, and sqft_lot15 all have right skew and could potentially benefit from a log transformation. We will test if log transformation for bedrooms and grade also makes the relationship with price more linear. \n",
    "\n",
    "Next, log transformation will be performed on these and re-check distribution and linearity."
   ]
  },
  {
   "cell_type": "code",
   "execution_count": 147,
   "metadata": {},
   "outputs": [],
   "source": [
    "to_log=['price','sqft_living','bathrooms','bedrooms','sqft_lot',\n",
    "          'floors','sqft_above','sqft_living15','sqft_lot15','grade']\n",
    "df_log=np.log(df_model[to_log])\n",
    "y_log=np.log(y)"
   ]
  },
  {
   "cell_type": "code",
   "execution_count": 148,
   "metadata": {},
   "outputs": [
    {
     "data": {
      "image/png": "[encoded data removed]",
      "text/plain": [
       "<Figure size 864x576 with 12 Axes>"
      ]
     },
     "metadata": {
      "needs_background": "light"
     },
     "output_type": "display_data"
    }
   ],
   "source": [
    "#Check linearity with price after tranformation\n",
    "fig,axes=plt.subplots(3,4,figsize=(12,8))\n",
    "\n",
    "for n,ax in enumerate(axes.flatten()[:-2]):\n",
    "    x=df_log[to_log[n]]\n",
    "    ax.scatter(x,y_log)\n",
    "    ax.set_title(to_log[n])\n",
    "    \n",
    "plt.tight_layout()"
   ]
  },
  {
   "cell_type": "code",
   "execution_count": 149,
   "metadata": {
    "scrolled": true
   },
   "outputs": [
    {
     "data": {
      "image/png": "[encoded data removed]",
      "text/plain": [
       "<Figure size 864x576 with 12 Axes>"
      ]
     },
     "metadata": {
      "needs_background": "light"
     },
     "output_type": "display_data"
    }
   ],
   "source": [
    "#check normality of distribution after log transformation\n",
    "fig,axes=plt.subplots(3,4,figsize=(12,8))\n",
    "\n",
    "for n,ax in enumerate(axes.flatten()[:-2]):\n",
    "    x=df_log[to_log[n]]\n",
    "    ax.hist(x,bins='auto')\n",
    "    ax.set_title(to_log[n])\n",
    "    \n",
    "plt.tight_layout()"
   ]
  },
  {
   "cell_type": "code",
   "execution_count": 150,
   "metadata": {},
   "outputs": [],
   "source": [
    "def prepare_data(X,y):\n",
    "    \n",
    "    \"\"\"\n",
    "    input X and y, with rows/columns already filtered\n",
    "    does log transformation on required columns\n",
    "    \n",
    "    Returns transformed X, y\n",
    "    \"\"\"\n",
    "    \n",
    "    #log transform certain columnsin X\n",
    "    to_log=['sqft_living','bathrooms','bedrooms','sqft_lot',\n",
    "          'floors','sqft_above','sqft_living15','sqft_lot15','grade']\n",
    "    \n",
    "    cols=X.columns\n",
    "    log_cols=[c for c in cols if c in to_log]\n",
    "    log_df=np.log(X[log_cols])\n",
    "    new_df=pd.concat([X.drop(columns=log_cols),log_df],axis=1)\n",
    "    \n",
    "    #add 'log' to transformed column names\n",
    "    rename_dict={c:f'log_{c}' for c in log_cols}\n",
    "    new_df.rename(columns=rename_dict,inplace=True)\n",
    "    \n",
    "    #scale certain columns\n",
    "    #non_cat=['log_sqft_living','log_bathrooms','log_sqft_lot',\n",
    "     #     'log_floors','log_sqft_above','yr_built',\n",
    "      #   'log_bedrooms','condition','grade']\n",
    "    #s_df=new_df[non_cat]\n",
    "    #scale_df=(s_df-np.mean(s_df,axis=0))/np.sqrt(np.var(s_df,axis=0))\n",
    "    #ls_df=pd.concat([new_df.drop(columns=non_cat),scale_df],axis=1)\n",
    "    \n",
    "    #log transform y (price)\n",
    "    y_log=np.log(y)\n",
    "     \n",
    "    return new_df, y_log\n",
    "    "
   ]
  },
  {
   "cell_type": "markdown",
   "metadata": {},
   "source": [
    "Run regression for with log transformed features"
   ]
  },
  {
   "cell_type": "code",
   "execution_count": 151,
   "metadata": {},
   "outputs": [],
   "source": [
    "#run log transformation on training data\n",
    "X_train_log, y_train_log=prepare_data(X_train,y_train)"
   ]
  },
  {
   "cell_type": "markdown",
   "metadata": {},
   "source": [
    "Log transformation increased R-squared by ~.05"
   ]
  },
  {
   "cell_type": "code",
   "execution_count": 152,
   "metadata": {},
   "outputs": [
    {
     "data": {
      "text/html": [
       "<table class=\"simpletable\">\n",
       "<caption>OLS Regression Results</caption>\n",
       "<tr>\n",
       "  <th>Dep. Variable:</th>          <td>price</td>      <th>  R-squared:         </th> <td>   0.782</td>\n",
       "</tr>\n",
       "<tr>\n",
       "  <th>Model:</th>                   <td>OLS</td>       <th>  Adj. R-squared:    </th> <td>   0.781</td>\n",
       "</tr>\n",
       "<tr>\n",
       "  <th>Method:</th>             <td>Least Squares</td>  <th>  F-statistic:       </th> <td>   1667.</td>\n",
       "</tr>\n",
       "<tr>\n",
       "  <th>Date:</th>             <td>Wed, 15 Dec 2021</td> <th>  Prob (F-statistic):</th>  <td>  0.00</td> \n",
       "</tr>\n",
       "<tr>\n",
       "  <th>Time:</th>                 <td>15:31:48</td>     <th>  Log-Likelihood:    </th> <td> -282.45</td>\n",
       "</tr>\n",
       "<tr>\n",
       "  <th>No. Observations:</th>      <td> 17277</td>      <th>  AIC:               </th> <td>   640.9</td>\n",
       "</tr>\n",
       "<tr>\n",
       "  <th>Df Residuals:</th>          <td> 17239</td>      <th>  BIC:               </th> <td>   935.7</td>\n",
       "</tr>\n",
       "<tr>\n",
       "  <th>Df Model:</th>              <td>    37</td>      <th>                     </th>     <td> </td>   \n",
       "</tr>\n",
       "<tr>\n",
       "  <th>Covariance Type:</th>      <td>nonrobust</td>    <th>                     </th>     <td> </td>   \n",
       "</tr>\n",
       "</table>\n",
       "<table class=\"simpletable\">\n",
       "<tr>\n",
       "          <td></td>             <th>coef</th>     <th>std err</th>      <th>t</th>      <th>P>|t|</th>  <th>[0.025</th>    <th>0.975]</th>  \n",
       "</tr>\n",
       "<tr>\n",
       "  <th>const</th>             <td>   12.7388</td> <td>    0.220</td> <td>   57.798</td> <td> 0.000</td> <td>   12.307</td> <td>   13.171</td>\n",
       "</tr>\n",
       "<tr>\n",
       "  <th>waterfront</th>        <td>    0.5294</td> <td>    0.023</td> <td>   23.142</td> <td> 0.000</td> <td>    0.485</td> <td>    0.574</td>\n",
       "</tr>\n",
       "<tr>\n",
       "  <th>condition</th>         <td>    0.0596</td> <td>    0.003</td> <td>   18.182</td> <td> 0.000</td> <td>    0.053</td> <td>    0.066</td>\n",
       "</tr>\n",
       "<tr>\n",
       "  <th>yr_built</th>          <td>   -0.0034</td> <td>    0.000</td> <td>  -33.094</td> <td> 0.000</td> <td>   -0.004</td> <td>   -0.003</td>\n",
       "</tr>\n",
       "<tr>\n",
       "  <th>renovated</th>         <td>    0.0539</td> <td>    0.011</td> <td>    5.030</td> <td> 0.000</td> <td>    0.033</td> <td>    0.075</td>\n",
       "</tr>\n",
       "<tr>\n",
       "  <th>basement</th>          <td>    0.0748</td> <td>    0.008</td> <td>    9.603</td> <td> 0.000</td> <td>    0.060</td> <td>    0.090</td>\n",
       "</tr>\n",
       "<tr>\n",
       "  <th>AUBURN</th>            <td>   -0.4901</td> <td>    0.010</td> <td>  -47.732</td> <td> 0.000</td> <td>   -0.510</td> <td>   -0.470</td>\n",
       "</tr>\n",
       "<tr>\n",
       "  <th>BELLEVUE</th>          <td>    0.1860</td> <td>    0.009</td> <td>   21.345</td> <td> 0.000</td> <td>    0.169</td> <td>    0.203</td>\n",
       "</tr>\n",
       "<tr>\n",
       "  <th>BLACK DIAMOND</th>     <td>   -0.1783</td> <td>    0.028</td> <td>   -6.330</td> <td> 0.000</td> <td>   -0.234</td> <td>   -0.123</td>\n",
       "</tr>\n",
       "<tr>\n",
       "  <th>BOTHELL</th>           <td>   -0.1116</td> <td>    0.020</td> <td>   -5.496</td> <td> 0.000</td> <td>   -0.151</td> <td>   -0.072</td>\n",
       "</tr>\n",
       "<tr>\n",
       "  <th>CARNATION</th>         <td>   -0.1032</td> <td>    0.026</td> <td>   -4.043</td> <td> 0.000</td> <td>   -0.153</td> <td>   -0.053</td>\n",
       "</tr>\n",
       "<tr>\n",
       "  <th>DUVALL</th>            <td>   -0.1670</td> <td>    0.021</td> <td>   -8.035</td> <td> 0.000</td> <td>   -0.208</td> <td>   -0.126</td>\n",
       "</tr>\n",
       "<tr>\n",
       "  <th>ENUMCLAW</th>          <td>   -0.3722</td> <td>    0.019</td> <td>  -19.622</td> <td> 0.000</td> <td>   -0.409</td> <td>   -0.335</td>\n",
       "</tr>\n",
       "<tr>\n",
       "  <th>FALL CITY</th>         <td>    0.0423</td> <td>    0.031</td> <td>    1.357</td> <td> 0.175</td> <td>   -0.019</td> <td>    0.103</td>\n",
       "</tr>\n",
       "<tr>\n",
       "  <th>FEDERAL WAY</th>       <td>   -0.5441</td> <td>    0.011</td> <td>  -50.237</td> <td> 0.000</td> <td>   -0.565</td> <td>   -0.523</td>\n",
       "</tr>\n",
       "<tr>\n",
       "  <th>ISSAQUAH</th>          <td>   -0.0264</td> <td>    0.011</td> <td>   -2.385</td> <td> 0.017</td> <td>   -0.048</td> <td>   -0.005</td>\n",
       "</tr>\n",
       "<tr>\n",
       "  <th>KENMORE</th>           <td>   -0.1345</td> <td>    0.017</td> <td>   -7.958</td> <td> 0.000</td> <td>   -0.168</td> <td>   -0.101</td>\n",
       "</tr>\n",
       "<tr>\n",
       "  <th>KENT</th>              <td>   -0.4537</td> <td>    0.009</td> <td>  -49.367</td> <td> 0.000</td> <td>   -0.472</td> <td>   -0.436</td>\n",
       "</tr>\n",
       "<tr>\n",
       "  <th>KIRKLAND</th>          <td>    0.1082</td> <td>    0.010</td> <td>   10.967</td> <td> 0.000</td> <td>    0.089</td> <td>    0.128</td>\n",
       "</tr>\n",
       "<tr>\n",
       "  <th>MAPLE VALLEY</th>      <td>   -0.3350</td> <td>    0.013</td> <td>  -26.222</td> <td> 0.000</td> <td>   -0.360</td> <td>   -0.310</td>\n",
       "</tr>\n",
       "<tr>\n",
       "  <th>MEDINA</th>            <td>    0.7059</td> <td>    0.040</td> <td>   17.672</td> <td> 0.000</td> <td>    0.628</td> <td>    0.784</td>\n",
       "</tr>\n",
       "<tr>\n",
       "  <th>MERCER ISLAND</th>     <td>    0.2932</td> <td>    0.018</td> <td>   16.620</td> <td> 0.000</td> <td>    0.259</td> <td>    0.328</td>\n",
       "</tr>\n",
       "<tr>\n",
       "  <th>NORTH BEND</th>        <td>   -0.1178</td> <td>    0.019</td> <td>   -6.172</td> <td> 0.000</td> <td>   -0.155</td> <td>   -0.080</td>\n",
       "</tr>\n",
       "<tr>\n",
       "  <th>REDMOND</th>           <td>    0.0719</td> <td>    0.010</td> <td>    7.014</td> <td> 0.000</td> <td>    0.052</td> <td>    0.092</td>\n",
       "</tr>\n",
       "<tr>\n",
       "  <th>RENTON</th>            <td>   -0.2701</td> <td>    0.008</td> <td>  -32.836</td> <td> 0.000</td> <td>   -0.286</td> <td>   -0.254</td>\n",
       "</tr>\n",
       "<tr>\n",
       "  <th>SAMMAMISH</th>         <td>   -0.0132</td> <td>    0.011</td> <td>   -1.176</td> <td> 0.240</td> <td>   -0.035</td> <td>    0.009</td>\n",
       "</tr>\n",
       "<tr>\n",
       "  <th>SNOQUALMIE</th>        <td>   -0.1221</td> <td>    0.017</td> <td>   -7.337</td> <td> 0.000</td> <td>   -0.155</td> <td>   -0.089</td>\n",
       "</tr>\n",
       "<tr>\n",
       "  <th>VASHON</th>            <td>   -0.0799</td> <td>    0.026</td> <td>   -3.049</td> <td> 0.002</td> <td>   -0.131</td> <td>   -0.029</td>\n",
       "</tr>\n",
       "<tr>\n",
       "  <th>WOODINVILLE</th>       <td>   -0.0570</td> <td>    0.014</td> <td>   -4.032</td> <td> 0.000</td> <td>   -0.085</td> <td>   -0.029</td>\n",
       "</tr>\n",
       "<tr>\n",
       "  <th>log_bedrooms</th>      <td>   -0.1255</td> <td>    0.009</td> <td>  -13.818</td> <td> 0.000</td> <td>   -0.143</td> <td>   -0.108</td>\n",
       "</tr>\n",
       "<tr>\n",
       "  <th>log_bathrooms</th>     <td>    0.0938</td> <td>    0.009</td> <td>   10.587</td> <td> 0.000</td> <td>    0.076</td> <td>    0.111</td>\n",
       "</tr>\n",
       "<tr>\n",
       "  <th>log_sqft_living</th>   <td>    0.2239</td> <td>    0.019</td> <td>   11.667</td> <td> 0.000</td> <td>    0.186</td> <td>    0.262</td>\n",
       "</tr>\n",
       "<tr>\n",
       "  <th>log_sqft_lot</th>      <td>    0.0321</td> <td>    0.006</td> <td>    5.800</td> <td> 0.000</td> <td>    0.021</td> <td>    0.043</td>\n",
       "</tr>\n",
       "<tr>\n",
       "  <th>log_floors</th>        <td>    0.0959</td> <td>    0.009</td> <td>   11.161</td> <td> 0.000</td> <td>    0.079</td> <td>    0.113</td>\n",
       "</tr>\n",
       "<tr>\n",
       "  <th>log_grade</th>         <td>    1.2141</td> <td>    0.023</td> <td>   53.495</td> <td> 0.000</td> <td>    1.170</td> <td>    1.259</td>\n",
       "</tr>\n",
       "<tr>\n",
       "  <th>log_sqft_above</th>    <td>    0.1673</td> <td>    0.019</td> <td>    8.903</td> <td> 0.000</td> <td>    0.130</td> <td>    0.204</td>\n",
       "</tr>\n",
       "<tr>\n",
       "  <th>log_sqft_living15</th> <td>    0.2365</td> <td>    0.010</td> <td>   24.039</td> <td> 0.000</td> <td>    0.217</td> <td>    0.256</td>\n",
       "</tr>\n",
       "<tr>\n",
       "  <th>log_sqft_lot15</th>    <td>   -0.0568</td> <td>    0.006</td> <td>   -9.414</td> <td> 0.000</td> <td>   -0.069</td> <td>   -0.045</td>\n",
       "</tr>\n",
       "</table>\n",
       "<table class=\"simpletable\">\n",
       "<tr>\n",
       "  <th>Omnibus:</th>       <td>540.145</td> <th>  Durbin-Watson:     </th> <td>   1.976</td> \n",
       "</tr>\n",
       "<tr>\n",
       "  <th>Prob(Omnibus):</th> <td> 0.000</td>  <th>  Jarque-Bera (JB):  </th> <td>1426.994</td> \n",
       "</tr>\n",
       "<tr>\n",
       "  <th>Skew:</th>          <td>-0.075</td>  <th>  Prob(JB):          </th> <td>1.36e-310</td>\n",
       "</tr>\n",
       "<tr>\n",
       "  <th>Kurtosis:</th>      <td> 4.400</td>  <th>  Cond. No.          </th> <td>2.32e+05</td> \n",
       "</tr>\n",
       "</table><br/><br/>Notes:<br/>[1] Standard Errors assume that the covariance matrix of the errors is correctly specified.<br/>[2] The condition number is large, 2.32e+05. This might indicate that there are<br/>strong multicollinearity or other numerical problems."
      ],
      "text/plain": [
       "<class 'statsmodels.iolib.summary.Summary'>\n",
       "\"\"\"\n",
       "                            OLS Regression Results                            \n",
       "==============================================================================\n",
       "Dep. Variable:                  price   R-squared:                       0.782\n",
       "Model:                            OLS   Adj. R-squared:                  0.781\n",
       "Method:                 Least Squares   F-statistic:                     1667.\n",
       "Date:                Wed, 15 Dec 2021   Prob (F-statistic):               0.00\n",
       "Time:                        15:31:48   Log-Likelihood:                -282.45\n",
       "No. Observations:               17277   AIC:                             640.9\n",
       "Df Residuals:                   17239   BIC:                             935.7\n",
       "Df Model:                          37                                         \n",
       "Covariance Type:            nonrobust                                         \n",
       "=====================================================================================\n",
       "                        coef    std err          t      P>|t|      [0.025      0.975]\n",
       "-------------------------------------------------------------------------------------\n",
       "const                12.7388      0.220     57.798      0.000      12.307      13.171\n",
       "waterfront            0.5294      0.023     23.142      0.000       0.485       0.574\n",
       "condition             0.0596      0.003     18.182      0.000       0.053       0.066\n",
       "yr_built             -0.0034      0.000    -33.094      0.000      -0.004      -0.003\n",
       "renovated             0.0539      0.011      5.030      0.000       0.033       0.075\n",
       "basement              0.0748      0.008      9.603      0.000       0.060       0.090\n",
       "AUBURN               -0.4901      0.010    -47.732      0.000      -0.510      -0.470\n",
       "BELLEVUE              0.1860      0.009     21.345      0.000       0.169       0.203\n",
       "BLACK DIAMOND        -0.1783      0.028     -6.330      0.000      -0.234      -0.123\n",
       "BOTHELL              -0.1116      0.020     -5.496      0.000      -0.151      -0.072\n",
       "CARNATION            -0.1032      0.026     -4.043      0.000      -0.153      -0.053\n",
       "DUVALL               -0.1670      0.021     -8.035      0.000      -0.208      -0.126\n",
       "ENUMCLAW             -0.3722      0.019    -19.622      0.000      -0.409      -0.335\n",
       "FALL CITY             0.0423      0.031      1.357      0.175      -0.019       0.103\n",
       "FEDERAL WAY          -0.5441      0.011    -50.237      0.000      -0.565      -0.523\n",
       "ISSAQUAH             -0.0264      0.011     -2.385      0.017      -0.048      -0.005\n",
       "KENMORE              -0.1345      0.017     -7.958      0.000      -0.168      -0.101\n",
       "KENT                 -0.4537      0.009    -49.367      0.000      -0.472      -0.436\n",
       "KIRKLAND              0.1082      0.010     10.967      0.000       0.089       0.128\n",
       "MAPLE VALLEY         -0.3350      0.013    -26.222      0.000      -0.360      -0.310\n",
       "MEDINA                0.7059      0.040     17.672      0.000       0.628       0.784\n",
       "MERCER ISLAND         0.2932      0.018     16.620      0.000       0.259       0.328\n",
       "NORTH BEND           -0.1178      0.019     -6.172      0.000      -0.155      -0.080\n",
       "REDMOND               0.0719      0.010      7.014      0.000       0.052       0.092\n",
       "RENTON               -0.2701      0.008    -32.836      0.000      -0.286      -0.254\n",
       "SAMMAMISH            -0.0132      0.011     -1.176      0.240      -0.035       0.009\n",
       "SNOQUALMIE           -0.1221      0.017     -7.337      0.000      -0.155      -0.089\n",
       "VASHON               -0.0799      0.026     -3.049      0.002      -0.131      -0.029\n",
       "WOODINVILLE          -0.0570      0.014     -4.032      0.000      -0.085      -0.029\n",
       "log_bedrooms         -0.1255      0.009    -13.818      0.000      -0.143      -0.108\n",
       "log_bathrooms         0.0938      0.009     10.587      0.000       0.076       0.111\n",
       "log_sqft_living       0.2239      0.019     11.667      0.000       0.186       0.262\n",
       "log_sqft_lot          0.0321      0.006      5.800      0.000       0.021       0.043\n",
       "log_floors            0.0959      0.009     11.161      0.000       0.079       0.113\n",
       "log_grade             1.2141      0.023     53.495      0.000       1.170       1.259\n",
       "log_sqft_above        0.1673      0.019      8.903      0.000       0.130       0.204\n",
       "log_sqft_living15     0.2365      0.010     24.039      0.000       0.217       0.256\n",
       "log_sqft_lot15       -0.0568      0.006     -9.414      0.000      -0.069      -0.045\n",
       "==============================================================================\n",
       "Omnibus:                      540.145   Durbin-Watson:                   1.976\n",
       "Prob(Omnibus):                  0.000   Jarque-Bera (JB):             1426.994\n",
       "Skew:                          -0.075   Prob(JB):                    1.36e-310\n",
       "Kurtosis:                       4.400   Cond. No.                     2.32e+05\n",
       "==============================================================================\n",
       "\n",
       "Notes:\n",
       "[1] Standard Errors assume that the covariance matrix of the errors is correctly specified.\n",
       "[2] The condition number is large, 2.32e+05. This might indicate that there are\n",
       "strong multicollinearity or other numerical problems.\n",
       "\"\"\""
      ]
     },
     "execution_count": 152,
     "metadata": {},
     "output_type": "execute_result"
    }
   ],
   "source": [
    "X_train_log_ols=sm.add_constant(X_train_log)\n",
    "model=sm.OLS(y_train_log,X_train_log_ols)\n",
    "results=model.fit()\n",
    "results.summary()"
   ]
  },
  {
   "cell_type": "markdown",
   "metadata": {},
   "source": [
    "R-squared has increased and p-value of all but a couple city dummy variables are essentially zero. But multicollinearity is still an issue.\n",
    "\n",
    "There are a number of related variables that could be causing the multicollinearity. Many of these are also not reasonable 'inputs' to expect from single family home buyers, since they would either not have the information to determine what the input should be or the information is more specific than what buyers should have in mind.\n",
    "\n",
    "This includes sqft_living15, sqft_lot15, and sqft_above.\n",
    "\n",
    "Grade and condition could also be related, but and we will try removing condition, since for each increase in condition unit, price unit only increases by 6% whereas it increases by 121% for grade.  Grade may be hard for buyers to input, but agents can help suggest the average grade value for single family homes or above average depending on importance of quality an budget of buyer."
   ]
  },
  {
   "cell_type": "markdown",
   "metadata": {},
   "source": [
    "## Address mulitcollinearity ##\n",
    "\n",
    "Remove features to address multicollinearity as well as difficulty of providing inputs for single family home buyers."
   ]
  },
  {
   "cell_type": "code",
   "execution_count": 153,
   "metadata": {},
   "outputs": [],
   "source": [
    "#Remove sqft_living15, sqft_lot15, sqft_above and run model\n",
    "X_train_1=X_train_log.drop(columns=['log_sqft_living15','log_sqft_lot15',\n",
    "                                   'log_sqft_above'])"
   ]
  },
  {
   "cell_type": "code",
   "execution_count": 154,
   "metadata": {},
   "outputs": [
    {
     "data": {
      "text/html": [
       "<table class=\"simpletable\">\n",
       "<caption>OLS Regression Results</caption>\n",
       "<tr>\n",
       "  <th>Dep. Variable:</th>          <td>price</td>      <th>  R-squared:         </th> <td>   0.772</td>\n",
       "</tr>\n",
       "<tr>\n",
       "  <th>Model:</th>                   <td>OLS</td>       <th>  Adj. R-squared:    </th> <td>   0.772</td>\n",
       "</tr>\n",
       "<tr>\n",
       "  <th>Method:</th>             <td>Least Squares</td>  <th>  F-statistic:       </th> <td>   1721.</td>\n",
       "</tr>\n",
       "<tr>\n",
       "  <th>Date:</th>             <td>Wed, 15 Dec 2021</td> <th>  Prob (F-statistic):</th>  <td>  0.00</td> \n",
       "</tr>\n",
       "<tr>\n",
       "  <th>Time:</th>                 <td>15:31:48</td>     <th>  Log-Likelihood:    </th> <td> -637.07</td>\n",
       "</tr>\n",
       "<tr>\n",
       "  <th>No. Observations:</th>      <td> 17277</td>      <th>  AIC:               </th> <td>   1344.</td>\n",
       "</tr>\n",
       "<tr>\n",
       "  <th>Df Residuals:</th>          <td> 17242</td>      <th>  BIC:               </th> <td>   1616.</td>\n",
       "</tr>\n",
       "<tr>\n",
       "  <th>Df Model:</th>              <td>    34</td>      <th>                     </th>     <td> </td>   \n",
       "</tr>\n",
       "<tr>\n",
       "  <th>Covariance Type:</th>      <td>nonrobust</td>    <th>                     </th>     <td> </td>   \n",
       "</tr>\n",
       "</table>\n",
       "<table class=\"simpletable\">\n",
       "<tr>\n",
       "         <td></td>            <th>coef</th>     <th>std err</th>      <th>t</th>      <th>P>|t|</th>  <th>[0.025</th>    <th>0.975]</th>  \n",
       "</tr>\n",
       "<tr>\n",
       "  <th>const</th>           <td>   14.0637</td> <td>    0.219</td> <td>   64.198</td> <td> 0.000</td> <td>   13.634</td> <td>   14.493</td>\n",
       "</tr>\n",
       "<tr>\n",
       "  <th>waterfront</th>      <td>    0.5328</td> <td>    0.023</td> <td>   22.848</td> <td> 0.000</td> <td>    0.487</td> <td>    0.579</td>\n",
       "</tr>\n",
       "<tr>\n",
       "  <th>condition</th>       <td>    0.0503</td> <td>    0.003</td> <td>   15.146</td> <td> 0.000</td> <td>    0.044</td> <td>    0.057</td>\n",
       "</tr>\n",
       "<tr>\n",
       "  <th>yr_built</th>        <td>   -0.0037</td> <td>    0.000</td> <td>  -35.304</td> <td> 0.000</td> <td>   -0.004</td> <td>   -0.003</td>\n",
       "</tr>\n",
       "<tr>\n",
       "  <th>renovated</th>       <td>    0.0340</td> <td>    0.011</td> <td>    3.122</td> <td> 0.002</td> <td>    0.013</td> <td>    0.055</td>\n",
       "</tr>\n",
       "<tr>\n",
       "  <th>basement</th>        <td>    0.0170</td> <td>    0.005</td> <td>    3.406</td> <td> 0.001</td> <td>    0.007</td> <td>    0.027</td>\n",
       "</tr>\n",
       "<tr>\n",
       "  <th>AUBURN</th>          <td>   -0.4789</td> <td>    0.010</td> <td>  -45.809</td> <td> 0.000</td> <td>   -0.499</td> <td>   -0.458</td>\n",
       "</tr>\n",
       "<tr>\n",
       "  <th>BELLEVUE</th>        <td>    0.2211</td> <td>    0.009</td> <td>   25.274</td> <td> 0.000</td> <td>    0.204</td> <td>    0.238</td>\n",
       "</tr>\n",
       "<tr>\n",
       "  <th>BLACK DIAMOND</th>   <td>   -0.1758</td> <td>    0.029</td> <td>   -6.129</td> <td> 0.000</td> <td>   -0.232</td> <td>   -0.120</td>\n",
       "</tr>\n",
       "<tr>\n",
       "  <th>BOTHELL</th>         <td>   -0.0710</td> <td>    0.021</td> <td>   -3.436</td> <td> 0.001</td> <td>   -0.112</td> <td>   -0.031</td>\n",
       "</tr>\n",
       "<tr>\n",
       "  <th>CARNATION</th>       <td>   -0.1195</td> <td>    0.026</td> <td>   -4.600</td> <td> 0.000</td> <td>   -0.170</td> <td>   -0.069</td>\n",
       "</tr>\n",
       "<tr>\n",
       "  <th>DUVALL</th>          <td>   -0.1455</td> <td>    0.021</td> <td>   -6.875</td> <td> 0.000</td> <td>   -0.187</td> <td>   -0.104</td>\n",
       "</tr>\n",
       "<tr>\n",
       "  <th>ENUMCLAW</th>        <td>   -0.3679</td> <td>    0.019</td> <td>  -19.043</td> <td> 0.000</td> <td>   -0.406</td> <td>   -0.330</td>\n",
       "</tr>\n",
       "<tr>\n",
       "  <th>FALL CITY</th>       <td>    0.0352</td> <td>    0.032</td> <td>    1.108</td> <td> 0.268</td> <td>   -0.027</td> <td>    0.098</td>\n",
       "</tr>\n",
       "<tr>\n",
       "  <th>FEDERAL WAY</th>     <td>   -0.5270</td> <td>    0.011</td> <td>  -47.815</td> <td> 0.000</td> <td>   -0.549</td> <td>   -0.505</td>\n",
       "</tr>\n",
       "<tr>\n",
       "  <th>ISSAQUAH</th>        <td>    0.0048</td> <td>    0.011</td> <td>    0.427</td> <td> 0.669</td> <td>   -0.017</td> <td>    0.027</td>\n",
       "</tr>\n",
       "<tr>\n",
       "  <th>KENMORE</th>         <td>   -0.1059</td> <td>    0.017</td> <td>   -6.157</td> <td> 0.000</td> <td>   -0.140</td> <td>   -0.072</td>\n",
       "</tr>\n",
       "<tr>\n",
       "  <th>KENT</th>            <td>   -0.4309</td> <td>    0.009</td> <td>  -46.151</td> <td> 0.000</td> <td>   -0.449</td> <td>   -0.413</td>\n",
       "</tr>\n",
       "<tr>\n",
       "  <th>KIRKLAND</th>        <td>    0.1297</td> <td>    0.010</td> <td>   12.942</td> <td> 0.000</td> <td>    0.110</td> <td>    0.149</td>\n",
       "</tr>\n",
       "<tr>\n",
       "  <th>MAPLE VALLEY</th>    <td>   -0.3071</td> <td>    0.013</td> <td>  -23.669</td> <td> 0.000</td> <td>   -0.333</td> <td>   -0.282</td>\n",
       "</tr>\n",
       "<tr>\n",
       "  <th>MEDINA</th>          <td>    0.7446</td> <td>    0.041</td> <td>   18.294</td> <td> 0.000</td> <td>    0.665</td> <td>    0.824</td>\n",
       "</tr>\n",
       "<tr>\n",
       "  <th>MERCER ISLAND</th>   <td>    0.3436</td> <td>    0.018</td> <td>   19.243</td> <td> 0.000</td> <td>    0.309</td> <td>    0.379</td>\n",
       "</tr>\n",
       "<tr>\n",
       "  <th>NORTH BEND</th>      <td>   -0.1242</td> <td>    0.019</td> <td>   -6.385</td> <td> 0.000</td> <td>   -0.162</td> <td>   -0.086</td>\n",
       "</tr>\n",
       "<tr>\n",
       "  <th>REDMOND</th>         <td>    0.1061</td> <td>    0.010</td> <td>   10.248</td> <td> 0.000</td> <td>    0.086</td> <td>    0.126</td>\n",
       "</tr>\n",
       "<tr>\n",
       "  <th>RENTON</th>          <td>   -0.2435</td> <td>    0.008</td> <td>  -29.251</td> <td> 0.000</td> <td>   -0.260</td> <td>   -0.227</td>\n",
       "</tr>\n",
       "<tr>\n",
       "  <th>SAMMAMISH</th>       <td>    0.0301</td> <td>    0.011</td> <td>    2.674</td> <td> 0.007</td> <td>    0.008</td> <td>    0.052</td>\n",
       "</tr>\n",
       "<tr>\n",
       "  <th>SNOQUALMIE</th>      <td>   -0.0634</td> <td>    0.017</td> <td>   -3.768</td> <td> 0.000</td> <td>   -0.096</td> <td>   -0.030</td>\n",
       "</tr>\n",
       "<tr>\n",
       "  <th>VASHON</th>          <td>   -0.1130</td> <td>    0.027</td> <td>   -4.242</td> <td> 0.000</td> <td>   -0.165</td> <td>   -0.061</td>\n",
       "</tr>\n",
       "<tr>\n",
       "  <th>WOODINVILLE</th>     <td>   -0.0331</td> <td>    0.014</td> <td>   -2.314</td> <td> 0.021</td> <td>   -0.061</td> <td>   -0.005</td>\n",
       "</tr>\n",
       "<tr>\n",
       "  <th>log_bedrooms</th>    <td>   -0.1420</td> <td>    0.009</td> <td>  -15.358</td> <td> 0.000</td> <td>   -0.160</td> <td>   -0.124</td>\n",
       "</tr>\n",
       "<tr>\n",
       "  <th>log_bathrooms</th>   <td>    0.0974</td> <td>    0.009</td> <td>   10.784</td> <td> 0.000</td> <td>    0.080</td> <td>    0.115</td>\n",
       "</tr>\n",
       "<tr>\n",
       "  <th>log_sqft_living</th> <td>    0.4545</td> <td>    0.011</td> <td>   43.231</td> <td> 0.000</td> <td>    0.434</td> <td>    0.475</td>\n",
       "</tr>\n",
       "<tr>\n",
       "  <th>log_sqft_lot</th>    <td>   -0.0002</td> <td>    0.003</td> <td>   -0.076</td> <td> 0.939</td> <td>   -0.006</td> <td>    0.006</td>\n",
       "</tr>\n",
       "<tr>\n",
       "  <th>log_floors</th>      <td>    0.1278</td> <td>    0.008</td> <td>   15.588</td> <td> 0.000</td> <td>    0.112</td> <td>    0.144</td>\n",
       "</tr>\n",
       "<tr>\n",
       "  <th>log_grade</th>       <td>    1.3807</td> <td>    0.022</td> <td>   62.484</td> <td> 0.000</td> <td>    1.337</td> <td>    1.424</td>\n",
       "</tr>\n",
       "</table>\n",
       "<table class=\"simpletable\">\n",
       "<tr>\n",
       "  <th>Omnibus:</th>       <td>555.895</td> <th>  Durbin-Watson:     </th> <td>   1.975</td>\n",
       "</tr>\n",
       "<tr>\n",
       "  <th>Prob(Omnibus):</th> <td> 0.000</td>  <th>  Jarque-Bera (JB):  </th> <td>1543.032</td>\n",
       "</tr>\n",
       "<tr>\n",
       "  <th>Skew:</th>          <td>-0.027</td>  <th>  Prob(JB):          </th> <td>    0.00</td>\n",
       "</tr>\n",
       "<tr>\n",
       "  <th>Kurtosis:</th>      <td> 4.463</td>  <th>  Cond. No.          </th> <td>2.26e+05</td>\n",
       "</tr>\n",
       "</table><br/><br/>Notes:<br/>[1] Standard Errors assume that the covariance matrix of the errors is correctly specified.<br/>[2] The condition number is large, 2.26e+05. This might indicate that there are<br/>strong multicollinearity or other numerical problems."
      ],
      "text/plain": [
       "<class 'statsmodels.iolib.summary.Summary'>\n",
       "\"\"\"\n",
       "                            OLS Regression Results                            \n",
       "==============================================================================\n",
       "Dep. Variable:                  price   R-squared:                       0.772\n",
       "Model:                            OLS   Adj. R-squared:                  0.772\n",
       "Method:                 Least Squares   F-statistic:                     1721.\n",
       "Date:                Wed, 15 Dec 2021   Prob (F-statistic):               0.00\n",
       "Time:                        15:31:48   Log-Likelihood:                -637.07\n",
       "No. Observations:               17277   AIC:                             1344.\n",
       "Df Residuals:                   17242   BIC:                             1616.\n",
       "Df Model:                          34                                         \n",
       "Covariance Type:            nonrobust                                         \n",
       "===================================================================================\n",
       "                      coef    std err          t      P>|t|      [0.025      0.975]\n",
       "-----------------------------------------------------------------------------------\n",
       "const              14.0637      0.219     64.198      0.000      13.634      14.493\n",
       "waterfront          0.5328      0.023     22.848      0.000       0.487       0.579\n",
       "condition           0.0503      0.003     15.146      0.000       0.044       0.057\n",
       "yr_built           -0.0037      0.000    -35.304      0.000      -0.004      -0.003\n",
       "renovated           0.0340      0.011      3.122      0.002       0.013       0.055\n",
       "basement            0.0170      0.005      3.406      0.001       0.007       0.027\n",
       "AUBURN             -0.4789      0.010    -45.809      0.000      -0.499      -0.458\n",
       "BELLEVUE            0.2211      0.009     25.274      0.000       0.204       0.238\n",
       "BLACK DIAMOND      -0.1758      0.029     -6.129      0.000      -0.232      -0.120\n",
       "BOTHELL            -0.0710      0.021     -3.436      0.001      -0.112      -0.031\n",
       "CARNATION          -0.1195      0.026     -4.600      0.000      -0.170      -0.069\n",
       "DUVALL             -0.1455      0.021     -6.875      0.000      -0.187      -0.104\n",
       "ENUMCLAW           -0.3679      0.019    -19.043      0.000      -0.406      -0.330\n",
       "FALL CITY           0.0352      0.032      1.108      0.268      -0.027       0.098\n",
       "FEDERAL WAY        -0.5270      0.011    -47.815      0.000      -0.549      -0.505\n",
       "ISSAQUAH            0.0048      0.011      0.427      0.669      -0.017       0.027\n",
       "KENMORE            -0.1059      0.017     -6.157      0.000      -0.140      -0.072\n",
       "KENT               -0.4309      0.009    -46.151      0.000      -0.449      -0.413\n",
       "KIRKLAND            0.1297      0.010     12.942      0.000       0.110       0.149\n",
       "MAPLE VALLEY       -0.3071      0.013    -23.669      0.000      -0.333      -0.282\n",
       "MEDINA              0.7446      0.041     18.294      0.000       0.665       0.824\n",
       "MERCER ISLAND       0.3436      0.018     19.243      0.000       0.309       0.379\n",
       "NORTH BEND         -0.1242      0.019     -6.385      0.000      -0.162      -0.086\n",
       "REDMOND             0.1061      0.010     10.248      0.000       0.086       0.126\n",
       "RENTON             -0.2435      0.008    -29.251      0.000      -0.260      -0.227\n",
       "SAMMAMISH           0.0301      0.011      2.674      0.007       0.008       0.052\n",
       "SNOQUALMIE         -0.0634      0.017     -3.768      0.000      -0.096      -0.030\n",
       "VASHON             -0.1130      0.027     -4.242      0.000      -0.165      -0.061\n",
       "WOODINVILLE        -0.0331      0.014     -2.314      0.021      -0.061      -0.005\n",
       "log_bedrooms       -0.1420      0.009    -15.358      0.000      -0.160      -0.124\n",
       "log_bathrooms       0.0974      0.009     10.784      0.000       0.080       0.115\n",
       "log_sqft_living     0.4545      0.011     43.231      0.000       0.434       0.475\n",
       "log_sqft_lot       -0.0002      0.003     -0.076      0.939      -0.006       0.006\n",
       "log_floors          0.1278      0.008     15.588      0.000       0.112       0.144\n",
       "log_grade           1.3807      0.022     62.484      0.000       1.337       1.424\n",
       "==============================================================================\n",
       "Omnibus:                      555.895   Durbin-Watson:                   1.975\n",
       "Prob(Omnibus):                  0.000   Jarque-Bera (JB):             1543.032\n",
       "Skew:                          -0.027   Prob(JB):                         0.00\n",
       "Kurtosis:                       4.463   Cond. No.                     2.26e+05\n",
       "==============================================================================\n",
       "\n",
       "Notes:\n",
       "[1] Standard Errors assume that the covariance matrix of the errors is correctly specified.\n",
       "[2] The condition number is large, 2.26e+05. This might indicate that there are\n",
       "strong multicollinearity or other numerical problems.\n",
       "\"\"\""
      ]
     },
     "execution_count": 154,
     "metadata": {},
     "output_type": "execute_result"
    }
   ],
   "source": [
    "X_train_1_ols=sm.add_constant(X_train_1)\n",
    "model=sm.OLS(y_train_log,X_train_1_ols)\n",
    "results=model.fit()\n",
    "results.summary()"
   ]
  },
  {
   "cell_type": "code",
   "execution_count": 155,
   "metadata": {},
   "outputs": [],
   "source": [
    "#Remove condition and run regression\n",
    "X_train_2=X_train_1.drop(columns=['condition'])"
   ]
  },
  {
   "cell_type": "code",
   "execution_count": 156,
   "metadata": {},
   "outputs": [
    {
     "data": {
      "text/html": [
       "<table class=\"simpletable\">\n",
       "<caption>OLS Regression Results</caption>\n",
       "<tr>\n",
       "  <th>Dep. Variable:</th>          <td>price</td>      <th>  R-squared:         </th> <td>   0.769</td>\n",
       "</tr>\n",
       "<tr>\n",
       "  <th>Model:</th>                   <td>OLS</td>       <th>  Adj. R-squared:    </th> <td>   0.769</td>\n",
       "</tr>\n",
       "<tr>\n",
       "  <th>Method:</th>             <td>Least Squares</td>  <th>  F-statistic:       </th> <td>   1743.</td>\n",
       "</tr>\n",
       "<tr>\n",
       "  <th>Date:</th>             <td>Wed, 15 Dec 2021</td> <th>  Prob (F-statistic):</th>  <td>  0.00</td> \n",
       "</tr>\n",
       "<tr>\n",
       "  <th>Time:</th>                 <td>15:31:48</td>     <th>  Log-Likelihood:    </th> <td> -751.25</td>\n",
       "</tr>\n",
       "<tr>\n",
       "  <th>No. Observations:</th>      <td> 17277</td>      <th>  AIC:               </th> <td>   1570.</td>\n",
       "</tr>\n",
       "<tr>\n",
       "  <th>Df Residuals:</th>          <td> 17243</td>      <th>  BIC:               </th> <td>   1834.</td>\n",
       "</tr>\n",
       "<tr>\n",
       "  <th>Df Model:</th>              <td>    33</td>      <th>                     </th>     <td> </td>   \n",
       "</tr>\n",
       "<tr>\n",
       "  <th>Covariance Type:</th>      <td>nonrobust</td>    <th>                     </th>     <td> </td>   \n",
       "</tr>\n",
       "</table>\n",
       "<table class=\"simpletable\">\n",
       "<tr>\n",
       "         <td></td>            <th>coef</th>     <th>std err</th>      <th>t</th>      <th>P>|t|</th>  <th>[0.025</th>    <th>0.975]</th>  \n",
       "</tr>\n",
       "<tr>\n",
       "  <th>const</th>           <td>   15.2822</td> <td>    0.205</td> <td>   74.509</td> <td> 0.000</td> <td>   14.880</td> <td>   15.684</td>\n",
       "</tr>\n",
       "<tr>\n",
       "  <th>waterfront</th>      <td>    0.5354</td> <td>    0.023</td> <td>   22.808</td> <td> 0.000</td> <td>    0.489</td> <td>    0.581</td>\n",
       "</tr>\n",
       "<tr>\n",
       "  <th>yr_built</th>        <td>   -0.0042</td> <td> 9.94e-05</td> <td>  -42.601</td> <td> 0.000</td> <td>   -0.004</td> <td>   -0.004</td>\n",
       "</tr>\n",
       "<tr>\n",
       "  <th>renovated</th>       <td>    0.0060</td> <td>    0.011</td> <td>    0.558</td> <td> 0.577</td> <td>   -0.015</td> <td>    0.027</td>\n",
       "</tr>\n",
       "<tr>\n",
       "  <th>basement</th>        <td>    0.0184</td> <td>    0.005</td> <td>    3.667</td> <td> 0.000</td> <td>    0.009</td> <td>    0.028</td>\n",
       "</tr>\n",
       "<tr>\n",
       "  <th>AUBURN</th>          <td>   -0.4673</td> <td>    0.010</td> <td>  -44.528</td> <td> 0.000</td> <td>   -0.488</td> <td>   -0.447</td>\n",
       "</tr>\n",
       "<tr>\n",
       "  <th>BELLEVUE</th>        <td>    0.2355</td> <td>    0.009</td> <td>   26.902</td> <td> 0.000</td> <td>    0.218</td> <td>    0.253</td>\n",
       "</tr>\n",
       "<tr>\n",
       "  <th>BLACK DIAMOND</th>   <td>   -0.1588</td> <td>    0.029</td> <td>   -5.502</td> <td> 0.000</td> <td>   -0.215</td> <td>   -0.102</td>\n",
       "</tr>\n",
       "<tr>\n",
       "  <th>BOTHELL</th>         <td>   -0.0713</td> <td>    0.021</td> <td>   -3.426</td> <td> 0.001</td> <td>   -0.112</td> <td>   -0.030</td>\n",
       "</tr>\n",
       "<tr>\n",
       "  <th>CARNATION</th>       <td>   -0.1175</td> <td>    0.026</td> <td>   -4.491</td> <td> 0.000</td> <td>   -0.169</td> <td>   -0.066</td>\n",
       "</tr>\n",
       "<tr>\n",
       "  <th>DUVALL</th>          <td>   -0.1463</td> <td>    0.021</td> <td>   -6.870</td> <td> 0.000</td> <td>   -0.188</td> <td>   -0.105</td>\n",
       "</tr>\n",
       "<tr>\n",
       "  <th>ENUMCLAW</th>        <td>   -0.3434</td> <td>    0.019</td> <td>  -17.719</td> <td> 0.000</td> <td>   -0.381</td> <td>   -0.305</td>\n",
       "</tr>\n",
       "<tr>\n",
       "  <th>FALL CITY</th>       <td>    0.0360</td> <td>    0.032</td> <td>    1.124</td> <td> 0.261</td> <td>   -0.027</td> <td>    0.099</td>\n",
       "</tr>\n",
       "<tr>\n",
       "  <th>FEDERAL WAY</th>     <td>   -0.5213</td> <td>    0.011</td> <td>  -47.011</td> <td> 0.000</td> <td>   -0.543</td> <td>   -0.500</td>\n",
       "</tr>\n",
       "<tr>\n",
       "  <th>ISSAQUAH</th>        <td>    0.0134</td> <td>    0.011</td> <td>    1.186</td> <td> 0.236</td> <td>   -0.009</td> <td>    0.036</td>\n",
       "</tr>\n",
       "<tr>\n",
       "  <th>KENMORE</th>         <td>   -0.1042</td> <td>    0.017</td> <td>   -6.016</td> <td> 0.000</td> <td>   -0.138</td> <td>   -0.070</td>\n",
       "</tr>\n",
       "<tr>\n",
       "  <th>KENT</th>            <td>   -0.4165</td> <td>    0.009</td> <td>  -44.551</td> <td> 0.000</td> <td>   -0.435</td> <td>   -0.398</td>\n",
       "</tr>\n",
       "<tr>\n",
       "  <th>KIRKLAND</th>        <td>    0.1373</td> <td>    0.010</td> <td>   13.626</td> <td> 0.000</td> <td>    0.118</td> <td>    0.157</td>\n",
       "</tr>\n",
       "<tr>\n",
       "  <th>MAPLE VALLEY</th>    <td>   -0.2999</td> <td>    0.013</td> <td>  -22.974</td> <td> 0.000</td> <td>   -0.325</td> <td>   -0.274</td>\n",
       "</tr>\n",
       "<tr>\n",
       "  <th>MEDINA</th>          <td>    0.7525</td> <td>    0.041</td> <td>   18.367</td> <td> 0.000</td> <td>    0.672</td> <td>    0.833</td>\n",
       "</tr>\n",
       "<tr>\n",
       "  <th>MERCER ISLAND</th>   <td>    0.3660</td> <td>    0.018</td> <td>   20.436</td> <td> 0.000</td> <td>    0.331</td> <td>    0.401</td>\n",
       "</tr>\n",
       "<tr>\n",
       "  <th>NORTH BEND</th>      <td>   -0.1219</td> <td>    0.020</td> <td>   -6.223</td> <td> 0.000</td> <td>   -0.160</td> <td>   -0.084</td>\n",
       "</tr>\n",
       "<tr>\n",
       "  <th>REDMOND</th>         <td>    0.1108</td> <td>    0.010</td> <td>   10.642</td> <td> 0.000</td> <td>    0.090</td> <td>    0.131</td>\n",
       "</tr>\n",
       "<tr>\n",
       "  <th>RENTON</th>          <td>   -0.2302</td> <td>    0.008</td> <td>  -27.622</td> <td> 0.000</td> <td>   -0.247</td> <td>   -0.214</td>\n",
       "</tr>\n",
       "<tr>\n",
       "  <th>SAMMAMISH</th>       <td>    0.0334</td> <td>    0.011</td> <td>    2.949</td> <td> 0.003</td> <td>    0.011</td> <td>    0.056</td>\n",
       "</tr>\n",
       "<tr>\n",
       "  <th>SNOQUALMIE</th>      <td>   -0.0631</td> <td>    0.017</td> <td>   -3.724</td> <td> 0.000</td> <td>   -0.096</td> <td>   -0.030</td>\n",
       "</tr>\n",
       "<tr>\n",
       "  <th>VASHON</th>          <td>   -0.0930</td> <td>    0.027</td> <td>   -3.472</td> <td> 0.001</td> <td>   -0.145</td> <td>   -0.040</td>\n",
       "</tr>\n",
       "<tr>\n",
       "  <th>WOODINVILLE</th>     <td>   -0.0255</td> <td>    0.014</td> <td>   -1.769</td> <td> 0.077</td> <td>   -0.054</td> <td>    0.003</td>\n",
       "</tr>\n",
       "<tr>\n",
       "  <th>log_bedrooms</th>    <td>   -0.1383</td> <td>    0.009</td> <td>  -14.868</td> <td> 0.000</td> <td>   -0.157</td> <td>   -0.120</td>\n",
       "</tr>\n",
       "<tr>\n",
       "  <th>log_bathrooms</th>   <td>    0.1098</td> <td>    0.009</td> <td>   12.133</td> <td> 0.000</td> <td>    0.092</td> <td>    0.128</td>\n",
       "</tr>\n",
       "<tr>\n",
       "  <th>log_sqft_living</th> <td>    0.4550</td> <td>    0.011</td> <td>   42.996</td> <td> 0.000</td> <td>    0.434</td> <td>    0.476</td>\n",
       "</tr>\n",
       "<tr>\n",
       "  <th>log_sqft_lot</th>    <td>   -0.0015</td> <td>    0.003</td> <td>   -0.500</td> <td> 0.617</td> <td>   -0.007</td> <td>    0.004</td>\n",
       "</tr>\n",
       "<tr>\n",
       "  <th>log_floors</th>      <td>    0.1175</td> <td>    0.008</td> <td>   14.284</td> <td> 0.000</td> <td>    0.101</td> <td>    0.134</td>\n",
       "</tr>\n",
       "<tr>\n",
       "  <th>log_grade</th>       <td>    1.3793</td> <td>    0.022</td> <td>   62.014</td> <td> 0.000</td> <td>    1.336</td> <td>    1.423</td>\n",
       "</tr>\n",
       "</table>\n",
       "<table class=\"simpletable\">\n",
       "<tr>\n",
       "  <th>Omnibus:</th>       <td>582.175</td> <th>  Durbin-Watson:     </th> <td>   1.978</td>\n",
       "</tr>\n",
       "<tr>\n",
       "  <th>Prob(Omnibus):</th> <td> 0.000</td>  <th>  Jarque-Bera (JB):  </th> <td>1608.044</td>\n",
       "</tr>\n",
       "<tr>\n",
       "  <th>Skew:</th>          <td>-0.078</td>  <th>  Prob(JB):          </th> <td>    0.00</td>\n",
       "</tr>\n",
       "<tr>\n",
       "  <th>Kurtosis:</th>      <td> 4.487</td>  <th>  Cond. No.          </th> <td>2.11e+05</td>\n",
       "</tr>\n",
       "</table><br/><br/>Notes:<br/>[1] Standard Errors assume that the covariance matrix of the errors is correctly specified.<br/>[2] The condition number is large, 2.11e+05. This might indicate that there are<br/>strong multicollinearity or other numerical problems."
      ],
      "text/plain": [
       "<class 'statsmodels.iolib.summary.Summary'>\n",
       "\"\"\"\n",
       "                            OLS Regression Results                            \n",
       "==============================================================================\n",
       "Dep. Variable:                  price   R-squared:                       0.769\n",
       "Model:                            OLS   Adj. R-squared:                  0.769\n",
       "Method:                 Least Squares   F-statistic:                     1743.\n",
       "Date:                Wed, 15 Dec 2021   Prob (F-statistic):               0.00\n",
       "Time:                        15:31:48   Log-Likelihood:                -751.25\n",
       "No. Observations:               17277   AIC:                             1570.\n",
       "Df Residuals:                   17243   BIC:                             1834.\n",
       "Df Model:                          33                                         \n",
       "Covariance Type:            nonrobust                                         \n",
       "===================================================================================\n",
       "                      coef    std err          t      P>|t|      [0.025      0.975]\n",
       "-----------------------------------------------------------------------------------\n",
       "const              15.2822      0.205     74.509      0.000      14.880      15.684\n",
       "waterfront          0.5354      0.023     22.808      0.000       0.489       0.581\n",
       "yr_built           -0.0042   9.94e-05    -42.601      0.000      -0.004      -0.004\n",
       "renovated           0.0060      0.011      0.558      0.577      -0.015       0.027\n",
       "basement            0.0184      0.005      3.667      0.000       0.009       0.028\n",
       "AUBURN             -0.4673      0.010    -44.528      0.000      -0.488      -0.447\n",
       "BELLEVUE            0.2355      0.009     26.902      0.000       0.218       0.253\n",
       "BLACK DIAMOND      -0.1588      0.029     -5.502      0.000      -0.215      -0.102\n",
       "BOTHELL            -0.0713      0.021     -3.426      0.001      -0.112      -0.030\n",
       "CARNATION          -0.1175      0.026     -4.491      0.000      -0.169      -0.066\n",
       "DUVALL             -0.1463      0.021     -6.870      0.000      -0.188      -0.105\n",
       "ENUMCLAW           -0.3434      0.019    -17.719      0.000      -0.381      -0.305\n",
       "FALL CITY           0.0360      0.032      1.124      0.261      -0.027       0.099\n",
       "FEDERAL WAY        -0.5213      0.011    -47.011      0.000      -0.543      -0.500\n",
       "ISSAQUAH            0.0134      0.011      1.186      0.236      -0.009       0.036\n",
       "KENMORE            -0.1042      0.017     -6.016      0.000      -0.138      -0.070\n",
       "KENT               -0.4165      0.009    -44.551      0.000      -0.435      -0.398\n",
       "KIRKLAND            0.1373      0.010     13.626      0.000       0.118       0.157\n",
       "MAPLE VALLEY       -0.2999      0.013    -22.974      0.000      -0.325      -0.274\n",
       "MEDINA              0.7525      0.041     18.367      0.000       0.672       0.833\n",
       "MERCER ISLAND       0.3660      0.018     20.436      0.000       0.331       0.401\n",
       "NORTH BEND         -0.1219      0.020     -6.223      0.000      -0.160      -0.084\n",
       "REDMOND             0.1108      0.010     10.642      0.000       0.090       0.131\n",
       "RENTON             -0.2302      0.008    -27.622      0.000      -0.247      -0.214\n",
       "SAMMAMISH           0.0334      0.011      2.949      0.003       0.011       0.056\n",
       "SNOQUALMIE         -0.0631      0.017     -3.724      0.000      -0.096      -0.030\n",
       "VASHON             -0.0930      0.027     -3.472      0.001      -0.145      -0.040\n",
       "WOODINVILLE        -0.0255      0.014     -1.769      0.077      -0.054       0.003\n",
       "log_bedrooms       -0.1383      0.009    -14.868      0.000      -0.157      -0.120\n",
       "log_bathrooms       0.1098      0.009     12.133      0.000       0.092       0.128\n",
       "log_sqft_living     0.4550      0.011     42.996      0.000       0.434       0.476\n",
       "log_sqft_lot       -0.0015      0.003     -0.500      0.617      -0.007       0.004\n",
       "log_floors          0.1175      0.008     14.284      0.000       0.101       0.134\n",
       "log_grade           1.3793      0.022     62.014      0.000       1.336       1.423\n",
       "==============================================================================\n",
       "Omnibus:                      582.175   Durbin-Watson:                   1.978\n",
       "Prob(Omnibus):                  0.000   Jarque-Bera (JB):             1608.044\n",
       "Skew:                          -0.078   Prob(JB):                         0.00\n",
       "Kurtosis:                       4.487   Cond. No.                     2.11e+05\n",
       "==============================================================================\n",
       "\n",
       "Notes:\n",
       "[1] Standard Errors assume that the covariance matrix of the errors is correctly specified.\n",
       "[2] The condition number is large, 2.11e+05. This might indicate that there are\n",
       "strong multicollinearity or other numerical problems.\n",
       "\"\"\""
      ]
     },
     "execution_count": 156,
     "metadata": {},
     "output_type": "execute_result"
    }
   ],
   "source": [
    "X_train_2_ols=sm.add_constant(X_train_2)\n",
    "model=sm.OLS(y_train_log,X_train_2_ols)\n",
    "results=model.fit()\n",
    "results.summary()"
   ]
  },
  {
   "cell_type": "markdown",
   "metadata": {},
   "source": [
    "### Examine Variance Inflation Factors ###"
   ]
  },
  {
   "cell_type": "code",
   "execution_count": 157,
   "metadata": {
    "scrolled": true
   },
   "outputs": [
    {
     "data": {
      "text/html": [
       "<div>\n",
       "<style scoped>\n",
       "    .dataframe tbody tr th:only-of-type {\n",
       "        vertical-align: middle;\n",
       "    }\n",
       "\n",
       "    .dataframe tbody tr th {\n",
       "        vertical-align: top;\n",
       "    }\n",
       "\n",
       "    .dataframe thead th {\n",
       "        text-align: right;\n",
       "    }\n",
       "</style>\n",
       "<table border=\"1\" class=\"dataframe\">\n",
       "  <thead>\n",
       "    <tr style=\"text-align: right;\">\n",
       "      <th></th>\n",
       "      <th>price</th>\n",
       "      <th>bedrooms</th>\n",
       "      <th>bathrooms</th>\n",
       "      <th>sqft_living</th>\n",
       "      <th>sqft_lot</th>\n",
       "      <th>floors</th>\n",
       "      <th>waterfront</th>\n",
       "      <th>condition</th>\n",
       "      <th>grade</th>\n",
       "      <th>sqft_above</th>\n",
       "      <th>yr_built</th>\n",
       "      <th>sqft_living15</th>\n",
       "      <th>sqft_lot15</th>\n",
       "      <th>renovated</th>\n",
       "      <th>basement</th>\n",
       "    </tr>\n",
       "  </thead>\n",
       "  <tbody>\n",
       "    <tr>\n",
       "      <th>price</th>\n",
       "      <td>1.000000</td>\n",
       "      <td>0.308787</td>\n",
       "      <td>0.525906</td>\n",
       "      <td>0.701917</td>\n",
       "      <td>0.089876</td>\n",
       "      <td>0.256804</td>\n",
       "      <td>0.264306</td>\n",
       "      <td>0.036056</td>\n",
       "      <td>0.667951</td>\n",
       "      <td>0.605368</td>\n",
       "      <td>0.053953</td>\n",
       "      <td>0.585241</td>\n",
       "      <td>0.082845</td>\n",
       "      <td>0.117543</td>\n",
       "      <td>0.178264</td>\n",
       "    </tr>\n",
       "    <tr>\n",
       "      <th>bedrooms</th>\n",
       "      <td>0.308787</td>\n",
       "      <td>1.000000</td>\n",
       "      <td>0.514508</td>\n",
       "      <td>0.578212</td>\n",
       "      <td>0.032471</td>\n",
       "      <td>0.177944</td>\n",
       "      <td>-0.002127</td>\n",
       "      <td>0.026496</td>\n",
       "      <td>0.356563</td>\n",
       "      <td>0.479386</td>\n",
       "      <td>0.155670</td>\n",
       "      <td>0.393406</td>\n",
       "      <td>0.030690</td>\n",
       "      <td>0.017635</td>\n",
       "      <td>0.158412</td>\n",
       "    </tr>\n",
       "    <tr>\n",
       "      <th>bathrooms</th>\n",
       "      <td>0.525906</td>\n",
       "      <td>0.514508</td>\n",
       "      <td>1.000000</td>\n",
       "      <td>0.755758</td>\n",
       "      <td>0.088373</td>\n",
       "      <td>0.502582</td>\n",
       "      <td>0.063629</td>\n",
       "      <td>-0.126479</td>\n",
       "      <td>0.665838</td>\n",
       "      <td>0.686668</td>\n",
       "      <td>0.507173</td>\n",
       "      <td>0.569884</td>\n",
       "      <td>0.088303</td>\n",
       "      <td>0.046742</td>\n",
       "      <td>0.159863</td>\n",
       "    </tr>\n",
       "    <tr>\n",
       "      <th>sqft_living</th>\n",
       "      <td>0.701917</td>\n",
       "      <td>0.578212</td>\n",
       "      <td>0.755758</td>\n",
       "      <td>1.000000</td>\n",
       "      <td>0.173453</td>\n",
       "      <td>0.353953</td>\n",
       "      <td>0.104637</td>\n",
       "      <td>-0.059445</td>\n",
       "      <td>0.762779</td>\n",
       "      <td>0.876448</td>\n",
       "      <td>0.318152</td>\n",
       "      <td>0.756402</td>\n",
       "      <td>0.184342</td>\n",
       "      <td>0.050829</td>\n",
       "      <td>0.201198</td>\n",
       "    </tr>\n",
       "    <tr>\n",
       "      <th>sqft_lot</th>\n",
       "      <td>0.089876</td>\n",
       "      <td>0.032471</td>\n",
       "      <td>0.088373</td>\n",
       "      <td>0.173453</td>\n",
       "      <td>1.000000</td>\n",
       "      <td>-0.004814</td>\n",
       "      <td>0.021459</td>\n",
       "      <td>-0.008830</td>\n",
       "      <td>0.114731</td>\n",
       "      <td>0.184139</td>\n",
       "      <td>0.052946</td>\n",
       "      <td>0.144763</td>\n",
       "      <td>0.718204</td>\n",
       "      <td>0.005091</td>\n",
       "      <td>-0.034889</td>\n",
       "    </tr>\n",
       "    <tr>\n",
       "      <th>floors</th>\n",
       "      <td>0.256804</td>\n",
       "      <td>0.177944</td>\n",
       "      <td>0.502582</td>\n",
       "      <td>0.353953</td>\n",
       "      <td>-0.004814</td>\n",
       "      <td>1.000000</td>\n",
       "      <td>0.020797</td>\n",
       "      <td>-0.264075</td>\n",
       "      <td>0.458794</td>\n",
       "      <td>0.523989</td>\n",
       "      <td>0.489193</td>\n",
       "      <td>0.280102</td>\n",
       "      <td>-0.010722</td>\n",
       "      <td>0.003713</td>\n",
       "      <td>-0.252465</td>\n",
       "    </tr>\n",
       "    <tr>\n",
       "      <th>waterfront</th>\n",
       "      <td>0.264306</td>\n",
       "      <td>-0.002127</td>\n",
       "      <td>0.063629</td>\n",
       "      <td>0.104637</td>\n",
       "      <td>0.021459</td>\n",
       "      <td>0.020797</td>\n",
       "      <td>1.000000</td>\n",
       "      <td>0.016648</td>\n",
       "      <td>0.082818</td>\n",
       "      <td>0.071778</td>\n",
       "      <td>-0.024487</td>\n",
       "      <td>0.083823</td>\n",
       "      <td>0.030658</td>\n",
       "      <td>0.074267</td>\n",
       "      <td>0.039220</td>\n",
       "    </tr>\n",
       "    <tr>\n",
       "      <th>condition</th>\n",
       "      <td>0.036056</td>\n",
       "      <td>0.026496</td>\n",
       "      <td>-0.126479</td>\n",
       "      <td>-0.059445</td>\n",
       "      <td>-0.008830</td>\n",
       "      <td>-0.264075</td>\n",
       "      <td>0.016648</td>\n",
       "      <td>1.000000</td>\n",
       "      <td>-0.146896</td>\n",
       "      <td>-0.158904</td>\n",
       "      <td>-0.361592</td>\n",
       "      <td>-0.093072</td>\n",
       "      <td>-0.003126</td>\n",
       "      <td>-0.055383</td>\n",
       "      <td>0.130542</td>\n",
       "    </tr>\n",
       "    <tr>\n",
       "      <th>grade</th>\n",
       "      <td>0.667951</td>\n",
       "      <td>0.356563</td>\n",
       "      <td>0.665838</td>\n",
       "      <td>0.762779</td>\n",
       "      <td>0.114731</td>\n",
       "      <td>0.458794</td>\n",
       "      <td>0.082818</td>\n",
       "      <td>-0.146896</td>\n",
       "      <td>1.000000</td>\n",
       "      <td>0.756073</td>\n",
       "      <td>0.447865</td>\n",
       "      <td>0.713867</td>\n",
       "      <td>0.120981</td>\n",
       "      <td>0.015259</td>\n",
       "      <td>0.050701</td>\n",
       "    </tr>\n",
       "    <tr>\n",
       "      <th>sqft_above</th>\n",
       "      <td>0.605368</td>\n",
       "      <td>0.479386</td>\n",
       "      <td>0.686668</td>\n",
       "      <td>0.876448</td>\n",
       "      <td>0.184139</td>\n",
       "      <td>0.523989</td>\n",
       "      <td>0.071778</td>\n",
       "      <td>-0.158904</td>\n",
       "      <td>0.756073</td>\n",
       "      <td>1.000000</td>\n",
       "      <td>0.424037</td>\n",
       "      <td>0.731767</td>\n",
       "      <td>0.195077</td>\n",
       "      <td>0.020566</td>\n",
       "      <td>-0.207268</td>\n",
       "    </tr>\n",
       "    <tr>\n",
       "      <th>yr_built</th>\n",
       "      <td>0.053953</td>\n",
       "      <td>0.155670</td>\n",
       "      <td>0.507173</td>\n",
       "      <td>0.318152</td>\n",
       "      <td>0.052946</td>\n",
       "      <td>0.489193</td>\n",
       "      <td>-0.024487</td>\n",
       "      <td>-0.361592</td>\n",
       "      <td>0.447865</td>\n",
       "      <td>0.424037</td>\n",
       "      <td>1.000000</td>\n",
       "      <td>0.326377</td>\n",
       "      <td>0.070777</td>\n",
       "      <td>-0.202837</td>\n",
       "      <td>-0.163992</td>\n",
       "    </tr>\n",
       "    <tr>\n",
       "      <th>sqft_living15</th>\n",
       "      <td>0.585241</td>\n",
       "      <td>0.393406</td>\n",
       "      <td>0.569884</td>\n",
       "      <td>0.756402</td>\n",
       "      <td>0.144763</td>\n",
       "      <td>0.280102</td>\n",
       "      <td>0.083823</td>\n",
       "      <td>-0.093072</td>\n",
       "      <td>0.713867</td>\n",
       "      <td>0.731767</td>\n",
       "      <td>0.326377</td>\n",
       "      <td>1.000000</td>\n",
       "      <td>0.183515</td>\n",
       "      <td>0.000622</td>\n",
       "      <td>0.044577</td>\n",
       "    </tr>\n",
       "    <tr>\n",
       "      <th>sqft_lot15</th>\n",
       "      <td>0.082845</td>\n",
       "      <td>0.030690</td>\n",
       "      <td>0.088303</td>\n",
       "      <td>0.184342</td>\n",
       "      <td>0.718204</td>\n",
       "      <td>-0.010722</td>\n",
       "      <td>0.030658</td>\n",
       "      <td>-0.003126</td>\n",
       "      <td>0.120981</td>\n",
       "      <td>0.195077</td>\n",
       "      <td>0.070777</td>\n",
       "      <td>0.183515</td>\n",
       "      <td>1.000000</td>\n",
       "      <td>0.004380</td>\n",
       "      <td>-0.041747</td>\n",
       "    </tr>\n",
       "    <tr>\n",
       "      <th>renovated</th>\n",
       "      <td>0.117543</td>\n",
       "      <td>0.017635</td>\n",
       "      <td>0.046742</td>\n",
       "      <td>0.050829</td>\n",
       "      <td>0.005091</td>\n",
       "      <td>0.003713</td>\n",
       "      <td>0.074267</td>\n",
       "      <td>-0.055383</td>\n",
       "      <td>0.015259</td>\n",
       "      <td>0.020566</td>\n",
       "      <td>-0.202837</td>\n",
       "      <td>0.000622</td>\n",
       "      <td>0.004380</td>\n",
       "      <td>1.000000</td>\n",
       "      <td>0.044600</td>\n",
       "    </tr>\n",
       "    <tr>\n",
       "      <th>basement</th>\n",
       "      <td>0.178264</td>\n",
       "      <td>0.158412</td>\n",
       "      <td>0.159863</td>\n",
       "      <td>0.201198</td>\n",
       "      <td>-0.034889</td>\n",
       "      <td>-0.252465</td>\n",
       "      <td>0.039220</td>\n",
       "      <td>0.130542</td>\n",
       "      <td>0.050701</td>\n",
       "      <td>-0.207268</td>\n",
       "      <td>-0.163992</td>\n",
       "      <td>0.044577</td>\n",
       "      <td>-0.041747</td>\n",
       "      <td>0.044600</td>\n",
       "      <td>1.000000</td>\n",
       "    </tr>\n",
       "  </tbody>\n",
       "</table>\n",
       "</div>"
      ],
      "text/plain": [
       "                  price  bedrooms  bathrooms  sqft_living  sqft_lot    floors  \\\n",
       "price          1.000000  0.308787   0.525906     0.701917  0.089876  0.256804   \n",
       "bedrooms       0.308787  1.000000   0.514508     0.578212  0.032471  0.177944   \n",
       "bathrooms      0.525906  0.514508   1.000000     0.755758  0.088373  0.502582   \n",
       "sqft_living    0.701917  0.578212   0.755758     1.000000  0.173453  0.353953   \n",
       "sqft_lot       0.089876  0.032471   0.088373     0.173453  1.000000 -0.004814   \n",
       "floors         0.256804  0.177944   0.502582     0.353953 -0.004814  1.000000   \n",
       "waterfront     0.264306 -0.002127   0.063629     0.104637  0.021459  0.020797   \n",
       "condition      0.036056  0.026496  -0.126479    -0.059445 -0.008830 -0.264075   \n",
       "grade          0.667951  0.356563   0.665838     0.762779  0.114731  0.458794   \n",
       "sqft_above     0.605368  0.479386   0.686668     0.876448  0.184139  0.523989   \n",
       "yr_built       0.053953  0.155670   0.507173     0.318152  0.052946  0.489193   \n",
       "sqft_living15  0.585241  0.393406   0.569884     0.756402  0.144763  0.280102   \n",
       "sqft_lot15     0.082845  0.030690   0.088303     0.184342  0.718204 -0.010722   \n",
       "renovated      0.117543  0.017635   0.046742     0.050829  0.005091  0.003713   \n",
       "basement       0.178264  0.158412   0.159863     0.201198 -0.034889 -0.252465   \n",
       "\n",
       "               waterfront  condition     grade  sqft_above  yr_built  \\\n",
       "price            0.264306   0.036056  0.667951    0.605368  0.053953   \n",
       "bedrooms        -0.002127   0.026496  0.356563    0.479386  0.155670   \n",
       "bathrooms        0.063629  -0.126479  0.665838    0.686668  0.507173   \n",
       "sqft_living      0.104637  -0.059445  0.762779    0.876448  0.318152   \n",
       "sqft_lot         0.021459  -0.008830  0.114731    0.184139  0.052946   \n",
       "floors           0.020797  -0.264075  0.458794    0.523989  0.489193   \n",
       "waterfront       1.000000   0.016648  0.082818    0.071778 -0.024487   \n",
       "condition        0.016648   1.000000 -0.146896   -0.158904 -0.361592   \n",
       "grade            0.082818  -0.146896  1.000000    0.756073  0.447865   \n",
       "sqft_above       0.071778  -0.158904  0.756073    1.000000  0.424037   \n",
       "yr_built        -0.024487  -0.361592  0.447865    0.424037  1.000000   \n",
       "sqft_living15    0.083823  -0.093072  0.713867    0.731767  0.326377   \n",
       "sqft_lot15       0.030658  -0.003126  0.120981    0.195077  0.070777   \n",
       "renovated        0.074267  -0.055383  0.015259    0.020566 -0.202837   \n",
       "basement         0.039220   0.130542  0.050701   -0.207268 -0.163992   \n",
       "\n",
       "               sqft_living15  sqft_lot15  renovated  basement  \n",
       "price               0.585241    0.082845   0.117543  0.178264  \n",
       "bedrooms            0.393406    0.030690   0.017635  0.158412  \n",
       "bathrooms           0.569884    0.088303   0.046742  0.159863  \n",
       "sqft_living         0.756402    0.184342   0.050829  0.201198  \n",
       "sqft_lot            0.144763    0.718204   0.005091 -0.034889  \n",
       "floors              0.280102   -0.010722   0.003713 -0.252465  \n",
       "waterfront          0.083823    0.030658   0.074267  0.039220  \n",
       "condition          -0.093072   -0.003126  -0.055383  0.130542  \n",
       "grade               0.713867    0.120981   0.015259  0.050701  \n",
       "sqft_above          0.731767    0.195077   0.020566 -0.207268  \n",
       "yr_built            0.326377    0.070777  -0.202837 -0.163992  \n",
       "sqft_living15       1.000000    0.183515   0.000622  0.044577  \n",
       "sqft_lot15          0.183515    1.000000   0.004380 -0.041747  \n",
       "renovated           0.000622    0.004380   1.000000  0.044600  \n",
       "basement            0.044577   -0.041747   0.044600  1.000000  "
      ]
     },
     "execution_count": 157,
     "metadata": {},
     "output_type": "execute_result"
    }
   ],
   "source": [
    "df.corr()"
   ]
  },
  {
   "cell_type": "markdown",
   "metadata": {},
   "source": [
    "We can use the Variance Inflation Factor to explore which variables have issues with multicollinearity.  This is important to the interpretability of the model.  Currently, the model's coefficients are not all reliable as indicators of which features are driving increase in sales price because of multicollinearity.  For example, log_bedrooms and log_sqft_lot both have negative coefficients which indications that for each percent increase in bedrooms or sqft_lot there is a negative percent increase in sales price.  Just from basic real estate knowledge, we know this doesn't make sense.  Although the model is still providing reliable results based on the data, we are not able to rely on the coefficients to explain to buyers what features are most important to price.\n",
    "\n",
    "Below, I explore VIF and determine which features can be removed to address multicollinearity.  However, removing features comes at the cost of reducing R-squared and overall accuracy of the model.  Therefore, I will have to determine if the loss in accuracy is worth the increase in interpretability."
   ]
  },
  {
   "cell_type": "markdown",
   "metadata": {},
   "source": [
    "I explored many combinations of features and below are the features that must be dropped to address all multicollinearity and bring all features' VIFs below 5."
   ]
  },
  {
   "cell_type": "code",
   "execution_count": 158,
   "metadata": {},
   "outputs": [
    {
     "data": {
      "text/html": [
       "<div>\n",
       "<style scoped>\n",
       "    .dataframe tbody tr th:only-of-type {\n",
       "        vertical-align: middle;\n",
       "    }\n",
       "\n",
       "    .dataframe tbody tr th {\n",
       "        vertical-align: top;\n",
       "    }\n",
       "\n",
       "    .dataframe thead th {\n",
       "        text-align: right;\n",
       "    }\n",
       "</style>\n",
       "<table border=\"1\" class=\"dataframe\">\n",
       "  <thead>\n",
       "    <tr style=\"text-align: right;\">\n",
       "      <th></th>\n",
       "      <th>feature</th>\n",
       "      <th>VIF</th>\n",
       "    </tr>\n",
       "  </thead>\n",
       "  <tbody>\n",
       "    <tr>\n",
       "      <th>0</th>\n",
       "      <td>const</td>\n",
       "      <td>11357.166685</td>\n",
       "    </tr>\n",
       "    <tr>\n",
       "      <th>1</th>\n",
       "      <td>waterfront</td>\n",
       "      <td>1.043041</td>\n",
       "    </tr>\n",
       "    <tr>\n",
       "      <th>2</th>\n",
       "      <td>yr_built</td>\n",
       "      <td>2.307155</td>\n",
       "    </tr>\n",
       "    <tr>\n",
       "      <th>3</th>\n",
       "      <td>renovated</td>\n",
       "      <td>1.098125</td>\n",
       "    </tr>\n",
       "    <tr>\n",
       "      <th>4</th>\n",
       "      <td>basement</td>\n",
       "      <td>1.611204</td>\n",
       "    </tr>\n",
       "    <tr>\n",
       "      <th>5</th>\n",
       "      <td>AUBURN</td>\n",
       "      <td>1.211306</td>\n",
       "    </tr>\n",
       "    <tr>\n",
       "      <th>6</th>\n",
       "      <td>BELLEVUE</td>\n",
       "      <td>1.266050</td>\n",
       "    </tr>\n",
       "    <tr>\n",
       "      <th>7</th>\n",
       "      <td>BLACK DIAMOND</td>\n",
       "      <td>1.049151</td>\n",
       "    </tr>\n",
       "    <tr>\n",
       "      <th>8</th>\n",
       "      <td>BOTHELL</td>\n",
       "      <td>1.038669</td>\n",
       "    </tr>\n",
       "    <tr>\n",
       "      <th>9</th>\n",
       "      <td>CARNATION</td>\n",
       "      <td>1.073551</td>\n",
       "    </tr>\n",
       "    <tr>\n",
       "      <th>10</th>\n",
       "      <td>DUVALL</td>\n",
       "      <td>1.068195</td>\n",
       "    </tr>\n",
       "    <tr>\n",
       "      <th>11</th>\n",
       "      <td>ENUMCLAW</td>\n",
       "      <td>1.085584</td>\n",
       "    </tr>\n",
       "    <tr>\n",
       "      <th>12</th>\n",
       "      <td>FALL CITY</td>\n",
       "      <td>1.051779</td>\n",
       "    </tr>\n",
       "    <tr>\n",
       "      <th>13</th>\n",
       "      <td>FEDERAL WAY</td>\n",
       "      <td>1.135938</td>\n",
       "    </tr>\n",
       "    <tr>\n",
       "      <th>14</th>\n",
       "      <td>ISSAQUAH</td>\n",
       "      <td>1.163454</td>\n",
       "    </tr>\n",
       "    <tr>\n",
       "      <th>15</th>\n",
       "      <td>KENMORE</td>\n",
       "      <td>1.049184</td>\n",
       "    </tr>\n",
       "    <tr>\n",
       "      <th>16</th>\n",
       "      <td>KENT</td>\n",
       "      <td>1.261445</td>\n",
       "    </tr>\n",
       "    <tr>\n",
       "      <th>17</th>\n",
       "      <td>KIRKLAND</td>\n",
       "      <td>1.150004</td>\n",
       "    </tr>\n",
       "    <tr>\n",
       "      <th>18</th>\n",
       "      <td>MAPLE VALLEY</td>\n",
       "      <td>1.184343</td>\n",
       "    </tr>\n",
       "    <tr>\n",
       "      <th>19</th>\n",
       "      <td>MEDINA</td>\n",
       "      <td>1.020574</td>\n",
       "    </tr>\n",
       "    <tr>\n",
       "      <th>20</th>\n",
       "      <td>MERCER ISLAND</td>\n",
       "      <td>1.069208</td>\n",
       "    </tr>\n",
       "    <tr>\n",
       "      <th>21</th>\n",
       "      <td>NORTH BEND</td>\n",
       "      <td>1.097293</td>\n",
       "    </tr>\n",
       "    <tr>\n",
       "      <th>22</th>\n",
       "      <td>REDMOND</td>\n",
       "      <td>1.254624</td>\n",
       "    </tr>\n",
       "    <tr>\n",
       "      <th>23</th>\n",
       "      <td>RENTON</td>\n",
       "      <td>1.292417</td>\n",
       "    </tr>\n",
       "    <tr>\n",
       "      <th>24</th>\n",
       "      <td>SAMMAMISH</td>\n",
       "      <td>1.238612</td>\n",
       "    </tr>\n",
       "    <tr>\n",
       "      <th>25</th>\n",
       "      <td>SNOQUALMIE</td>\n",
       "      <td>1.100570</td>\n",
       "    </tr>\n",
       "    <tr>\n",
       "      <th>26</th>\n",
       "      <td>VASHON</td>\n",
       "      <td>1.091789</td>\n",
       "    </tr>\n",
       "    <tr>\n",
       "      <th>27</th>\n",
       "      <td>WOODINVILLE</td>\n",
       "      <td>1.185657</td>\n",
       "    </tr>\n",
       "    <tr>\n",
       "      <th>28</th>\n",
       "      <td>log_bedrooms</td>\n",
       "      <td>1.870258</td>\n",
       "    </tr>\n",
       "    <tr>\n",
       "      <th>29</th>\n",
       "      <td>log_bathrooms</td>\n",
       "      <td>3.418685</td>\n",
       "    </tr>\n",
       "    <tr>\n",
       "      <th>30</th>\n",
       "      <td>log_sqft_living</td>\n",
       "      <td>5.449174</td>\n",
       "    </tr>\n",
       "    <tr>\n",
       "      <th>31</th>\n",
       "      <td>log_sqft_lot</td>\n",
       "      <td>1.969073</td>\n",
       "    </tr>\n",
       "    <tr>\n",
       "      <th>32</th>\n",
       "      <td>log_floors</td>\n",
       "      <td>2.269399</td>\n",
       "    </tr>\n",
       "    <tr>\n",
       "      <th>33</th>\n",
       "      <td>log_grade</td>\n",
       "      <td>2.974999</td>\n",
       "    </tr>\n",
       "  </tbody>\n",
       "</table>\n",
       "</div>"
      ],
      "text/plain": [
       "            feature           VIF\n",
       "0             const  11357.166685\n",
       "1        waterfront      1.043041\n",
       "2          yr_built      2.307155\n",
       "3         renovated      1.098125\n",
       "4          basement      1.611204\n",
       "5            AUBURN      1.211306\n",
       "6          BELLEVUE      1.266050\n",
       "7     BLACK DIAMOND      1.049151\n",
       "8           BOTHELL      1.038669\n",
       "9         CARNATION      1.073551\n",
       "10           DUVALL      1.068195\n",
       "11         ENUMCLAW      1.085584\n",
       "12        FALL CITY      1.051779\n",
       "13      FEDERAL WAY      1.135938\n",
       "14         ISSAQUAH      1.163454\n",
       "15          KENMORE      1.049184\n",
       "16             KENT      1.261445\n",
       "17         KIRKLAND      1.150004\n",
       "18     MAPLE VALLEY      1.184343\n",
       "19           MEDINA      1.020574\n",
       "20    MERCER ISLAND      1.069208\n",
       "21       NORTH BEND      1.097293\n",
       "22          REDMOND      1.254624\n",
       "23           RENTON      1.292417\n",
       "24        SAMMAMISH      1.238612\n",
       "25       SNOQUALMIE      1.100570\n",
       "26           VASHON      1.091789\n",
       "27      WOODINVILLE      1.185657\n",
       "28     log_bedrooms      1.870258\n",
       "29    log_bathrooms      3.418685\n",
       "30  log_sqft_living      5.449174\n",
       "31     log_sqft_lot      1.969073\n",
       "32       log_floors      2.269399\n",
       "33        log_grade      2.974999"
      ]
     },
     "execution_count": 158,
     "metadata": {},
     "output_type": "execute_result"
    }
   ],
   "source": [
    "vif_data=pd.DataFrame()\n",
    "vif_data['feature']=sm.add_constant(X_train_2).columns\n",
    "\n",
    "vif_data['VIF']=[variance_inflation_factor(sm.add_constant(X_train_2).values,i) \n",
    "                 for i in range(len(sm.add_constant(X_train_2).columns))]\n",
    "vif_data"
   ]
  },
  {
   "cell_type": "code",
   "execution_count": 159,
   "metadata": {},
   "outputs": [
    {
     "data": {
      "text/html": [
       "<div>\n",
       "<style scoped>\n",
       "    .dataframe tbody tr th:only-of-type {\n",
       "        vertical-align: middle;\n",
       "    }\n",
       "\n",
       "    .dataframe tbody tr th {\n",
       "        vertical-align: top;\n",
       "    }\n",
       "\n",
       "    .dataframe thead th {\n",
       "        text-align: right;\n",
       "    }\n",
       "</style>\n",
       "<table border=\"1\" class=\"dataframe\">\n",
       "  <thead>\n",
       "    <tr style=\"text-align: right;\">\n",
       "      <th></th>\n",
       "      <th>feature</th>\n",
       "      <th>VIF</th>\n",
       "    </tr>\n",
       "  </thead>\n",
       "  <tbody>\n",
       "    <tr>\n",
       "      <th>0</th>\n",
       "      <td>const</td>\n",
       "      <td>410.303384</td>\n",
       "    </tr>\n",
       "    <tr>\n",
       "      <th>1</th>\n",
       "      <td>waterfront</td>\n",
       "      <td>1.033825</td>\n",
       "    </tr>\n",
       "    <tr>\n",
       "      <th>2</th>\n",
       "      <td>renovated</td>\n",
       "      <td>1.024081</td>\n",
       "    </tr>\n",
       "    <tr>\n",
       "      <th>3</th>\n",
       "      <td>AUBURN</td>\n",
       "      <td>1.061747</td>\n",
       "    </tr>\n",
       "    <tr>\n",
       "      <th>4</th>\n",
       "      <td>BELLEVUE</td>\n",
       "      <td>1.163136</td>\n",
       "    </tr>\n",
       "    <tr>\n",
       "      <th>5</th>\n",
       "      <td>BLACK DIAMOND</td>\n",
       "      <td>1.007873</td>\n",
       "    </tr>\n",
       "    <tr>\n",
       "      <th>6</th>\n",
       "      <td>BOTHELL</td>\n",
       "      <td>1.017221</td>\n",
       "    </tr>\n",
       "    <tr>\n",
       "      <th>7</th>\n",
       "      <td>CARNATION</td>\n",
       "      <td>1.009131</td>\n",
       "    </tr>\n",
       "    <tr>\n",
       "      <th>8</th>\n",
       "      <td>DUVALL</td>\n",
       "      <td>1.016572</td>\n",
       "    </tr>\n",
       "    <tr>\n",
       "      <th>9</th>\n",
       "      <td>ENUMCLAW</td>\n",
       "      <td>1.015930</td>\n",
       "    </tr>\n",
       "    <tr>\n",
       "      <th>10</th>\n",
       "      <td>FALL CITY</td>\n",
       "      <td>1.007063</td>\n",
       "    </tr>\n",
       "    <tr>\n",
       "      <th>11</th>\n",
       "      <td>FEDERAL WAY</td>\n",
       "      <td>1.057333</td>\n",
       "    </tr>\n",
       "    <tr>\n",
       "      <th>12</th>\n",
       "      <td>ISSAQUAH</td>\n",
       "      <td>1.078231</td>\n",
       "    </tr>\n",
       "    <tr>\n",
       "      <th>13</th>\n",
       "      <td>KENMORE</td>\n",
       "      <td>1.023099</td>\n",
       "    </tr>\n",
       "    <tr>\n",
       "      <th>14</th>\n",
       "      <td>KENT</td>\n",
       "      <td>1.079658</td>\n",
       "    </tr>\n",
       "    <tr>\n",
       "      <th>15</th>\n",
       "      <td>KIRKLAND</td>\n",
       "      <td>1.072681</td>\n",
       "    </tr>\n",
       "    <tr>\n",
       "      <th>16</th>\n",
       "      <td>MAPLE VALLEY</td>\n",
       "      <td>1.050234</td>\n",
       "    </tr>\n",
       "    <tr>\n",
       "      <th>17</th>\n",
       "      <td>MEDINA</td>\n",
       "      <td>1.013669</td>\n",
       "    </tr>\n",
       "    <tr>\n",
       "      <th>18</th>\n",
       "      <td>MERCER ISLAND</td>\n",
       "      <td>1.048278</td>\n",
       "    </tr>\n",
       "    <tr>\n",
       "      <th>19</th>\n",
       "      <td>NORTH BEND</td>\n",
       "      <td>1.017231</td>\n",
       "    </tr>\n",
       "    <tr>\n",
       "      <th>20</th>\n",
       "      <td>REDMOND</td>\n",
       "      <td>1.094257</td>\n",
       "    </tr>\n",
       "    <tr>\n",
       "      <th>21</th>\n",
       "      <td>RENTON</td>\n",
       "      <td>1.108816</td>\n",
       "    </tr>\n",
       "    <tr>\n",
       "      <th>22</th>\n",
       "      <td>SAMMAMISH</td>\n",
       "      <td>1.107866</td>\n",
       "    </tr>\n",
       "    <tr>\n",
       "      <th>23</th>\n",
       "      <td>SNOQUALMIE</td>\n",
       "      <td>1.038889</td>\n",
       "    </tr>\n",
       "    <tr>\n",
       "      <th>24</th>\n",
       "      <td>VASHON</td>\n",
       "      <td>1.023046</td>\n",
       "    </tr>\n",
       "    <tr>\n",
       "      <th>25</th>\n",
       "      <td>WOODINVILLE</td>\n",
       "      <td>1.053708</td>\n",
       "    </tr>\n",
       "    <tr>\n",
       "      <th>26</th>\n",
       "      <td>log_sqft_living</td>\n",
       "      <td>1.391654</td>\n",
       "    </tr>\n",
       "    <tr>\n",
       "      <th>27</th>\n",
       "      <td>log_floors</td>\n",
       "      <td>1.248896</td>\n",
       "    </tr>\n",
       "  </tbody>\n",
       "</table>\n",
       "</div>"
      ],
      "text/plain": [
       "            feature         VIF\n",
       "0             const  410.303384\n",
       "1        waterfront    1.033825\n",
       "2         renovated    1.024081\n",
       "3            AUBURN    1.061747\n",
       "4          BELLEVUE    1.163136\n",
       "5     BLACK DIAMOND    1.007873\n",
       "6           BOTHELL    1.017221\n",
       "7         CARNATION    1.009131\n",
       "8            DUVALL    1.016572\n",
       "9          ENUMCLAW    1.015930\n",
       "10        FALL CITY    1.007063\n",
       "11      FEDERAL WAY    1.057333\n",
       "12         ISSAQUAH    1.078231\n",
       "13          KENMORE    1.023099\n",
       "14             KENT    1.079658\n",
       "15         KIRKLAND    1.072681\n",
       "16     MAPLE VALLEY    1.050234\n",
       "17           MEDINA    1.013669\n",
       "18    MERCER ISLAND    1.048278\n",
       "19       NORTH BEND    1.017231\n",
       "20          REDMOND    1.094257\n",
       "21           RENTON    1.108816\n",
       "22        SAMMAMISH    1.107866\n",
       "23       SNOQUALMIE    1.038889\n",
       "24           VASHON    1.023046\n",
       "25      WOODINVILLE    1.053708\n",
       "26  log_sqft_living    1.391654\n",
       "27       log_floors    1.248896"
      ]
     },
     "execution_count": 159,
     "metadata": {},
     "output_type": "execute_result"
    }
   ],
   "source": [
    "test=X_train_2.drop(columns=['yr_built','log_sqft_lot','log_bedrooms',\n",
    "                             'log_grade','log_bathrooms','basement'])\n",
    "vif_data=pd.DataFrame()\n",
    "vif_data['feature']=sm.add_constant(test).columns\n",
    "\n",
    "vif_data['VIF']=[variance_inflation_factor(sm.add_constant(test).values,i) \n",
    "                 for i in range(len(sm.add_constant(test).columns))]\n",
    "vif_data"
   ]
  },
  {
   "cell_type": "code",
   "execution_count": 160,
   "metadata": {},
   "outputs": [
    {
     "data": {
      "text/html": [
       "<table class=\"simpletable\">\n",
       "<caption>OLS Regression Results</caption>\n",
       "<tr>\n",
       "  <th>Dep. Variable:</th>          <td>price</td>      <th>  R-squared:         </th> <td>   0.699</td>\n",
       "</tr>\n",
       "<tr>\n",
       "  <th>Model:</th>                   <td>OLS</td>       <th>  Adj. R-squared:    </th> <td>   0.699</td>\n",
       "</tr>\n",
       "<tr>\n",
       "  <th>Method:</th>             <td>Least Squares</td>  <th>  F-statistic:       </th> <td>   1486.</td>\n",
       "</tr>\n",
       "<tr>\n",
       "  <th>Date:</th>             <td>Wed, 15 Dec 2021</td> <th>  Prob (F-statistic):</th>  <td>  0.00</td> \n",
       "</tr>\n",
       "<tr>\n",
       "  <th>Time:</th>                 <td>15:31:50</td>     <th>  Log-Likelihood:    </th> <td> -3042.8</td>\n",
       "</tr>\n",
       "<tr>\n",
       "  <th>No. Observations:</th>      <td> 17277</td>      <th>  AIC:               </th> <td>   6142.</td>\n",
       "</tr>\n",
       "<tr>\n",
       "  <th>Df Residuals:</th>          <td> 17249</td>      <th>  BIC:               </th> <td>   6359.</td>\n",
       "</tr>\n",
       "<tr>\n",
       "  <th>Df Model:</th>              <td>    27</td>      <th>                     </th>     <td> </td>   \n",
       "</tr>\n",
       "<tr>\n",
       "  <th>Covariance Type:</th>      <td>nonrobust</td>    <th>                     </th>     <td> </td>   \n",
       "</tr>\n",
       "</table>\n",
       "<table class=\"simpletable\">\n",
       "<tr>\n",
       "         <td></td>            <th>coef</th>     <th>std err</th>      <th>t</th>      <th>P>|t|</th>  <th>[0.025</th>    <th>0.975]</th>  \n",
       "</tr>\n",
       "<tr>\n",
       "  <th>const</th>           <td>    7.5452</td> <td>    0.045</td> <td>  169.530</td> <td> 0.000</td> <td>    7.458</td> <td>    7.632</td>\n",
       "</tr>\n",
       "<tr>\n",
       "  <th>waterfront</th>      <td>    0.6228</td> <td>    0.027</td> <td>   23.343</td> <td> 0.000</td> <td>    0.571</td> <td>    0.675</td>\n",
       "</tr>\n",
       "<tr>\n",
       "  <th>renovated</th>       <td>    0.1120</td> <td>    0.012</td> <td>    9.390</td> <td> 0.000</td> <td>    0.089</td> <td>    0.135</td>\n",
       "</tr>\n",
       "<tr>\n",
       "  <th>AUBURN</th>          <td>   -0.6070</td> <td>    0.011</td> <td>  -54.107</td> <td> 0.000</td> <td>   -0.629</td> <td>   -0.585</td>\n",
       "</tr>\n",
       "<tr>\n",
       "  <th>BELLEVUE</th>        <td>    0.2365</td> <td>    0.010</td> <td>   24.691</td> <td> 0.000</td> <td>    0.218</td> <td>    0.255</td>\n",
       "</tr>\n",
       "<tr>\n",
       "  <th>BLACK DIAMOND</th>   <td>   -0.3147</td> <td>    0.032</td> <td>   -9.746</td> <td> 0.000</td> <td>   -0.378</td> <td>   -0.251</td>\n",
       "</tr>\n",
       "<tr>\n",
       "  <th>BOTHELL</th>         <td>   -0.1729</td> <td>    0.024</td> <td>   -7.358</td> <td> 0.000</td> <td>   -0.219</td> <td>   -0.127</td>\n",
       "</tr>\n",
       "<tr>\n",
       "  <th>CARNATION</th>       <td>   -0.2616</td> <td>    0.029</td> <td>   -9.036</td> <td> 0.000</td> <td>   -0.318</td> <td>   -0.205</td>\n",
       "</tr>\n",
       "<tr>\n",
       "  <th>DUVALL</th>          <td>   -0.3176</td> <td>    0.024</td> <td>  -13.389</td> <td> 0.000</td> <td>   -0.364</td> <td>   -0.271</td>\n",
       "</tr>\n",
       "<tr>\n",
       "  <th>ENUMCLAW</th>        <td>   -0.4616</td> <td>    0.021</td> <td>  -21.568</td> <td> 0.000</td> <td>   -0.504</td> <td>   -0.420</td>\n",
       "</tr>\n",
       "<tr>\n",
       "  <th>FALL CITY</th>       <td>   -0.0812</td> <td>    0.036</td> <td>   -2.273</td> <td> 0.023</td> <td>   -0.151</td> <td>   -0.011</td>\n",
       "</tr>\n",
       "<tr>\n",
       "  <th>FEDERAL WAY</th>     <td>   -0.6021</td> <td>    0.012</td> <td>  -49.298</td> <td> 0.000</td> <td>   -0.626</td> <td>   -0.578</td>\n",
       "</tr>\n",
       "<tr>\n",
       "  <th>ISSAQUAH</th>        <td>   -0.0484</td> <td>    0.012</td> <td>   -3.903</td> <td> 0.000</td> <td>   -0.073</td> <td>   -0.024</td>\n",
       "</tr>\n",
       "<tr>\n",
       "  <th>KENMORE</th>         <td>   -0.1980</td> <td>    0.020</td> <td>  -10.143</td> <td> 0.000</td> <td>   -0.236</td> <td>   -0.160</td>\n",
       "</tr>\n",
       "<tr>\n",
       "  <th>KENT</th>            <td>   -0.5532</td> <td>    0.010</td> <td>  -56.017</td> <td> 0.000</td> <td>   -0.573</td> <td>   -0.534</td>\n",
       "</tr>\n",
       "<tr>\n",
       "  <th>KIRKLAND</th>        <td>    0.0707</td> <td>    0.011</td> <td>    6.365</td> <td> 0.000</td> <td>    0.049</td> <td>    0.093</td>\n",
       "</tr>\n",
       "<tr>\n",
       "  <th>MAPLE VALLEY</th>    <td>   -0.4746</td> <td>    0.014</td> <td>  -33.825</td> <td> 0.000</td> <td>   -0.502</td> <td>   -0.447</td>\n",
       "</tr>\n",
       "<tr>\n",
       "  <th>MEDINA</th>          <td>    0.8398</td> <td>    0.047</td> <td>   18.017</td> <td> 0.000</td> <td>    0.748</td> <td>    0.931</td>\n",
       "</tr>\n",
       "<tr>\n",
       "  <th>MERCER ISLAND</th>   <td>    0.4088</td> <td>    0.020</td> <td>   20.190</td> <td> 0.000</td> <td>    0.369</td> <td>    0.448</td>\n",
       "</tr>\n",
       "<tr>\n",
       "  <th>NORTH BEND</th>      <td>   -0.2321</td> <td>    0.022</td> <td>  -10.779</td> <td> 0.000</td> <td>   -0.274</td> <td>   -0.190</td>\n",
       "</tr>\n",
       "<tr>\n",
       "  <th>REDMOND</th>         <td>    0.0357</td> <td>    0.011</td> <td>    3.219</td> <td> 0.001</td> <td>    0.014</td> <td>    0.058</td>\n",
       "</tr>\n",
       "<tr>\n",
       "  <th>RENTON</th>          <td>   -0.3521</td> <td>    0.009</td> <td>  -39.960</td> <td> 0.000</td> <td>   -0.369</td> <td>   -0.335</td>\n",
       "</tr>\n",
       "<tr>\n",
       "  <th>SAMMAMISH</th>       <td>    0.0055</td> <td>    0.012</td> <td>    0.449</td> <td> 0.653</td> <td>   -0.018</td> <td>    0.029</td>\n",
       "</tr>\n",
       "<tr>\n",
       "  <th>SNOQUALMIE</th>      <td>   -0.2461</td> <td>    0.019</td> <td>  -13.098</td> <td> 0.000</td> <td>   -0.283</td> <td>   -0.209</td>\n",
       "</tr>\n",
       "<tr>\n",
       "  <th>VASHON</th>          <td>   -0.1756</td> <td>    0.030</td> <td>   -5.934</td> <td> 0.000</td> <td>   -0.234</td> <td>   -0.118</td>\n",
       "</tr>\n",
       "<tr>\n",
       "  <th>WOODINVILLE</th>     <td>   -0.0695</td> <td>    0.015</td> <td>   -4.487</td> <td> 0.000</td> <td>   -0.100</td> <td>   -0.039</td>\n",
       "</tr>\n",
       "<tr>\n",
       "  <th>log_sqft_living</th> <td>    0.7368</td> <td>    0.006</td> <td>  120.682</td> <td> 0.000</td> <td>    0.725</td> <td>    0.749</td>\n",
       "</tr>\n",
       "<tr>\n",
       "  <th>log_floors</th>      <td>    0.1385</td> <td>    0.007</td> <td>   19.880</td> <td> 0.000</td> <td>    0.125</td> <td>    0.152</td>\n",
       "</tr>\n",
       "</table>\n",
       "<table class=\"simpletable\">\n",
       "<tr>\n",
       "  <th>Omnibus:</th>       <td>413.963</td> <th>  Durbin-Watson:     </th> <td>   1.992</td> \n",
       "</tr>\n",
       "<tr>\n",
       "  <th>Prob(Omnibus):</th> <td> 0.000</td>  <th>  Jarque-Bera (JB):  </th> <td> 966.767</td> \n",
       "</tr>\n",
       "<tr>\n",
       "  <th>Skew:</th>          <td>-0.044</td>  <th>  Prob(JB):          </th> <td>1.17e-210</td>\n",
       "</tr>\n",
       "<tr>\n",
       "  <th>Kurtosis:</th>      <td> 4.156</td>  <th>  Cond. No.          </th> <td>    168.</td> \n",
       "</tr>\n",
       "</table><br/><br/>Notes:<br/>[1] Standard Errors assume that the covariance matrix of the errors is correctly specified."
      ],
      "text/plain": [
       "<class 'statsmodels.iolib.summary.Summary'>\n",
       "\"\"\"\n",
       "                            OLS Regression Results                            \n",
       "==============================================================================\n",
       "Dep. Variable:                  price   R-squared:                       0.699\n",
       "Model:                            OLS   Adj. R-squared:                  0.699\n",
       "Method:                 Least Squares   F-statistic:                     1486.\n",
       "Date:                Wed, 15 Dec 2021   Prob (F-statistic):               0.00\n",
       "Time:                        15:31:50   Log-Likelihood:                -3042.8\n",
       "No. Observations:               17277   AIC:                             6142.\n",
       "Df Residuals:                   17249   BIC:                             6359.\n",
       "Df Model:                          27                                         \n",
       "Covariance Type:            nonrobust                                         \n",
       "===================================================================================\n",
       "                      coef    std err          t      P>|t|      [0.025      0.975]\n",
       "-----------------------------------------------------------------------------------\n",
       "const               7.5452      0.045    169.530      0.000       7.458       7.632\n",
       "waterfront          0.6228      0.027     23.343      0.000       0.571       0.675\n",
       "renovated           0.1120      0.012      9.390      0.000       0.089       0.135\n",
       "AUBURN             -0.6070      0.011    -54.107      0.000      -0.629      -0.585\n",
       "BELLEVUE            0.2365      0.010     24.691      0.000       0.218       0.255\n",
       "BLACK DIAMOND      -0.3147      0.032     -9.746      0.000      -0.378      -0.251\n",
       "BOTHELL            -0.1729      0.024     -7.358      0.000      -0.219      -0.127\n",
       "CARNATION          -0.2616      0.029     -9.036      0.000      -0.318      -0.205\n",
       "DUVALL             -0.3176      0.024    -13.389      0.000      -0.364      -0.271\n",
       "ENUMCLAW           -0.4616      0.021    -21.568      0.000      -0.504      -0.420\n",
       "FALL CITY          -0.0812      0.036     -2.273      0.023      -0.151      -0.011\n",
       "FEDERAL WAY        -0.6021      0.012    -49.298      0.000      -0.626      -0.578\n",
       "ISSAQUAH           -0.0484      0.012     -3.903      0.000      -0.073      -0.024\n",
       "KENMORE            -0.1980      0.020    -10.143      0.000      -0.236      -0.160\n",
       "KENT               -0.5532      0.010    -56.017      0.000      -0.573      -0.534\n",
       "KIRKLAND            0.0707      0.011      6.365      0.000       0.049       0.093\n",
       "MAPLE VALLEY       -0.4746      0.014    -33.825      0.000      -0.502      -0.447\n",
       "MEDINA              0.8398      0.047     18.017      0.000       0.748       0.931\n",
       "MERCER ISLAND       0.4088      0.020     20.190      0.000       0.369       0.448\n",
       "NORTH BEND         -0.2321      0.022    -10.779      0.000      -0.274      -0.190\n",
       "REDMOND             0.0357      0.011      3.219      0.001       0.014       0.058\n",
       "RENTON             -0.3521      0.009    -39.960      0.000      -0.369      -0.335\n",
       "SAMMAMISH           0.0055      0.012      0.449      0.653      -0.018       0.029\n",
       "SNOQUALMIE         -0.2461      0.019    -13.098      0.000      -0.283      -0.209\n",
       "VASHON             -0.1756      0.030     -5.934      0.000      -0.234      -0.118\n",
       "WOODINVILLE        -0.0695      0.015     -4.487      0.000      -0.100      -0.039\n",
       "log_sqft_living     0.7368      0.006    120.682      0.000       0.725       0.749\n",
       "log_floors          0.1385      0.007     19.880      0.000       0.125       0.152\n",
       "==============================================================================\n",
       "Omnibus:                      413.963   Durbin-Watson:                   1.992\n",
       "Prob(Omnibus):                  0.000   Jarque-Bera (JB):              966.767\n",
       "Skew:                          -0.044   Prob(JB):                    1.17e-210\n",
       "Kurtosis:                       4.156   Cond. No.                         168.\n",
       "==============================================================================\n",
       "\n",
       "Notes:\n",
       "[1] Standard Errors assume that the covariance matrix of the errors is correctly specified.\n",
       "\"\"\""
      ]
     },
     "execution_count": 160,
     "metadata": {},
     "output_type": "execute_result"
    }
   ],
   "source": [
    "test_ols=sm.add_constant(test)\n",
    "model=sm.OLS(y_train_log,test_ols)\n",
    "results=model.fit()\n",
    "results.summary()"
   ]
  },
  {
   "cell_type": "code",
   "execution_count": 161,
   "metadata": {},
   "outputs": [
    {
     "data": {
      "text/plain": [
       "86.41403341673974"
      ]
     },
     "execution_count": 161,
     "metadata": {},
     "output_type": "execute_result"
    }
   ],
   "source": [
    "#Calculate percent increase in price if house is waterfront\n",
    "(np.exp(.6228)-1)*100"
   ]
  },
  {
   "cell_type": "code",
   "execution_count": 162,
   "metadata": {
    "scrolled": true
   },
   "outputs": [
    {
     "data": {
      "text/plain": [
       "11.851286064504517"
      ]
     },
     "execution_count": 162,
     "metadata": {},
     "output_type": "execute_result"
    }
   ],
   "source": [
    "#Calculate percent increase in price if house has a basement\n",
    "(np.exp(.1120)-1)*100"
   ]
  },
  {
   "cell_type": "code",
   "execution_count": 163,
   "metadata": {},
   "outputs": [
    {
     "data": {
      "text/plain": [
       "33.33333333333333"
      ]
     },
     "execution_count": 163,
     "metadata": {},
     "output_type": "execute_result"
    }
   ],
   "source": [
    "#Calculate percent in increase in price with 1500sqft to 2000sqft\n",
    "percent_inc=(500/1500)*100\n",
    "price_per_inc=percent_inc*.73\n",
    "price_per_inc\n",
    "percent_inc"
   ]
  },
  {
   "cell_type": "markdown",
   "metadata": {},
   "source": [
    "After addressing multicollinearity, we can see that the most important non-city features are log_sqft_living (0.73% increase in price for every 1% increase in sqft_living), waterfront, and renovated.\n",
    "\n",
    "For sqft_living example- if house went from 1500sqft to 2000sqft (33% increase), the price would increase by 24%\n",
    "\n",
    "For waterfront, 1 unit increase corresponds to 86% price increase, which means a waterfront property should cost 86% more than the same property not waterfront.\n",
    "\n",
    "For renovated, a renovated property costs 12% more than a non-renovated property.\n"
   ]
  },
  {
   "cell_type": "markdown",
   "metadata": {},
   "source": [
    "However, removing features to make the model more interpretable did cause r-squared to drop from .77 to .69.  This means that 8% less of the price variance from mean is explainable using the model.  If the goal is to provide accurate predictions to single-family home buyers, then this is not a good trade-off.  However, we can still explain which neighborhoods have the most significant affect on price since these features did not have any multicollinearity issues in the original model.  \n",
    "\n",
    "For this model, I will accept the issues with multicollinearity in order to make the model more accurate and limit my interpretation of coefficients to those features not affected. This includes waterfront, renovated, basement, and city."
   ]
  },
  {
   "cell_type": "markdown",
   "metadata": {},
   "source": [
    "## Single family home criteria ##\n",
    "\n",
    "We've examined the effects of log transformations and multicollinearity.\n",
    "\n",
    "Now we will examine what happens to the model when we filter the original data set to remove homes that are obviously not single-family. This will remove outliers and also narrow the scope of the model to apply more directly to single-family homes."
   ]
  },
  {
   "cell_type": "code",
   "execution_count": 164,
   "metadata": {},
   "outputs": [
    {
     "data": {
      "image/png": "[encoded data removed]",
      "text/plain": [
       "<Figure size 576x216 with 1 Axes>"
      ]
     },
     "metadata": {
      "needs_background": "light"
     },
     "output_type": "display_data"
    },
    {
     "data": {
      "image/png": "[encoded data removed]",
      "text/plain": [
       "<Figure size 576x216 with 1 Axes>"
      ]
     },
     "metadata": {
      "needs_background": "light"
     },
     "output_type": "display_data"
    },
    {
     "data": {
      "image/png": "[encoded data removed]",
      "text/plain": [
       "<Figure size 576x216 with 1 Axes>"
      ]
     },
     "metadata": {
      "needs_background": "light"
     },
     "output_type": "display_data"
    },
    {
     "data": {
      "image/png": "[encoded data removed]",
      "text/plain": [
       "<Figure size 576x216 with 1 Axes>"
      ]
     },
     "metadata": {
      "needs_background": "light"
     },
     "output_type": "display_data"
    },
    {
     "data": {
      "image/png": "[encoded data removed]",
      "text/plain": [
       "<Figure size 576x216 with 1 Axes>"
      ]
     },
     "metadata": {
      "needs_background": "light"
     },
     "output_type": "display_data"
    },
    {
     "data": {
      "image/png": "[encoded data removed]",
      "text/plain": [
       "<Figure size 576x216 with 1 Axes>"
      ]
     },
     "metadata": {
      "needs_background": "light"
     },
     "output_type": "display_data"
    },
    {
     "data": {
      "image/png": "[encoded data removed]",
      "text/plain": [
       "<Figure size 576x216 with 1 Axes>"
      ]
     },
     "metadata": {
      "needs_background": "light"
     },
     "output_type": "display_data"
    },
    {
     "data": {
      "image/png": "[encoded data removed]",
      "text/plain": [
       "<Figure size 576x216 with 1 Axes>"
      ]
     },
     "metadata": {
      "needs_background": "light"
     },
     "output_type": "display_data"
    },
    {
     "data": {
      "image/png": "[encoded data removed]",
      "text/plain": [
       "<Figure size 576x216 with 1 Axes>"
      ]
     },
     "metadata": {
      "needs_background": "light"
     },
     "output_type": "display_data"
    },
    {
     "data": {
      "image/png": "[encoded data removed]",
      "text/plain": [
       "<Figure size 576x216 with 1 Axes>"
      ]
     },
     "metadata": {
      "needs_background": "light"
     },
     "output_type": "display_data"
    },
    {
     "data": {
      "image/png": "[encoded data removed]",
      "text/plain": [
       "<Figure size 576x216 with 1 Axes>"
      ]
     },
     "metadata": {
      "needs_background": "light"
     },
     "output_type": "display_data"
    },
    {
     "data": {
      "image/png": "[encoded data removed]",
      "text/plain": [
       "<Figure size 576x216 with 1 Axes>"
      ]
     },
     "metadata": {
      "needs_background": "light"
     },
     "output_type": "display_data"
    },
    {
     "data": {
      "image/png": "[encoded data removed]",
      "text/plain": [
       "<Figure size 576x216 with 1 Axes>"
      ]
     },
     "metadata": {
      "needs_background": "light"
     },
     "output_type": "display_data"
    },
    {
     "data": {
      "image/png": "[encoded data removed]",
      "text/plain": [
       "<Figure size 576x216 with 1 Axes>"
      ]
     },
     "metadata": {
      "needs_background": "light"
     },
     "output_type": "display_data"
    },
    {
     "data": {
      "image/png": "[encoded data removed]",
      "text/plain": [
       "<Figure size 576x216 with 1 Axes>"
      ]
     },
     "metadata": {
      "needs_background": "light"
     },
     "output_type": "display_data"
    }
   ],
   "source": [
    "#Use boxplots to look at distribution of features and examine outliers\n",
    "\n",
    "cols=df.columns\n",
    "\n",
    "for c in cols[:-1]:\n",
    "    fig,ax=plt.subplots(figsize=(8,3))\n",
    "    sns.boxplot(data=df[c],orient='h',ax=ax)\n",
    "    ax.set_title(c)"
   ]
  },
  {
   "cell_type": "markdown",
   "metadata": {},
   "source": [
    "There appear to be houses in the data set that would not apply to single-family home buyers.  \n",
    "\n",
    "I'll start by including only houses with 5 or less bedrooms, removing all low outliers for condition and grade, and removing any sqft_lot above 500,000 then check to see how price, bathroom, sqft_living are affected."
   ]
  },
  {
   "cell_type": "code",
   "execution_count": 165,
   "metadata": {},
   "outputs": [],
   "source": [
    "df_sf=df_model.copy()\n",
    "df_sf=df_model[df_model['bedrooms']<=5]\n",
    "df_sf=df_model[(df_model['condition']>2.0)&(df_model['grade']>6.0)]\n",
    "df_sf=df_model[df_model['sqft_lot']<500000]"
   ]
  },
  {
   "cell_type": "code",
   "execution_count": 166,
   "metadata": {},
   "outputs": [
    {
     "name": "stderr",
     "output_type": "stream",
     "text": [
      "/opt/anaconda3/envs/learn-env/lib/python3.8/site-packages/pandas/core/frame.py:4163: SettingWithCopyWarning: \n",
      "A value is trying to be set on a copy of a slice from a DataFrame\n",
      "\n",
      "See the caveats in the documentation: https://pandas.pydata.org/pandas-docs/stable/user_guide/indexing.html#returning-a-view-versus-a-copy\n",
      "  return super().drop(\n"
     ]
    }
   ],
   "source": [
    "df_sf.drop(columns=['sqft_above','sqft_living15','sqft_lot15','condition'],\n",
    "          inplace=True)"
   ]
  },
  {
   "cell_type": "code",
   "execution_count": 167,
   "metadata": {},
   "outputs": [
    {
     "data": {
      "text/plain": [
       "Index(['price', 'bedrooms', 'bathrooms', 'sqft_living', 'sqft_lot', 'floors',\n",
       "       'waterfront', 'grade', 'yr_built', 'renovated', 'basement', 'AUBURN',\n",
       "       'BELLEVUE', 'BLACK DIAMOND', 'BOTHELL', 'CARNATION', 'DUVALL',\n",
       "       'ENUMCLAW', 'FALL CITY', 'FEDERAL WAY', 'ISSAQUAH', 'KENMORE', 'KENT',\n",
       "       'KIRKLAND', 'MAPLE VALLEY', 'MEDINA', 'MERCER ISLAND', 'NORTH BEND',\n",
       "       'REDMOND', 'RENTON', 'SAMMAMISH', 'SNOQUALMIE', 'VASHON',\n",
       "       'WOODINVILLE'],\n",
       "      dtype='object')"
      ]
     },
     "execution_count": 167,
     "metadata": {},
     "output_type": "execute_result"
    }
   ],
   "source": [
    "df_sf.columns"
   ]
  },
  {
   "cell_type": "code",
   "execution_count": 168,
   "metadata": {},
   "outputs": [
    {
     "data": {
      "image/png": "[encoded data removed]",
      "text/plain": [
       "<Figure size 576x216 with 1 Axes>"
      ]
     },
     "metadata": {
      "needs_background": "light"
     },
     "output_type": "display_data"
    },
    {
     "data": {
      "image/png": "[encoded data removed]",
      "text/plain": [
       "<Figure size 576x216 with 1 Axes>"
      ]
     },
     "metadata": {
      "needs_background": "light"
     },
     "output_type": "display_data"
    },
    {
     "data": {
      "image/png": "[encoded data removed]",
      "text/plain": [
       "<Figure size 576x216 with 1 Axes>"
      ]
     },
     "metadata": {
      "needs_background": "light"
     },
     "output_type": "display_data"
    },
    {
     "data": {
      "image/png": "[encoded data removed]",
      "text/plain": [
       "<Figure size 576x216 with 1 Axes>"
      ]
     },
     "metadata": {
      "needs_background": "light"
     },
     "output_type": "display_data"
    },
    {
     "data": {
      "image/png": "[encoded data removed]",
      "text/plain": [
       "<Figure size 576x216 with 1 Axes>"
      ]
     },
     "metadata": {
      "needs_background": "light"
     },
     "output_type": "display_data"
    },
    {
     "data": {
      "image/png": "[encoded data removed]",
      "text/plain": [
       "<Figure size 576x216 with 1 Axes>"
      ]
     },
     "metadata": {
      "needs_background": "light"
     },
     "output_type": "display_data"
    },
    {
     "data": {
      "image/png": "[encoded data removed]",
      "text/plain": [
       "<Figure size 576x216 with 1 Axes>"
      ]
     },
     "metadata": {
      "needs_background": "light"
     },
     "output_type": "display_data"
    },
    {
     "data": {
      "image/png": "[encoded data removed]",
      "text/plain": [
       "<Figure size 576x216 with 1 Axes>"
      ]
     },
     "metadata": {
      "needs_background": "light"
     },
     "output_type": "display_data"
    },
    {
     "data": {
      "image/png": "[encoded data removed]",
      "text/plain": [
       "<Figure size 576x216 with 1 Axes>"
      ]
     },
     "metadata": {
      "needs_background": "light"
     },
     "output_type": "display_data"
    },
    {
     "data": {
      "image/png": "[encoded data removed]",
      "text/plain": [
       "<Figure size 576x216 with 1 Axes>"
      ]
     },
     "metadata": {
      "needs_background": "light"
     },
     "output_type": "display_data"
    },
    {
     "data": {
      "image/png": "[encoded data removed]",
      "text/plain": [
       "<Figure size 576x216 with 1 Axes>"
      ]
     },
     "metadata": {
      "needs_background": "light"
     },
     "output_type": "display_data"
    }
   ],
   "source": [
    "cols=['price', 'bedrooms', 'bathrooms', 'sqft_living', 'sqft_lot', 'floors',\n",
    "       'waterfront', 'grade', 'yr_built', 'renovated', 'basement']\n",
    "for c in cols:\n",
    "    fig,ax=plt.subplots(figsize=(8,3))\n",
    "    sns.boxplot(data=df_sf[c],orient='h',ax=ax)\n",
    "    ax.set_title(c)"
   ]
  },
  {
   "cell_type": "markdown",
   "metadata": {},
   "source": [
    "For now we won't filter out any more houses so that the model has enough data to train on and we don't rule out buyers who want to buy larger homes."
   ]
  },
  {
   "cell_type": "code",
   "execution_count": 169,
   "metadata": {},
   "outputs": [
    {
     "data": {
      "text/html": [
       "<div>\n",
       "<style scoped>\n",
       "    .dataframe tbody tr th:only-of-type {\n",
       "        vertical-align: middle;\n",
       "    }\n",
       "\n",
       "    .dataframe tbody tr th {\n",
       "        vertical-align: top;\n",
       "    }\n",
       "\n",
       "    .dataframe thead th {\n",
       "        text-align: right;\n",
       "    }\n",
       "</style>\n",
       "<table border=\"1\" class=\"dataframe\">\n",
       "  <thead>\n",
       "    <tr style=\"text-align: right;\">\n",
       "      <th></th>\n",
       "      <th>waterfront</th>\n",
       "      <th>yr_built</th>\n",
       "      <th>renovated</th>\n",
       "      <th>basement</th>\n",
       "      <th>AUBURN</th>\n",
       "      <th>BELLEVUE</th>\n",
       "      <th>BLACK DIAMOND</th>\n",
       "      <th>BOTHELL</th>\n",
       "      <th>CARNATION</th>\n",
       "      <th>DUVALL</th>\n",
       "      <th>...</th>\n",
       "      <th>SAMMAMISH</th>\n",
       "      <th>SNOQUALMIE</th>\n",
       "      <th>VASHON</th>\n",
       "      <th>WOODINVILLE</th>\n",
       "      <th>log_bedrooms</th>\n",
       "      <th>log_bathrooms</th>\n",
       "      <th>log_sqft_living</th>\n",
       "      <th>log_sqft_lot</th>\n",
       "      <th>log_floors</th>\n",
       "      <th>log_grade</th>\n",
       "    </tr>\n",
       "  </thead>\n",
       "  <tbody>\n",
       "    <tr>\n",
       "      <th>0</th>\n",
       "      <td>0.0</td>\n",
       "      <td>1955</td>\n",
       "      <td>0.0</td>\n",
       "      <td>0.0</td>\n",
       "      <td>0</td>\n",
       "      <td>0</td>\n",
       "      <td>0</td>\n",
       "      <td>0</td>\n",
       "      <td>0</td>\n",
       "      <td>0</td>\n",
       "      <td>...</td>\n",
       "      <td>0</td>\n",
       "      <td>0</td>\n",
       "      <td>0</td>\n",
       "      <td>0</td>\n",
       "      <td>1.098612</td>\n",
       "      <td>0.000000</td>\n",
       "      <td>7.073270</td>\n",
       "      <td>8.639411</td>\n",
       "      <td>0.000000</td>\n",
       "      <td>1.945910</td>\n",
       "    </tr>\n",
       "    <tr>\n",
       "      <th>1</th>\n",
       "      <td>0.0</td>\n",
       "      <td>1951</td>\n",
       "      <td>1.0</td>\n",
       "      <td>1.0</td>\n",
       "      <td>0</td>\n",
       "      <td>0</td>\n",
       "      <td>0</td>\n",
       "      <td>0</td>\n",
       "      <td>0</td>\n",
       "      <td>0</td>\n",
       "      <td>...</td>\n",
       "      <td>0</td>\n",
       "      <td>0</td>\n",
       "      <td>0</td>\n",
       "      <td>0</td>\n",
       "      <td>1.098612</td>\n",
       "      <td>0.810930</td>\n",
       "      <td>7.851661</td>\n",
       "      <td>8.887653</td>\n",
       "      <td>0.693147</td>\n",
       "      <td>1.945910</td>\n",
       "    </tr>\n",
       "    <tr>\n",
       "      <th>2</th>\n",
       "      <td>0.0</td>\n",
       "      <td>1933</td>\n",
       "      <td>0.0</td>\n",
       "      <td>0.0</td>\n",
       "      <td>0</td>\n",
       "      <td>0</td>\n",
       "      <td>0</td>\n",
       "      <td>0</td>\n",
       "      <td>0</td>\n",
       "      <td>0</td>\n",
       "      <td>...</td>\n",
       "      <td>0</td>\n",
       "      <td>0</td>\n",
       "      <td>0</td>\n",
       "      <td>0</td>\n",
       "      <td>0.693147</td>\n",
       "      <td>0.000000</td>\n",
       "      <td>6.646391</td>\n",
       "      <td>9.210340</td>\n",
       "      <td>0.000000</td>\n",
       "      <td>1.791759</td>\n",
       "    </tr>\n",
       "    <tr>\n",
       "      <th>3</th>\n",
       "      <td>0.0</td>\n",
       "      <td>1965</td>\n",
       "      <td>0.0</td>\n",
       "      <td>1.0</td>\n",
       "      <td>0</td>\n",
       "      <td>0</td>\n",
       "      <td>0</td>\n",
       "      <td>0</td>\n",
       "      <td>0</td>\n",
       "      <td>0</td>\n",
       "      <td>...</td>\n",
       "      <td>0</td>\n",
       "      <td>0</td>\n",
       "      <td>0</td>\n",
       "      <td>0</td>\n",
       "      <td>1.386294</td>\n",
       "      <td>1.098612</td>\n",
       "      <td>7.580700</td>\n",
       "      <td>8.517193</td>\n",
       "      <td>0.000000</td>\n",
       "      <td>1.945910</td>\n",
       "    </tr>\n",
       "    <tr>\n",
       "      <th>4</th>\n",
       "      <td>0.0</td>\n",
       "      <td>1987</td>\n",
       "      <td>0.0</td>\n",
       "      <td>0.0</td>\n",
       "      <td>0</td>\n",
       "      <td>0</td>\n",
       "      <td>0</td>\n",
       "      <td>0</td>\n",
       "      <td>0</td>\n",
       "      <td>0</td>\n",
       "      <td>...</td>\n",
       "      <td>1</td>\n",
       "      <td>0</td>\n",
       "      <td>0</td>\n",
       "      <td>0</td>\n",
       "      <td>1.098612</td>\n",
       "      <td>0.693147</td>\n",
       "      <td>7.426549</td>\n",
       "      <td>8.997147</td>\n",
       "      <td>0.000000</td>\n",
       "      <td>2.079442</td>\n",
       "    </tr>\n",
       "  </tbody>\n",
       "</table>\n",
       "<p>5 rows × 33 columns</p>\n",
       "</div>"
      ],
      "text/plain": [
       "   waterfront  yr_built  renovated  basement  AUBURN  BELLEVUE  BLACK DIAMOND  \\\n",
       "0         0.0      1955        0.0       0.0       0         0              0   \n",
       "1         0.0      1951        1.0       1.0       0         0              0   \n",
       "2         0.0      1933        0.0       0.0       0         0              0   \n",
       "3         0.0      1965        0.0       1.0       0         0              0   \n",
       "4         0.0      1987        0.0       0.0       0         0              0   \n",
       "\n",
       "   BOTHELL  CARNATION  DUVALL  ...  SAMMAMISH  SNOQUALMIE  VASHON  \\\n",
       "0        0          0       0  ...          0           0       0   \n",
       "1        0          0       0  ...          0           0       0   \n",
       "2        0          0       0  ...          0           0       0   \n",
       "3        0          0       0  ...          0           0       0   \n",
       "4        0          0       0  ...          1           0       0   \n",
       "\n",
       "   WOODINVILLE  log_bedrooms  log_bathrooms  log_sqft_living  log_sqft_lot  \\\n",
       "0            0      1.098612       0.000000         7.073270      8.639411   \n",
       "1            0      1.098612       0.810930         7.851661      8.887653   \n",
       "2            0      0.693147       0.000000         6.646391      9.210340   \n",
       "3            0      1.386294       1.098612         7.580700      8.517193   \n",
       "4            0      1.098612       0.693147         7.426549      8.997147   \n",
       "\n",
       "   log_floors  log_grade  \n",
       "0    0.000000   1.945910  \n",
       "1    0.693147   1.945910  \n",
       "2    0.000000   1.791759  \n",
       "3    0.000000   1.945910  \n",
       "4    0.000000   2.079442  \n",
       "\n",
       "[5 rows x 33 columns]"
      ]
     },
     "execution_count": 169,
     "metadata": {},
     "output_type": "execute_result"
    }
   ],
   "source": [
    "#create X and y matrices and log transform applicable variables\n",
    "X_sf=df_sf.drop(columns=['price'])\n",
    "y_sf=df_sf['price']\n",
    "\n",
    "X_sf,y_sf=prepare_data(X_sf,y_sf)\n",
    "X_sf.head()"
   ]
  },
  {
   "cell_type": "code",
   "execution_count": 170,
   "metadata": {},
   "outputs": [],
   "source": [
    "#train-test split sf data\n",
    "Xsf_train, Xsf_test, ysf_train, ysf_test = train_test_split(X_sf,y_sf,\n",
    "                                                            test_size=.2,\n",
    "                                                            random_state=40)"
   ]
  },
  {
   "cell_type": "code",
   "execution_count": 171,
   "metadata": {},
   "outputs": [
    {
     "data": {
      "text/html": [
       "<table class=\"simpletable\">\n",
       "<caption>OLS Regression Results</caption>\n",
       "<tr>\n",
       "  <th>Dep. Variable:</th>          <td>price</td>      <th>  R-squared:         </th> <td>   0.768</td>\n",
       "</tr>\n",
       "<tr>\n",
       "  <th>Model:</th>                   <td>OLS</td>       <th>  Adj. R-squared:    </th> <td>   0.767</td>\n",
       "</tr>\n",
       "<tr>\n",
       "  <th>Method:</th>             <td>Least Squares</td>  <th>  F-statistic:       </th> <td>   1726.</td>\n",
       "</tr>\n",
       "<tr>\n",
       "  <th>Date:</th>             <td>Wed, 15 Dec 2021</td> <th>  Prob (F-statistic):</th>  <td>  0.00</td> \n",
       "</tr>\n",
       "<tr>\n",
       "  <th>Time:</th>                 <td>15:31:52</td>     <th>  Log-Likelihood:    </th> <td> -752.33</td>\n",
       "</tr>\n",
       "<tr>\n",
       "  <th>No. Observations:</th>      <td> 17260</td>      <th>  AIC:               </th> <td>   1573.</td>\n",
       "</tr>\n",
       "<tr>\n",
       "  <th>Df Residuals:</th>          <td> 17226</td>      <th>  BIC:               </th> <td>   1836.</td>\n",
       "</tr>\n",
       "<tr>\n",
       "  <th>Df Model:</th>              <td>    33</td>      <th>                     </th>     <td> </td>   \n",
       "</tr>\n",
       "<tr>\n",
       "  <th>Covariance Type:</th>      <td>nonrobust</td>    <th>                     </th>     <td> </td>   \n",
       "</tr>\n",
       "</table>\n",
       "<table class=\"simpletable\">\n",
       "<tr>\n",
       "         <td></td>            <th>coef</th>     <th>std err</th>      <th>t</th>      <th>P>|t|</th>  <th>[0.025</th>    <th>0.975]</th>  \n",
       "</tr>\n",
       "<tr>\n",
       "  <th>const</th>           <td>   15.2897</td> <td>    0.205</td> <td>   74.431</td> <td> 0.000</td> <td>   14.887</td> <td>   15.692</td>\n",
       "</tr>\n",
       "<tr>\n",
       "  <th>waterfront</th>      <td>    0.5444</td> <td>    0.025</td> <td>   22.204</td> <td> 0.000</td> <td>    0.496</td> <td>    0.592</td>\n",
       "</tr>\n",
       "<tr>\n",
       "  <th>yr_built</th>        <td>   -0.0042</td> <td> 9.98e-05</td> <td>  -42.459</td> <td> 0.000</td> <td>   -0.004</td> <td>   -0.004</td>\n",
       "</tr>\n",
       "<tr>\n",
       "  <th>renovated</th>       <td>    0.0002</td> <td>    0.011</td> <td>    0.014</td> <td> 0.989</td> <td>   -0.021</td> <td>    0.022</td>\n",
       "</tr>\n",
       "<tr>\n",
       "  <th>basement</th>        <td>    0.0176</td> <td>    0.005</td> <td>    3.512</td> <td> 0.000</td> <td>    0.008</td> <td>    0.027</td>\n",
       "</tr>\n",
       "<tr>\n",
       "  <th>AUBURN</th>          <td>   -0.4651</td> <td>    0.010</td> <td>  -44.619</td> <td> 0.000</td> <td>   -0.486</td> <td>   -0.445</td>\n",
       "</tr>\n",
       "<tr>\n",
       "  <th>BELLEVUE</th>        <td>    0.2439</td> <td>    0.009</td> <td>   27.682</td> <td> 0.000</td> <td>    0.227</td> <td>    0.261</td>\n",
       "</tr>\n",
       "<tr>\n",
       "  <th>BLACK DIAMOND</th>   <td>   -0.1815</td> <td>    0.029</td> <td>   -6.303</td> <td> 0.000</td> <td>   -0.238</td> <td>   -0.125</td>\n",
       "</tr>\n",
       "<tr>\n",
       "  <th>BOTHELL</th>         <td>   -0.0747</td> <td>    0.021</td> <td>   -3.604</td> <td> 0.000</td> <td>   -0.115</td> <td>   -0.034</td>\n",
       "</tr>\n",
       "<tr>\n",
       "  <th>CARNATION</th>       <td>   -0.0980</td> <td>    0.027</td> <td>   -3.589</td> <td> 0.000</td> <td>   -0.151</td> <td>   -0.044</td>\n",
       "</tr>\n",
       "<tr>\n",
       "  <th>DUVALL</th>          <td>   -0.1353</td> <td>    0.022</td> <td>   -6.267</td> <td> 0.000</td> <td>   -0.178</td> <td>   -0.093</td>\n",
       "</tr>\n",
       "<tr>\n",
       "  <th>ENUMCLAW</th>        <td>   -0.3548</td> <td>    0.019</td> <td>  -18.375</td> <td> 0.000</td> <td>   -0.393</td> <td>   -0.317</td>\n",
       "</tr>\n",
       "<tr>\n",
       "  <th>FALL CITY</th>       <td>    0.0132</td> <td>    0.032</td> <td>    0.411</td> <td> 0.681</td> <td>   -0.050</td> <td>    0.076</td>\n",
       "</tr>\n",
       "<tr>\n",
       "  <th>FEDERAL WAY</th>     <td>   -0.5141</td> <td>    0.011</td> <td>  -46.518</td> <td> 0.000</td> <td>   -0.536</td> <td>   -0.492</td>\n",
       "</tr>\n",
       "<tr>\n",
       "  <th>ISSAQUAH</th>        <td>    0.0173</td> <td>    0.011</td> <td>    1.535</td> <td> 0.125</td> <td>   -0.005</td> <td>    0.039</td>\n",
       "</tr>\n",
       "<tr>\n",
       "  <th>KENMORE</th>         <td>   -0.0955</td> <td>    0.017</td> <td>   -5.615</td> <td> 0.000</td> <td>   -0.129</td> <td>   -0.062</td>\n",
       "</tr>\n",
       "<tr>\n",
       "  <th>KENT</th>            <td>   -0.4166</td> <td>    0.009</td> <td>  -44.102</td> <td> 0.000</td> <td>   -0.435</td> <td>   -0.398</td>\n",
       "</tr>\n",
       "<tr>\n",
       "  <th>KIRKLAND</th>        <td>    0.1390</td> <td>    0.010</td> <td>   13.833</td> <td> 0.000</td> <td>    0.119</td> <td>    0.159</td>\n",
       "</tr>\n",
       "<tr>\n",
       "  <th>MAPLE VALLEY</th>    <td>   -0.2918</td> <td>    0.013</td> <td>  -22.586</td> <td> 0.000</td> <td>   -0.317</td> <td>   -0.267</td>\n",
       "</tr>\n",
       "<tr>\n",
       "  <th>MEDINA</th>          <td>    0.7714</td> <td>    0.040</td> <td>   19.312</td> <td> 0.000</td> <td>    0.693</td> <td>    0.850</td>\n",
       "</tr>\n",
       "<tr>\n",
       "  <th>MERCER ISLAND</th>   <td>    0.3610</td> <td>    0.018</td> <td>   20.280</td> <td> 0.000</td> <td>    0.326</td> <td>    0.396</td>\n",
       "</tr>\n",
       "<tr>\n",
       "  <th>NORTH BEND</th>      <td>   -0.1145</td> <td>    0.020</td> <td>   -5.743</td> <td> 0.000</td> <td>   -0.154</td> <td>   -0.075</td>\n",
       "</tr>\n",
       "<tr>\n",
       "  <th>REDMOND</th>         <td>    0.1089</td> <td>    0.011</td> <td>   10.324</td> <td> 0.000</td> <td>    0.088</td> <td>    0.130</td>\n",
       "</tr>\n",
       "<tr>\n",
       "  <th>RENTON</th>          <td>   -0.2280</td> <td>    0.008</td> <td>  -27.237</td> <td> 0.000</td> <td>   -0.244</td> <td>   -0.212</td>\n",
       "</tr>\n",
       "<tr>\n",
       "  <th>SAMMAMISH</th>       <td>    0.0355</td> <td>    0.011</td> <td>    3.127</td> <td> 0.002</td> <td>    0.013</td> <td>    0.058</td>\n",
       "</tr>\n",
       "<tr>\n",
       "  <th>SNOQUALMIE</th>      <td>   -0.0482</td> <td>    0.017</td> <td>   -2.856</td> <td> 0.004</td> <td>   -0.081</td> <td>   -0.015</td>\n",
       "</tr>\n",
       "<tr>\n",
       "  <th>VASHON</th>          <td>   -0.1099</td> <td>    0.028</td> <td>   -3.950</td> <td> 0.000</td> <td>   -0.164</td> <td>   -0.055</td>\n",
       "</tr>\n",
       "<tr>\n",
       "  <th>WOODINVILLE</th>     <td>   -0.0193</td> <td>    0.014</td> <td>   -1.347</td> <td> 0.178</td> <td>   -0.047</td> <td>    0.009</td>\n",
       "</tr>\n",
       "<tr>\n",
       "  <th>log_bedrooms</th>    <td>   -0.1356</td> <td>    0.009</td> <td>  -14.642</td> <td> 0.000</td> <td>   -0.154</td> <td>   -0.117</td>\n",
       "</tr>\n",
       "<tr>\n",
       "  <th>log_bathrooms</th>   <td>    0.1116</td> <td>    0.009</td> <td>   12.369</td> <td> 0.000</td> <td>    0.094</td> <td>    0.129</td>\n",
       "</tr>\n",
       "<tr>\n",
       "  <th>log_sqft_living</th> <td>    0.4530</td> <td>    0.011</td> <td>   42.927</td> <td> 0.000</td> <td>    0.432</td> <td>    0.474</td>\n",
       "</tr>\n",
       "<tr>\n",
       "  <th>log_sqft_lot</th>    <td>   -0.0023</td> <td>    0.003</td> <td>   -0.745</td> <td> 0.456</td> <td>   -0.008</td> <td>    0.004</td>\n",
       "</tr>\n",
       "<tr>\n",
       "  <th>log_floors</th>      <td>    0.1125</td> <td>    0.008</td> <td>   13.613</td> <td> 0.000</td> <td>    0.096</td> <td>    0.129</td>\n",
       "</tr>\n",
       "<tr>\n",
       "  <th>log_grade</th>       <td>    1.3876</td> <td>    0.022</td> <td>   62.565</td> <td> 0.000</td> <td>    1.344</td> <td>    1.431</td>\n",
       "</tr>\n",
       "</table>\n",
       "<table class=\"simpletable\">\n",
       "<tr>\n",
       "  <th>Omnibus:</th>       <td>545.825</td> <th>  Durbin-Watson:     </th> <td>   1.975</td> \n",
       "</tr>\n",
       "<tr>\n",
       "  <th>Prob(Omnibus):</th> <td> 0.000</td>  <th>  Jarque-Bera (JB):  </th> <td>1427.062</td> \n",
       "</tr>\n",
       "<tr>\n",
       "  <th>Skew:</th>          <td>-0.091</td>  <th>  Prob(JB):          </th> <td>1.31e-310</td>\n",
       "</tr>\n",
       "<tr>\n",
       "  <th>Kurtosis:</th>      <td> 4.397</td>  <th>  Cond. No.          </th> <td>2.11e+05</td> \n",
       "</tr>\n",
       "</table><br/><br/>Notes:<br/>[1] Standard Errors assume that the covariance matrix of the errors is correctly specified.<br/>[2] The condition number is large, 2.11e+05. This might indicate that there are<br/>strong multicollinearity or other numerical problems."
      ],
      "text/plain": [
       "<class 'statsmodels.iolib.summary.Summary'>\n",
       "\"\"\"\n",
       "                            OLS Regression Results                            \n",
       "==============================================================================\n",
       "Dep. Variable:                  price   R-squared:                       0.768\n",
       "Model:                            OLS   Adj. R-squared:                  0.767\n",
       "Method:                 Least Squares   F-statistic:                     1726.\n",
       "Date:                Wed, 15 Dec 2021   Prob (F-statistic):               0.00\n",
       "Time:                        15:31:52   Log-Likelihood:                -752.33\n",
       "No. Observations:               17260   AIC:                             1573.\n",
       "Df Residuals:                   17226   BIC:                             1836.\n",
       "Df Model:                          33                                         \n",
       "Covariance Type:            nonrobust                                         \n",
       "===================================================================================\n",
       "                      coef    std err          t      P>|t|      [0.025      0.975]\n",
       "-----------------------------------------------------------------------------------\n",
       "const              15.2897      0.205     74.431      0.000      14.887      15.692\n",
       "waterfront          0.5444      0.025     22.204      0.000       0.496       0.592\n",
       "yr_built           -0.0042   9.98e-05    -42.459      0.000      -0.004      -0.004\n",
       "renovated           0.0002      0.011      0.014      0.989      -0.021       0.022\n",
       "basement            0.0176      0.005      3.512      0.000       0.008       0.027\n",
       "AUBURN             -0.4651      0.010    -44.619      0.000      -0.486      -0.445\n",
       "BELLEVUE            0.2439      0.009     27.682      0.000       0.227       0.261\n",
       "BLACK DIAMOND      -0.1815      0.029     -6.303      0.000      -0.238      -0.125\n",
       "BOTHELL            -0.0747      0.021     -3.604      0.000      -0.115      -0.034\n",
       "CARNATION          -0.0980      0.027     -3.589      0.000      -0.151      -0.044\n",
       "DUVALL             -0.1353      0.022     -6.267      0.000      -0.178      -0.093\n",
       "ENUMCLAW           -0.3548      0.019    -18.375      0.000      -0.393      -0.317\n",
       "FALL CITY           0.0132      0.032      0.411      0.681      -0.050       0.076\n",
       "FEDERAL WAY        -0.5141      0.011    -46.518      0.000      -0.536      -0.492\n",
       "ISSAQUAH            0.0173      0.011      1.535      0.125      -0.005       0.039\n",
       "KENMORE            -0.0955      0.017     -5.615      0.000      -0.129      -0.062\n",
       "KENT               -0.4166      0.009    -44.102      0.000      -0.435      -0.398\n",
       "KIRKLAND            0.1390      0.010     13.833      0.000       0.119       0.159\n",
       "MAPLE VALLEY       -0.2918      0.013    -22.586      0.000      -0.317      -0.267\n",
       "MEDINA              0.7714      0.040     19.312      0.000       0.693       0.850\n",
       "MERCER ISLAND       0.3610      0.018     20.280      0.000       0.326       0.396\n",
       "NORTH BEND         -0.1145      0.020     -5.743      0.000      -0.154      -0.075\n",
       "REDMOND             0.1089      0.011     10.324      0.000       0.088       0.130\n",
       "RENTON             -0.2280      0.008    -27.237      0.000      -0.244      -0.212\n",
       "SAMMAMISH           0.0355      0.011      3.127      0.002       0.013       0.058\n",
       "SNOQUALMIE         -0.0482      0.017     -2.856      0.004      -0.081      -0.015\n",
       "VASHON             -0.1099      0.028     -3.950      0.000      -0.164      -0.055\n",
       "WOODINVILLE        -0.0193      0.014     -1.347      0.178      -0.047       0.009\n",
       "log_bedrooms       -0.1356      0.009    -14.642      0.000      -0.154      -0.117\n",
       "log_bathrooms       0.1116      0.009     12.369      0.000       0.094       0.129\n",
       "log_sqft_living     0.4530      0.011     42.927      0.000       0.432       0.474\n",
       "log_sqft_lot       -0.0023      0.003     -0.745      0.456      -0.008       0.004\n",
       "log_floors          0.1125      0.008     13.613      0.000       0.096       0.129\n",
       "log_grade           1.3876      0.022     62.565      0.000       1.344       1.431\n",
       "==============================================================================\n",
       "Omnibus:                      545.825   Durbin-Watson:                   1.975\n",
       "Prob(Omnibus):                  0.000   Jarque-Bera (JB):             1427.062\n",
       "Skew:                          -0.091   Prob(JB):                    1.31e-310\n",
       "Kurtosis:                       4.397   Cond. No.                     2.11e+05\n",
       "==============================================================================\n",
       "\n",
       "Notes:\n",
       "[1] Standard Errors assume that the covariance matrix of the errors is correctly specified.\n",
       "[2] The condition number is large, 2.11e+05. This might indicate that there are\n",
       "strong multicollinearity or other numerical problems.\n",
       "\"\"\""
      ]
     },
     "execution_count": 171,
     "metadata": {},
     "output_type": "execute_result"
    }
   ],
   "source": [
    "X_train_ols=sm.add_constant(Xsf_train)\n",
    "model=sm.OLS(ysf_train,X_train_ols)\n",
    "results=model.fit()\n",
    "results.summary()"
   ]
  },
  {
   "cell_type": "markdown",
   "metadata": {},
   "source": [
    "R-squared is essentially the same when data is filtered (.001 less).  Since there is no perceivable difference from removing outliers, we'll keep all the data."
   ]
  },
  {
   "cell_type": "markdown",
   "metadata": {},
   "source": [
    "## Recursive Feature Elimination ##\n",
    "\n",
    "I'll use RFE and stepwise feature selection to test if removing certain features increases r-squared."
   ]
  },
  {
   "cell_type": "code",
   "execution_count": 172,
   "metadata": {},
   "outputs": [],
   "source": [
    "linreg_=LinearRegression()\n",
    "#run for top half of features\n",
    "selector=RFE(linreg_)\n",
    "selector=selector.fit(X_train_2,y_train_log)"
   ]
  },
  {
   "cell_type": "code",
   "execution_count": 173,
   "metadata": {},
   "outputs": [],
   "source": [
    "selected=selector.support_"
   ]
  },
  {
   "cell_type": "code",
   "execution_count": 174,
   "metadata": {},
   "outputs": [
    {
     "data": {
      "text/plain": [
       "33"
      ]
     },
     "execution_count": 174,
     "metadata": {},
     "output_type": "execute_result"
    }
   ],
   "source": [
    "len(X_train_2.columns)"
   ]
  },
  {
   "cell_type": "code",
   "execution_count": 175,
   "metadata": {},
   "outputs": [
    {
     "data": {
      "text/plain": [
       "{'waterfront': True,\n",
       " 'yr_built': False,\n",
       " 'renovated': False,\n",
       " 'basement': False,\n",
       " 'AUBURN': True,\n",
       " 'BELLEVUE': True,\n",
       " 'BLACK DIAMOND': True,\n",
       " 'BOTHELL': False,\n",
       " 'CARNATION': True,\n",
       " 'DUVALL': True,\n",
       " 'ENUMCLAW': True,\n",
       " 'FALL CITY': False,\n",
       " 'FEDERAL WAY': True,\n",
       " 'ISSAQUAH': False,\n",
       " 'KENMORE': False,\n",
       " 'KENT': True,\n",
       " 'KIRKLAND': False,\n",
       " 'MAPLE VALLEY': True,\n",
       " 'MEDINA': True,\n",
       " 'MERCER ISLAND': True,\n",
       " 'NORTH BEND': True,\n",
       " 'REDMOND': False,\n",
       " 'RENTON': True,\n",
       " 'SAMMAMISH': False,\n",
       " 'SNOQUALMIE': False,\n",
       " 'VASHON': False,\n",
       " 'WOODINVILLE': False,\n",
       " 'log_bedrooms': False,\n",
       " 'log_bathrooms': False,\n",
       " 'log_sqft_living': True,\n",
       " 'log_sqft_lot': False,\n",
       " 'log_floors': False,\n",
       " 'log_grade': True}"
      ]
     },
     "execution_count": 175,
     "metadata": {},
     "output_type": "execute_result"
    }
   ],
   "source": [
    "{c:b for c,b in zip(X_train_2.columns,selected)}"
   ]
  },
  {
   "cell_type": "code",
   "execution_count": 176,
   "metadata": {},
   "outputs": [
    {
     "name": "stdout",
     "output_type": "stream",
     "text": [
      "r2: 0.7399786851283308\n"
     ]
    }
   ],
   "source": [
    "#try model with just cities, sqft_living, grade, and waterfront\n",
    "X_train_RFE=X_train_2.drop(columns=['log_bedrooms','yr_built',\n",
    "                            'log_floors','log_sqft_lot','log_bathrooms',\n",
    "                            'renovated','basement'])\n",
    "\n",
    "#fit data and get r2\n",
    "linreg.fit(X_train_RFE, y_train_log)\n",
    "y_hat_train=linreg.predict(X_train_RFE)\n",
    "\n",
    "r2=r2_score(y_train_log,y_hat_train)\n",
    "print(f'r2: {r2}')"
   ]
  },
  {
   "cell_type": "code",
   "execution_count": 177,
   "metadata": {},
   "outputs": [
    {
     "data": {
      "text/plain": [
       "{'waterfront': True,\n",
       " 'yr_built': False,\n",
       " 'renovated': True,\n",
       " 'basement': False,\n",
       " 'AUBURN': True,\n",
       " 'BELLEVUE': True,\n",
       " 'BLACK DIAMOND': True,\n",
       " 'BOTHELL': True,\n",
       " 'CARNATION': True,\n",
       " 'DUVALL': True,\n",
       " 'ENUMCLAW': True,\n",
       " 'FALL CITY': True,\n",
       " 'FEDERAL WAY': True,\n",
       " 'ISSAQUAH': True,\n",
       " 'KENMORE': True,\n",
       " 'KENT': True,\n",
       " 'KIRKLAND': False,\n",
       " 'MAPLE VALLEY': True,\n",
       " 'MEDINA': True,\n",
       " 'MERCER ISLAND': True,\n",
       " 'NORTH BEND': True,\n",
       " 'REDMOND': False,\n",
       " 'RENTON': True,\n",
       " 'SAMMAMISH': True,\n",
       " 'SNOQUALMIE': True,\n",
       " 'VASHON': True,\n",
       " 'WOODINVILLE': True,\n",
       " 'log_bedrooms': True,\n",
       " 'log_bathrooms': False,\n",
       " 'log_sqft_living': True,\n",
       " 'log_sqft_lot': False,\n",
       " 'log_floors': False,\n",
       " 'log_grade': True}"
      ]
     },
     "execution_count": 177,
     "metadata": {},
     "output_type": "execute_result"
    }
   ],
   "source": [
    "#Keep 3/4 of features\n",
    "selector=RFE(linreg_,n_features_to_select=26)\n",
    "selector=selector.fit(X_train_2,y_train_log)\n",
    "selected=selector.support_\n",
    "{c:b for c,b in zip(X_train_2.columns,selected)}"
   ]
  },
  {
   "cell_type": "code",
   "execution_count": 178,
   "metadata": {},
   "outputs": [
    {
     "name": "stdout",
     "output_type": "stream",
     "text": [
      "r2: 0.7442254028627406\n"
     ]
    }
   ],
   "source": [
    "#try model with just cities, sqft_living, grade, and waterfront\n",
    "X_train_RFE=X_train_2.drop(columns=['yr_built',\n",
    "                            'log_floors','log_sqft_lot',\n",
    "                                    'log_bathrooms','basement'])\n",
    "\n",
    "#fit data and get r2\n",
    "linreg.fit(X_train_RFE, y_train_log)\n",
    "y_hat_train=linreg.predict(X_train_RFE)\n",
    "\n",
    "r2=r2_score(y_train_log,y_hat_train)\n",
    "print(f'r2: {r2}')"
   ]
  },
  {
   "cell_type": "code",
   "execution_count": 179,
   "metadata": {},
   "outputs": [],
   "source": [
    "#Hard to use Recursive Feature Selection because there are so many city \n",
    "#variables and it doesn't make sense to drop only some of them"
   ]
  },
  {
   "cell_type": "code",
   "execution_count": 180,
   "metadata": {},
   "outputs": [],
   "source": [
    "def stepwise_selection(X, y, \n",
    "                       initial_list=[], \n",
    "                       threshold_in=0.01, \n",
    "                       threshold_out = 0.05, \n",
    "                       verbose=True):\n",
    "    \"\"\" Perform a forward-backward feature selection \n",
    "    based on p-value from statsmodels.api.OLS\n",
    "    Arguments:\n",
    "        X - pandas.DataFrame with candidate features\n",
    "        y - list-like with the target\n",
    "        initial_list - list of features to start with (column names of X)\n",
    "        threshold_in - include a feature if its p-value < threshold_in\n",
    "        threshold_out - exclude a feature if its p-value > threshold_out\n",
    "        verbose - whether to print the sequence of inclusions and exclusions\n",
    "    Returns: list of selected features \n",
    "    Always set threshold_in < threshold_out to avoid infinite looping.\n",
    "    See https://en.wikipedia.org/wiki/Stepwise_regression for the details\n",
    "    \"\"\"\n",
    "    included = list(initial_list)\n",
    "    while True:\n",
    "        changed=False\n",
    "        # forward step\n",
    "        excluded = list(set(X.columns)-set(included))\n",
    "        new_pval = pd.Series(index=excluded)\n",
    "        for new_column in excluded:\n",
    "            model = sm.OLS(y, sm.add_constant(pd.DataFrame(X[included+[new_column]]))).fit()\n",
    "            new_pval[new_column] = model.pvalues[new_column]\n",
    "        best_pval = new_pval.min()\n",
    "        if best_pval < threshold_in:\n",
    "            best_feature = new_pval.idxmin()\n",
    "            included.append(best_feature)\n",
    "            changed=True\n",
    "            if verbose:\n",
    "                print('Add  {:30} with p-value {:.6}'.format(best_feature, best_pval))\n",
    "\n",
    "        # backward step\n",
    "        model = sm.OLS(y, sm.add_constant(pd.DataFrame(X[included]))).fit()\n",
    "        # use all coefs except intercept\n",
    "        pvalues = model.pvalues.iloc[1:]\n",
    "        worst_pval = pvalues.max() # null if pvalues is empty\n",
    "        if worst_pval > threshold_out:\n",
    "            changed=True\n",
    "            worst_feature = pvalues.idxmax()\n",
    "            included.remove(worst_feature)\n",
    "            if verbose:\n",
    "                print('Drop {:30} with p-value {:.6}'.format(worst_feature, worst_pval))\n",
    "        if not changed:\n",
    "            break\n",
    "    return included"
   ]
  },
  {
   "cell_type": "code",
   "execution_count": 181,
   "metadata": {},
   "outputs": [
    {
     "name": "stderr",
     "output_type": "stream",
     "text": [
      "<ipython-input-180-3a06d07146b7>:24: DeprecationWarning: The default dtype for empty Series will be 'object' instead of 'float64' in a future version. Specify a dtype explicitly to silence this warning.\n",
      "  new_pval = pd.Series(index=excluded)\n",
      "<ipython-input-180-3a06d07146b7>:24: DeprecationWarning: The default dtype for empty Series will be 'object' instead of 'float64' in a future version. Specify a dtype explicitly to silence this warning.\n",
      "  new_pval = pd.Series(index=excluded)\n",
      "<ipython-input-180-3a06d07146b7>:24: DeprecationWarning: The default dtype for empty Series will be 'object' instead of 'float64' in a future version. Specify a dtype explicitly to silence this warning.\n",
      "  new_pval = pd.Series(index=excluded)\n",
      "<ipython-input-180-3a06d07146b7>:24: DeprecationWarning: The default dtype for empty Series will be 'object' instead of 'float64' in a future version. Specify a dtype explicitly to silence this warning.\n",
      "  new_pval = pd.Series(index=excluded)\n",
      "<ipython-input-180-3a06d07146b7>:24: DeprecationWarning: The default dtype for empty Series will be 'object' instead of 'float64' in a future version. Specify a dtype explicitly to silence this warning.\n",
      "  new_pval = pd.Series(index=excluded)\n",
      "<ipython-input-180-3a06d07146b7>:24: DeprecationWarning: The default dtype for empty Series will be 'object' instead of 'float64' in a future version. Specify a dtype explicitly to silence this warning.\n",
      "  new_pval = pd.Series(index=excluded)\n",
      "<ipython-input-180-3a06d07146b7>:24: DeprecationWarning: The default dtype for empty Series will be 'object' instead of 'float64' in a future version. Specify a dtype explicitly to silence this warning.\n",
      "  new_pval = pd.Series(index=excluded)\n",
      "<ipython-input-180-3a06d07146b7>:24: DeprecationWarning: The default dtype for empty Series will be 'object' instead of 'float64' in a future version. Specify a dtype explicitly to silence this warning.\n",
      "  new_pval = pd.Series(index=excluded)\n",
      "<ipython-input-180-3a06d07146b7>:24: DeprecationWarning: The default dtype for empty Series will be 'object' instead of 'float64' in a future version. Specify a dtype explicitly to silence this warning.\n",
      "  new_pval = pd.Series(index=excluded)\n",
      "<ipython-input-180-3a06d07146b7>:24: DeprecationWarning: The default dtype for empty Series will be 'object' instead of 'float64' in a future version. Specify a dtype explicitly to silence this warning.\n",
      "  new_pval = pd.Series(index=excluded)\n",
      "<ipython-input-180-3a06d07146b7>:24: DeprecationWarning: The default dtype for empty Series will be 'object' instead of 'float64' in a future version. Specify a dtype explicitly to silence this warning.\n",
      "  new_pval = pd.Series(index=excluded)\n",
      "<ipython-input-180-3a06d07146b7>:24: DeprecationWarning: The default dtype for empty Series will be 'object' instead of 'float64' in a future version. Specify a dtype explicitly to silence this warning.\n",
      "  new_pval = pd.Series(index=excluded)\n",
      "<ipython-input-180-3a06d07146b7>:24: DeprecationWarning: The default dtype for empty Series will be 'object' instead of 'float64' in a future version. Specify a dtype explicitly to silence this warning.\n",
      "  new_pval = pd.Series(index=excluded)\n",
      "<ipython-input-180-3a06d07146b7>:24: DeprecationWarning: The default dtype for empty Series will be 'object' instead of 'float64' in a future version. Specify a dtype explicitly to silence this warning.\n",
      "  new_pval = pd.Series(index=excluded)\n",
      "<ipython-input-180-3a06d07146b7>:24: DeprecationWarning: The default dtype for empty Series will be 'object' instead of 'float64' in a future version. Specify a dtype explicitly to silence this warning.\n",
      "  new_pval = pd.Series(index=excluded)\n",
      "<ipython-input-180-3a06d07146b7>:24: DeprecationWarning: The default dtype for empty Series will be 'object' instead of 'float64' in a future version. Specify a dtype explicitly to silence this warning.\n",
      "  new_pval = pd.Series(index=excluded)\n",
      "<ipython-input-180-3a06d07146b7>:24: DeprecationWarning: The default dtype for empty Series will be 'object' instead of 'float64' in a future version. Specify a dtype explicitly to silence this warning.\n",
      "  new_pval = pd.Series(index=excluded)\n",
      "<ipython-input-180-3a06d07146b7>:24: DeprecationWarning: The default dtype for empty Series will be 'object' instead of 'float64' in a future version. Specify a dtype explicitly to silence this warning.\n",
      "  new_pval = pd.Series(index=excluded)\n",
      "<ipython-input-180-3a06d07146b7>:24: DeprecationWarning: The default dtype for empty Series will be 'object' instead of 'float64' in a future version. Specify a dtype explicitly to silence this warning.\n",
      "  new_pval = pd.Series(index=excluded)\n",
      "<ipython-input-180-3a06d07146b7>:24: DeprecationWarning: The default dtype for empty Series will be 'object' instead of 'float64' in a future version. Specify a dtype explicitly to silence this warning.\n",
      "  new_pval = pd.Series(index=excluded)\n",
      "<ipython-input-180-3a06d07146b7>:24: DeprecationWarning: The default dtype for empty Series will be 'object' instead of 'float64' in a future version. Specify a dtype explicitly to silence this warning.\n",
      "  new_pval = pd.Series(index=excluded)\n",
      "<ipython-input-180-3a06d07146b7>:24: DeprecationWarning: The default dtype for empty Series will be 'object' instead of 'float64' in a future version. Specify a dtype explicitly to silence this warning.\n",
      "  new_pval = pd.Series(index=excluded)\n",
      "<ipython-input-180-3a06d07146b7>:24: DeprecationWarning: The default dtype for empty Series will be 'object' instead of 'float64' in a future version. Specify a dtype explicitly to silence this warning.\n",
      "  new_pval = pd.Series(index=excluded)\n",
      "<ipython-input-180-3a06d07146b7>:24: DeprecationWarning: The default dtype for empty Series will be 'object' instead of 'float64' in a future version. Specify a dtype explicitly to silence this warning.\n",
      "  new_pval = pd.Series(index=excluded)\n",
      "<ipython-input-180-3a06d07146b7>:24: DeprecationWarning: The default dtype for empty Series will be 'object' instead of 'float64' in a future version. Specify a dtype explicitly to silence this warning.\n",
      "  new_pval = pd.Series(index=excluded)\n",
      "<ipython-input-180-3a06d07146b7>:24: DeprecationWarning: The default dtype for empty Series will be 'object' instead of 'float64' in a future version. Specify a dtype explicitly to silence this warning.\n",
      "  new_pval = pd.Series(index=excluded)\n",
      "<ipython-input-180-3a06d07146b7>:24: DeprecationWarning: The default dtype for empty Series will be 'object' instead of 'float64' in a future version. Specify a dtype explicitly to silence this warning.\n",
      "  new_pval = pd.Series(index=excluded)\n",
      "<ipython-input-180-3a06d07146b7>:24: DeprecationWarning: The default dtype for empty Series will be 'object' instead of 'float64' in a future version. Specify a dtype explicitly to silence this warning.\n",
      "  new_pval = pd.Series(index=excluded)\n",
      "<ipython-input-180-3a06d07146b7>:24: DeprecationWarning: The default dtype for empty Series will be 'object' instead of 'float64' in a future version. Specify a dtype explicitly to silence this warning.\n",
      "  new_pval = pd.Series(index=excluded)\n",
      "<ipython-input-180-3a06d07146b7>:24: DeprecationWarning: The default dtype for empty Series will be 'object' instead of 'float64' in a future version. Specify a dtype explicitly to silence this warning.\n",
      "  new_pval = pd.Series(index=excluded)\n"
     ]
    },
    {
     "data": {
      "text/plain": [
       "['log_sqft_living',\n",
       " 'log_grade',\n",
       " 'KENT',\n",
       " 'AUBURN',\n",
       " 'yr_built',\n",
       " 'FEDERAL WAY',\n",
       " 'RENTON',\n",
       " 'MAPLE VALLEY',\n",
       " 'waterfront',\n",
       " 'BELLEVUE',\n",
       " 'ENUMCLAW',\n",
       " 'MERCER ISLAND',\n",
       " 'MEDINA',\n",
       " 'log_floors',\n",
       " 'KIRKLAND',\n",
       " 'log_bedrooms',\n",
       " 'log_bathrooms',\n",
       " 'REDMOND',\n",
       " 'DUVALL',\n",
       " 'NORTH BEND',\n",
       " 'KENMORE',\n",
       " 'BLACK DIAMOND',\n",
       " 'CARNATION',\n",
       " 'basement',\n",
       " 'SNOQUALMIE',\n",
       " 'VASHON',\n",
       " 'BOTHELL',\n",
       " 'SAMMAMISH']"
      ]
     },
     "execution_count": 181,
     "metadata": {},
     "output_type": "execute_result"
    }
   ],
   "source": [
    "ss_result=stepwise_selection(X_train_2,y_train_log,verbose=False)\n",
    "ss_result"
   ]
  },
  {
   "cell_type": "code",
   "execution_count": 182,
   "metadata": {},
   "outputs": [
    {
     "data": {
      "text/plain": [
       "Index(['waterfront', 'yr_built', 'renovated', 'basement', 'AUBURN', 'BELLEVUE',\n",
       "       'BLACK DIAMOND', 'BOTHELL', 'CARNATION', 'DUVALL', 'ENUMCLAW',\n",
       "       'FALL CITY', 'FEDERAL WAY', 'ISSAQUAH', 'KENMORE', 'KENT', 'KIRKLAND',\n",
       "       'MAPLE VALLEY', 'MEDINA', 'MERCER ISLAND', 'NORTH BEND', 'REDMOND',\n",
       "       'RENTON', 'SAMMAMISH', 'SNOQUALMIE', 'VASHON', 'WOODINVILLE',\n",
       "       'log_bedrooms', 'log_bathrooms', 'log_sqft_living', 'log_sqft_lot',\n",
       "       'log_floors', 'log_grade'],\n",
       "      dtype='object')"
      ]
     },
     "execution_count": 182,
     "metadata": {},
     "output_type": "execute_result"
    }
   ],
   "source": [
    "X_train_2.columns"
   ]
  },
  {
   "cell_type": "code",
   "execution_count": 183,
   "metadata": {},
   "outputs": [
    {
     "name": "stdout",
     "output_type": "stream",
     "text": [
      "r2: 0.7693925323963272\n"
     ]
    }
   ],
   "source": [
    "#try model with just cities, sqft_living, grade, and waterfront\n",
    "X_train_RFE=X_train_2.drop(columns=['renovated', 'log_sqft_lot'])\n",
    "\n",
    "#fit data and get r2\n",
    "linreg.fit(X_train_RFE, y_train_log)\n",
    "y_hat_train=linreg.predict(X_train_RFE)\n",
    "\n",
    "r2=r2_score(y_train_log,y_hat_train)\n",
    "print(f'r2: {r2}')"
   ]
  },
  {
   "cell_type": "markdown",
   "metadata": {},
   "source": [
    "With both RFE and Stepwise selection, could not come up with an r-squared that was better than if all features were included."
   ]
  },
  {
   "cell_type": "markdown",
   "metadata": {},
   "source": [
    "## Interactions ##"
   ]
  },
  {
   "cell_type": "code",
   "execution_count": 184,
   "metadata": {
    "scrolled": true
   },
   "outputs": [
    {
     "data": {
      "text/plain": [
       "0.7681621204093325"
      ]
     },
     "execution_count": 184,
     "metadata": {},
     "output_type": "execute_result"
    }
   ],
   "source": [
    "results=np.mean(cross_val_score(linreg,X_train_2,y_train_log,scoring='r2'))\n",
    "results"
   ]
  },
  {
   "cell_type": "markdown",
   "metadata": {},
   "source": [
    "### Polynomial relationships ###"
   ]
  },
  {
   "cell_type": "code",
   "execution_count": 185,
   "metadata": {},
   "outputs": [],
   "source": [
    "#try polynomial relationships\n",
    "\n",
    "poly=PolynomialFeatures(2)\n",
    "X_poly=poly.fit_transform(X_train_2)\n",
    "#poly.get_feature_names()"
   ]
  },
  {
   "cell_type": "code",
   "execution_count": 186,
   "metadata": {},
   "outputs": [],
   "source": [
    "reg_poly=LinearRegression().fit(X_poly,y_train_log)"
   ]
  },
  {
   "cell_type": "code",
   "execution_count": 187,
   "metadata": {},
   "outputs": [
    {
     "data": {
      "text/plain": [
       "array([0.80599637, 0.81651384, 0.79761235, 0.81527284, 0.808651  ])"
      ]
     },
     "execution_count": 187,
     "metadata": {},
     "output_type": "execute_result"
    }
   ],
   "source": [
    "results=cross_val_score(reg_poly,X_poly,y_train_log,scoring='r2')\n",
    "np.mean(results)\n",
    "results"
   ]
  },
  {
   "cell_type": "markdown",
   "metadata": {},
   "source": [
    "Polynomial fit increased r-squared from .76 to .81. We've already accepted issues that decreased interpretability but need to be wary of whether we are overfitting data.  "
   ]
  },
  {
   "cell_type": "markdown",
   "metadata": {},
   "source": [
    "### 2-Feature Interaction ###"
   ]
  },
  {
   "cell_type": "code",
   "execution_count": 188,
   "metadata": {},
   "outputs": [],
   "source": [
    "\n",
    "def try_interaction(f1,f2,X,y):\n",
    "    \"\"\"\n",
    "    Take X and y and add feature column by multiplying f1 by f2. \n",
    "    f1 and f2 should be features contained in X\n",
    "    Returns r2 k folds cross validation score for 5 fold test\n",
    "    \"\"\"\n",
    "    \n",
    "    X_int=X.copy()\n",
    "    X_int['int']=X_int[f1]*X_int[f2]\n",
    "\n",
    "    linreg=LinearRegression()\n",
    "    linreg.fit(X_int, y)\n",
    "\n",
    "    return np.mean(cross_val_score(linreg,X_int,y,scoring='r2'))\n"
   ]
  },
  {
   "cell_type": "code",
   "execution_count": 189,
   "metadata": {},
   "outputs": [
    {
     "data": {
      "text/plain": [
       "0.7715241102092592"
      ]
     },
     "execution_count": 189,
     "metadata": {},
     "output_type": "execute_result"
    }
   ],
   "source": [
    "try_interaction('log_bathrooms','log_sqft_living',X_train_2,y_train_log)"
   ]
  },
  {
   "cell_type": "markdown",
   "metadata": {},
   "source": [
    "Essentially the same as with no interaction.\n",
    "\n",
    "Iterate through all combinations of non-city features and see if any interactions increase R-squared"
   ]
  },
  {
   "cell_type": "code",
   "execution_count": 190,
   "metadata": {},
   "outputs": [
    {
     "data": {
      "text/plain": [
       "Index(['waterfront', 'yr_built', 'renovated', 'basement', 'AUBURN', 'BELLEVUE',\n",
       "       'BLACK DIAMOND', 'BOTHELL', 'CARNATION', 'DUVALL', 'ENUMCLAW',\n",
       "       'FALL CITY', 'FEDERAL WAY', 'ISSAQUAH', 'KENMORE', 'KENT', 'KIRKLAND',\n",
       "       'MAPLE VALLEY', 'MEDINA', 'MERCER ISLAND', 'NORTH BEND', 'REDMOND',\n",
       "       'RENTON', 'SAMMAMISH', 'SNOQUALMIE', 'VASHON', 'WOODINVILLE',\n",
       "       'log_bedrooms', 'log_bathrooms', 'log_sqft_living', 'log_sqft_lot',\n",
       "       'log_floors', 'log_grade'],\n",
       "      dtype='object')"
      ]
     },
     "execution_count": 190,
     "metadata": {},
     "output_type": "execute_result"
    }
   ],
   "source": [
    "X_train_2.columns"
   ]
  },
  {
   "cell_type": "markdown",
   "metadata": {},
   "source": [
    "Try interactions between all of the non-city features and see if any of them raise the r2 score above .76"
   ]
  },
  {
   "cell_type": "code",
   "execution_count": 191,
   "metadata": {},
   "outputs": [
    {
     "data": {
      "text/plain": [
       "[(('log_bedrooms', 'log_grade'), 0.7703477410202734),\n",
       " (('log_bathrooms', 'log_sqft_living'), 0.7715241102092592),\n",
       " (('log_bathrooms', 'log_grade'), 0.770681413824168),\n",
       " (('log_sqft_living', 'log_grade'), 0.7718806842157269)]"
      ]
     },
     "execution_count": 191,
     "metadata": {},
     "output_type": "execute_result"
    }
   ],
   "source": [
    "non_city_cols=['waterfront', 'yr_built', 'renovated', 'basement',\n",
    "               'log_bedrooms', 'log_bathrooms', 'log_sqft_living', \n",
    "               'log_sqft_lot','log_floors', 'log_grade']\n",
    "combs=combinations(non_city_cols,2)\n",
    "\n",
    "r2_to_beat=.77\n",
    "int_results=[]\n",
    "\n",
    "for c in combs:\n",
    "    f1=c[0]\n",
    "    f2=c[1]\n",
    "    r2=try_interaction(f1,f2,X_train_2,y_train_log)\n",
    "    if r2>r2_to_beat:\n",
    "        int_results.append((c,r2))\n",
    "int_results"
   ]
  },
  {
   "cell_type": "code",
   "execution_count": 192,
   "metadata": {},
   "outputs": [
    {
     "data": {
      "text/plain": [
       "0.7721542140202475"
      ]
     },
     "execution_count": 192,
     "metadata": {},
     "output_type": "execute_result"
    }
   ],
   "source": [
    "#try running with top two interactions\n",
    "X_int=X_train_2.copy()\n",
    "X_int['int1']=X_int['log_bathrooms']*X_int['log_sqft_living']\n",
    "X_int['int2']=X_int['log_sqft_living']*X_int['log_grade']\n",
    "linreg.fit(X_int, y_train_log)\n",
    "\n",
    "np.mean(cross_val_score(linreg,X_int,y_train_log,scoring='r2'))"
   ]
  },
  {
   "cell_type": "markdown",
   "metadata": {},
   "source": [
    "Consider adding these interactions to increase r-squared. Must be wary of bias variance trade-off."
   ]
  },
  {
   "cell_type": "markdown",
   "metadata": {},
   "source": [
    "## Fit Test Data ##"
   ]
  },
  {
   "cell_type": "code",
   "execution_count": 193,
   "metadata": {},
   "outputs": [],
   "source": [
    "to_drop=['condition','sqft_above','sqft_living15','sqft_lot15']\n",
    "X_test_1=X_test.drop(columns=to_drop)\n",
    "X_test_prepared,y_test_prepared=prepare_data(X_test_1,y_test)"
   ]
  },
  {
   "cell_type": "code",
   "execution_count": 194,
   "metadata": {},
   "outputs": [
    {
     "name": "stdout",
     "output_type": "stream",
     "text": [
      "train r2: 0.7694000716434148\n",
      "test r2: 0.7678937100407183\n"
     ]
    }
   ],
   "source": [
    "#run model with no interactions with test data\n",
    "linreg = LinearRegression()\n",
    "linreg.fit(X_train_2, y_train_log)\n",
    "\n",
    "y_hat_train=linreg.predict(X_train_2)\n",
    "y_hat_test=linreg.predict(X_test_prepared)\n",
    "\n",
    "r2=r2_score(y_train_log,y_hat_train)\n",
    "r2_test=r2_score(y_test_prepared,y_hat_test)\n",
    "print(f'train r2: {r2}')\n",
    "print(f'test r2: {r2_test}')\n"
   ]
  },
  {
   "cell_type": "code",
   "execution_count": 195,
   "metadata": {},
   "outputs": [
    {
     "name": "stdout",
     "output_type": "stream",
     "text": [
      "train r2: 0.8177302813671159\n",
      "test r2: 0.8080959759516018\n"
     ]
    }
   ],
   "source": [
    "#run polynomial regression with test data\n",
    "poly=PolynomialFeatures(2)\n",
    "X_poly=poly.fit_transform(X_train_2)\n",
    "X_test_poly=poly.transform(X_test_prepared)\n",
    "reg_poly=LinearRegression().fit(X_poly,y_train_log)\n",
    "\n",
    "y_hat_train=reg_poly.predict(X_poly)\n",
    "y_hat_test=reg_poly.predict(X_test_poly)\n",
    "\n",
    "r2=r2_score(y_train_log,y_hat_train)\n",
    "r2_test=r2_score(y_test_prepared,y_hat_test)\n",
    "print(f'train r2: {r2}')\n",
    "print(f'test r2: {r2_test}')"
   ]
  },
  {
   "cell_type": "code",
   "execution_count": 196,
   "metadata": {},
   "outputs": [],
   "source": [
    "X_train_ols=sm.add_constant(X_poly)\n",
    "model=sm.OLS(y_train_log,X_train_ols)\n",
    "results=model.fit()\n",
    "results.summary();"
   ]
  },
  {
   "cell_type": "code",
   "execution_count": 197,
   "metadata": {},
   "outputs": [
    {
     "name": "stdout",
     "output_type": "stream",
     "text": [
      "train r2: 0.773546950178098\n",
      "test r2: 0.7732414333895378\n"
     ]
    }
   ],
   "source": [
    "#run model with two interractions with test data\n",
    "linreg_int=LinearRegression()\n",
    "linreg_int.fit(X_int, y_train_log)\n",
    "X_test_int=X_test_prepared.copy()\n",
    "X_test_int['int1']=X_test_int['log_bathrooms']*X_test_int['log_sqft_living']\n",
    "X_test_int['int2']=X_test_int['log_sqft_living']*X_test_int['log_grade']\n",
    "\n",
    "y_hat_train=linreg_int.predict(X_int)\n",
    "y_hat_test=linreg_int.predict(X_test_int)\n",
    "\n",
    "r2=r2_score(y_train_log,y_hat_train)\n",
    "r2_test=r2_score(y_test_prepared,y_hat_test)\n",
    "print(f'train r2: {r2}')\n",
    "print(f'test r2: {r2_test}')"
   ]
  },
  {
   "cell_type": "markdown",
   "metadata": {},
   "source": [
    "## Choose Model ##"
   ]
  },
  {
   "cell_type": "markdown",
   "metadata": {},
   "source": [
    "The quadratic polynomial model has the highest r-squared and does not appear to be overfit as the test data has a similar r-squared. However, it is extremely difficult to interpret.  \n",
    "\n",
    "But- the model with no interactions is almost equally difficult to interpret due to high multicollinearity of many features.  We can use the coefficients to examine the impact of cities, waterfront, and basement but not other features that single family homebuyers are generally interested in like bedrooms, bathrooms, and sqft.\n",
    "\n",
    "If the overall goal of this model is prediction, then the polynomial interaction model should be used.  Ideally, home buyers would be able to input features they are interested in on an app and the model would predict price.  They are more likely to get meaningful information from these predictions by changing features than if we were to provide specific information about how much price increases by selecting certain cities or changing features by a %.  The predicted prices are more understandable for the audience and are more helpful when determining if a house is properly priced.  I will provide a sample of different inputs a home-buyer may use while considering their options."
   ]
  },
  {
   "cell_type": "code",
   "execution_count": 198,
   "metadata": {},
   "outputs": [],
   "source": [
    "with open('king_model.pickle','wb') as f:\n",
    "    pickle.dump(reg_poly,f)"
   ]
  },
  {
   "cell_type": "code",
   "execution_count": 199,
   "metadata": {},
   "outputs": [
    {
     "name": "stdout",
     "output_type": "stream",
     "text": [
      "<class 'pandas.core.frame.DataFrame'>\n",
      "Int64Index: 17277 entries, 2093 to 11590\n",
      "Data columns (total 33 columns):\n",
      " #   Column           Non-Null Count  Dtype  \n",
      "---  ------           --------------  -----  \n",
      " 0   waterfront       17277 non-null  float64\n",
      " 1   yr_built         17277 non-null  int64  \n",
      " 2   renovated        17277 non-null  float64\n",
      " 3   basement         17277 non-null  float64\n",
      " 4   AUBURN           17277 non-null  uint8  \n",
      " 5   BELLEVUE         17277 non-null  uint8  \n",
      " 6   BLACK DIAMOND    17277 non-null  uint8  \n",
      " 7   BOTHELL          17277 non-null  uint8  \n",
      " 8   CARNATION        17277 non-null  uint8  \n",
      " 9   DUVALL           17277 non-null  uint8  \n",
      " 10  ENUMCLAW         17277 non-null  uint8  \n",
      " 11  FALL CITY        17277 non-null  uint8  \n",
      " 12  FEDERAL WAY      17277 non-null  uint8  \n",
      " 13  ISSAQUAH         17277 non-null  uint8  \n",
      " 14  KENMORE          17277 non-null  uint8  \n",
      " 15  KENT             17277 non-null  uint8  \n",
      " 16  KIRKLAND         17277 non-null  uint8  \n",
      " 17  MAPLE VALLEY     17277 non-null  uint8  \n",
      " 18  MEDINA           17277 non-null  uint8  \n",
      " 19  MERCER ISLAND    17277 non-null  uint8  \n",
      " 20  NORTH BEND       17277 non-null  uint8  \n",
      " 21  REDMOND          17277 non-null  uint8  \n",
      " 22  RENTON           17277 non-null  uint8  \n",
      " 23  SAMMAMISH        17277 non-null  uint8  \n",
      " 24  SNOQUALMIE       17277 non-null  uint8  \n",
      " 25  VASHON           17277 non-null  uint8  \n",
      " 26  WOODINVILLE      17277 non-null  uint8  \n",
      " 27  log_bedrooms     17277 non-null  float64\n",
      " 28  log_bathrooms    17277 non-null  float64\n",
      " 29  log_sqft_living  17277 non-null  float64\n",
      " 30  log_sqft_lot     17277 non-null  float64\n",
      " 31  log_floors       17277 non-null  float64\n",
      " 32  log_grade        17277 non-null  float64\n",
      "dtypes: float64(9), int64(1), uint8(23)\n",
      "memory usage: 1.8 MB\n"
     ]
    }
   ],
   "source": [
    "X_train_2.info()"
   ]
  },
  {
   "cell_type": "code",
   "execution_count": 200,
   "metadata": {},
   "outputs": [],
   "source": [
    "#input format\n",
    "input_dictionary={\n",
    "    'waterfront':0, #1 or 0\n",
    "    'yr_built':2003, #year integer\n",
    "    'renovated':0, #1 or 0\n",
    "    'basement':0, #1 or 0\n",
    "    'city':'MAPLE VALLEY', #all caps string\n",
    "    'bedrooms': 3, #integer\n",
    "    'bathrooms':2.5, #integer\n",
    "    'sqft_living':1890, #sqft number\n",
    "    'sqft_lot':6560, #sqft of lot\n",
    "    'floors': 2,  #int\n",
    "    'grade': 7  #king county grading system\n",
    "}\n"
   ]
  },
  {
   "cell_type": "code",
   "execution_count": 201,
   "metadata": {},
   "outputs": [
    {
     "data": {
      "text/plain": [
       "'Predicted price: $319,826'"
      ]
     },
     "execution_count": 201,
     "metadata": {},
     "output_type": "execute_result"
    }
   ],
   "source": [
    "def predict_price(inputs):\n",
    "    \"\"\"\n",
    "    Assign inputs from dictionary into dataframe.\n",
    "    \n",
    "    Perform log transformations on appropriate features.\n",
    "    \n",
    "    Perform polynomial transformation on data. \n",
    "    \n",
    "    Predicts log of price with reg_poly.\n",
    "    \n",
    "    Exponentiate log of price and return price.\n",
    "    \"\"\"\n",
    "    X_input=pd.Series(data=np.zeros(33),index=['bedrooms', 'bathrooms', \n",
    "       'sqft_living', 'sqft_lot', 'floors',\n",
    "       'waterfront', 'grade', 'yr_built', 'renovated', 'basement', 'AUBURN',\n",
    "       'BELLEVUE', 'BLACK DIAMOND', 'BOTHELL', 'CARNATION', 'DUVALL',\n",
    "       'ENUMCLAW', 'FALL CITY', 'FEDERAL WAY', 'ISSAQUAH', 'KENMORE', 'KENT',\n",
    "       'KIRKLAND', 'MAPLE VALLEY', 'MEDINA', 'MERCER ISLAND', 'NORTH BEND',\n",
    "       'REDMOND', 'RENTON', 'SAMMAMISH', 'SNOQUALMIE', 'VASHON',\n",
    "       'WOODINVILLE'])\n",
    "    \n",
    "    features=['waterfront','yr_built','renovated','basement','bedrooms',\n",
    "          'bathrooms','sqft_living','sqft_lot','floors','grade']\n",
    "    \n",
    "    #input all features but city\n",
    "    for f in features:\n",
    "        X_input[f]=inputs[f]\n",
    "    \n",
    "    #input city\n",
    "    city=inputs['city']\n",
    "    if city != 'SEATTLE':\n",
    "        X_input[city]=1.0\n",
    "        \n",
    "    to_log=['bedrooms','bathrooms','sqft_living','sqft_lot',\n",
    "          'floors','grade']\n",
    "    \n",
    "    log_df=np.log(X_input[to_log])\n",
    "    new_df=pd.concat([X_input.drop(index=to_log),log_df])\n",
    "    \n",
    "    #add 'log' to transformed column names\n",
    "    rename_dict={c:f'log_{c}' for c in to_log}\n",
    "    new_df.rename(index=rename_dict,inplace=True)\n",
    "    #print(new_df)\n",
    "    x_array=np.array(new_df).reshape(1,-1)\n",
    "    \n",
    "    X_poly=poly.transform(x_array)\n",
    "    #X_poly2=X_poly.reshape(1,-1)\n",
    "    log_price=reg_poly.predict(X_poly)\n",
    "    price=np.exp(log_price)\n",
    "        \n",
    "    return \"Predicted price: ${:,}\".format(int(price[0]))\n",
    "        \n",
    "predict_price(input_dictionary)        \n",
    "    "
   ]
  },
  {
   "cell_type": "code",
   "execution_count": 202,
   "metadata": {
    "scrolled": true
   },
   "outputs": [
    {
     "data": {
      "text/html": [
       "<div>\n",
       "<style scoped>\n",
       "    .dataframe tbody tr th:only-of-type {\n",
       "        vertical-align: middle;\n",
       "    }\n",
       "\n",
       "    .dataframe tbody tr th {\n",
       "        vertical-align: top;\n",
       "    }\n",
       "\n",
       "    .dataframe thead th {\n",
       "        text-align: right;\n",
       "    }\n",
       "</style>\n",
       "<table border=\"1\" class=\"dataframe\">\n",
       "  <thead>\n",
       "    <tr style=\"text-align: right;\">\n",
       "      <th></th>\n",
       "      <th>price</th>\n",
       "      <th>bedrooms</th>\n",
       "      <th>bathrooms</th>\n",
       "      <th>sqft_living</th>\n",
       "      <th>sqft_lot</th>\n",
       "      <th>floors</th>\n",
       "      <th>waterfront</th>\n",
       "      <th>condition</th>\n",
       "      <th>grade</th>\n",
       "      <th>sqft_above</th>\n",
       "      <th>yr_built</th>\n",
       "      <th>sqft_living15</th>\n",
       "      <th>sqft_lot15</th>\n",
       "      <th>renovated</th>\n",
       "      <th>basement</th>\n",
       "      <th>city</th>\n",
       "    </tr>\n",
       "  </thead>\n",
       "  <tbody>\n",
       "    <tr>\n",
       "      <th>9</th>\n",
       "      <td>323000.0</td>\n",
       "      <td>3</td>\n",
       "      <td>2.50</td>\n",
       "      <td>1890</td>\n",
       "      <td>6560</td>\n",
       "      <td>2.0</td>\n",
       "      <td>0.0</td>\n",
       "      <td>3</td>\n",
       "      <td>7</td>\n",
       "      <td>1890</td>\n",
       "      <td>2003</td>\n",
       "      <td>2390</td>\n",
       "      <td>7570</td>\n",
       "      <td>0.0</td>\n",
       "      <td>0.0</td>\n",
       "      <td>MAPLE VALLEY</td>\n",
       "    </tr>\n",
       "    <tr>\n",
       "      <th>73</th>\n",
       "      <td>360000.0</td>\n",
       "      <td>4</td>\n",
       "      <td>2.50</td>\n",
       "      <td>2380</td>\n",
       "      <td>5000</td>\n",
       "      <td>2.0</td>\n",
       "      <td>0.0</td>\n",
       "      <td>3</td>\n",
       "      <td>8</td>\n",
       "      <td>2380</td>\n",
       "      <td>2005</td>\n",
       "      <td>2420</td>\n",
       "      <td>5000</td>\n",
       "      <td>0.0</td>\n",
       "      <td>0.0</td>\n",
       "      <td>MAPLE VALLEY</td>\n",
       "    </tr>\n",
       "    <tr>\n",
       "      <th>80</th>\n",
       "      <td>390000.0</td>\n",
       "      <td>3</td>\n",
       "      <td>2.50</td>\n",
       "      <td>2350</td>\n",
       "      <td>5100</td>\n",
       "      <td>2.0</td>\n",
       "      <td>0.0</td>\n",
       "      <td>3</td>\n",
       "      <td>8</td>\n",
       "      <td>2350</td>\n",
       "      <td>2003</td>\n",
       "      <td>2350</td>\n",
       "      <td>5363</td>\n",
       "      <td>0.0</td>\n",
       "      <td>0.0</td>\n",
       "      <td>MAPLE VALLEY</td>\n",
       "    </tr>\n",
       "    <tr>\n",
       "      <th>81</th>\n",
       "      <td>360000.0</td>\n",
       "      <td>4</td>\n",
       "      <td>2.50</td>\n",
       "      <td>1900</td>\n",
       "      <td>5889</td>\n",
       "      <td>2.0</td>\n",
       "      <td>0.0</td>\n",
       "      <td>3</td>\n",
       "      <td>7</td>\n",
       "      <td>1900</td>\n",
       "      <td>1992</td>\n",
       "      <td>1870</td>\n",
       "      <td>6405</td>\n",
       "      <td>0.0</td>\n",
       "      <td>0.0</td>\n",
       "      <td>MAPLE VALLEY</td>\n",
       "    </tr>\n",
       "    <tr>\n",
       "      <th>98</th>\n",
       "      <td>314000.0</td>\n",
       "      <td>3</td>\n",
       "      <td>1.75</td>\n",
       "      <td>1810</td>\n",
       "      <td>41800</td>\n",
       "      <td>1.0</td>\n",
       "      <td>0.0</td>\n",
       "      <td>5</td>\n",
       "      <td>7</td>\n",
       "      <td>1210</td>\n",
       "      <td>1980</td>\n",
       "      <td>1650</td>\n",
       "      <td>135036</td>\n",
       "      <td>0.0</td>\n",
       "      <td>1.0</td>\n",
       "      <td>MAPLE VALLEY</td>\n",
       "    </tr>\n",
       "    <tr>\n",
       "      <th>...</th>\n",
       "      <td>...</td>\n",
       "      <td>...</td>\n",
       "      <td>...</td>\n",
       "      <td>...</td>\n",
       "      <td>...</td>\n",
       "      <td>...</td>\n",
       "      <td>...</td>\n",
       "      <td>...</td>\n",
       "      <td>...</td>\n",
       "      <td>...</td>\n",
       "      <td>...</td>\n",
       "      <td>...</td>\n",
       "      <td>...</td>\n",
       "      <td>...</td>\n",
       "      <td>...</td>\n",
       "      <td>...</td>\n",
       "    </tr>\n",
       "    <tr>\n",
       "      <th>21340</th>\n",
       "      <td>345000.0</td>\n",
       "      <td>4</td>\n",
       "      <td>2.50</td>\n",
       "      <td>2280</td>\n",
       "      <td>5000</td>\n",
       "      <td>2.0</td>\n",
       "      <td>0.0</td>\n",
       "      <td>3</td>\n",
       "      <td>7</td>\n",
       "      <td>2280</td>\n",
       "      <td>2006</td>\n",
       "      <td>2910</td>\n",
       "      <td>5000</td>\n",
       "      <td>0.0</td>\n",
       "      <td>0.0</td>\n",
       "      <td>MAPLE VALLEY</td>\n",
       "    </tr>\n",
       "    <tr>\n",
       "      <th>21399</th>\n",
       "      <td>389990.0</td>\n",
       "      <td>4</td>\n",
       "      <td>2.50</td>\n",
       "      <td>2245</td>\n",
       "      <td>4330</td>\n",
       "      <td>2.0</td>\n",
       "      <td>0.0</td>\n",
       "      <td>3</td>\n",
       "      <td>8</td>\n",
       "      <td>2245</td>\n",
       "      <td>2014</td>\n",
       "      <td>2530</td>\n",
       "      <td>4478</td>\n",
       "      <td>0.0</td>\n",
       "      <td>0.0</td>\n",
       "      <td>MAPLE VALLEY</td>\n",
       "    </tr>\n",
       "    <tr>\n",
       "      <th>21429</th>\n",
       "      <td>531155.0</td>\n",
       "      <td>4</td>\n",
       "      <td>2.75</td>\n",
       "      <td>2810</td>\n",
       "      <td>5046</td>\n",
       "      <td>2.0</td>\n",
       "      <td>0.0</td>\n",
       "      <td>3</td>\n",
       "      <td>9</td>\n",
       "      <td>2810</td>\n",
       "      <td>2014</td>\n",
       "      <td>3060</td>\n",
       "      <td>4934</td>\n",
       "      <td>0.0</td>\n",
       "      <td>0.0</td>\n",
       "      <td>MAPLE VALLEY</td>\n",
       "    </tr>\n",
       "    <tr>\n",
       "      <th>21547</th>\n",
       "      <td>337000.0</td>\n",
       "      <td>4</td>\n",
       "      <td>2.50</td>\n",
       "      <td>2470</td>\n",
       "      <td>5100</td>\n",
       "      <td>2.0</td>\n",
       "      <td>0.0</td>\n",
       "      <td>3</td>\n",
       "      <td>8</td>\n",
       "      <td>2470</td>\n",
       "      <td>2005</td>\n",
       "      <td>2240</td>\n",
       "      <td>5123</td>\n",
       "      <td>0.0</td>\n",
       "      <td>0.0</td>\n",
       "      <td>MAPLE VALLEY</td>\n",
       "    </tr>\n",
       "    <tr>\n",
       "      <th>21573</th>\n",
       "      <td>347500.0</td>\n",
       "      <td>3</td>\n",
       "      <td>2.50</td>\n",
       "      <td>2540</td>\n",
       "      <td>4760</td>\n",
       "      <td>2.0</td>\n",
       "      <td>0.0</td>\n",
       "      <td>3</td>\n",
       "      <td>8</td>\n",
       "      <td>2540</td>\n",
       "      <td>2010</td>\n",
       "      <td>2540</td>\n",
       "      <td>4571</td>\n",
       "      <td>0.0</td>\n",
       "      <td>0.0</td>\n",
       "      <td>MAPLE VALLEY</td>\n",
       "    </tr>\n",
       "  </tbody>\n",
       "</table>\n",
       "<p>589 rows × 16 columns</p>\n",
       "</div>"
      ],
      "text/plain": [
       "          price  bedrooms  bathrooms  sqft_living  sqft_lot  floors  \\\n",
       "9      323000.0         3       2.50         1890      6560     2.0   \n",
       "73     360000.0         4       2.50         2380      5000     2.0   \n",
       "80     390000.0         3       2.50         2350      5100     2.0   \n",
       "81     360000.0         4       2.50         1900      5889     2.0   \n",
       "98     314000.0         3       1.75         1810     41800     1.0   \n",
       "...         ...       ...        ...          ...       ...     ...   \n",
       "21340  345000.0         4       2.50         2280      5000     2.0   \n",
       "21399  389990.0         4       2.50         2245      4330     2.0   \n",
       "21429  531155.0         4       2.75         2810      5046     2.0   \n",
       "21547  337000.0         4       2.50         2470      5100     2.0   \n",
       "21573  347500.0         3       2.50         2540      4760     2.0   \n",
       "\n",
       "       waterfront  condition  grade  sqft_above  yr_built  sqft_living15  \\\n",
       "9             0.0          3      7        1890      2003           2390   \n",
       "73            0.0          3      8        2380      2005           2420   \n",
       "80            0.0          3      8        2350      2003           2350   \n",
       "81            0.0          3      7        1900      1992           1870   \n",
       "98            0.0          5      7        1210      1980           1650   \n",
       "...           ...        ...    ...         ...       ...            ...   \n",
       "21340         0.0          3      7        2280      2006           2910   \n",
       "21399         0.0          3      8        2245      2014           2530   \n",
       "21429         0.0          3      9        2810      2014           3060   \n",
       "21547         0.0          3      8        2470      2005           2240   \n",
       "21573         0.0          3      8        2540      2010           2540   \n",
       "\n",
       "       sqft_lot15  renovated  basement          city  \n",
       "9            7570        0.0       0.0  MAPLE VALLEY  \n",
       "73           5000        0.0       0.0  MAPLE VALLEY  \n",
       "80           5363        0.0       0.0  MAPLE VALLEY  \n",
       "81           6405        0.0       0.0  MAPLE VALLEY  \n",
       "98         135036        0.0       1.0  MAPLE VALLEY  \n",
       "...           ...        ...       ...           ...  \n",
       "21340        5000        0.0       0.0  MAPLE VALLEY  \n",
       "21399        4478        0.0       0.0  MAPLE VALLEY  \n",
       "21429        4934        0.0       0.0  MAPLE VALLEY  \n",
       "21547        5123        0.0       0.0  MAPLE VALLEY  \n",
       "21573        4571        0.0       0.0  MAPLE VALLEY  \n",
       "\n",
       "[589 rows x 16 columns]"
      ]
     },
     "execution_count": 202,
     "metadata": {},
     "output_type": "execute_result"
    }
   ],
   "source": [
    "df[df['city']=='MAPLE VALLEY']"
   ]
  },
  {
   "cell_type": "markdown",
   "metadata": {},
   "source": [
    "## Example Home Buyer ##"
   ]
  },
  {
   "cell_type": "markdown",
   "metadata": {},
   "source": [
    "I will go through a series of predictions that a home buyer might like to see to illustrate how the model can be used.\n",
    "\n",
    "The main two ways would be to narrow down reasonable features for the buyer's budget and to verify how close a list price is to historic sales before making an offer.\n",
    "\n",
    "Assume someone is looking for a house with at least 3 bedrooms and 2 bath in the Redmond area. They also would like at least 1500 sqft living. \n",
    "\n",
    "The hardest inputs for the buyer will be sqft_lot and grade.  These can be recommended by the agent they are working with or an app could suggest based on averages in those areas.  We'll make a suggestion based on averages."
   ]
  },
  {
   "cell_type": "code",
   "execution_count": 203,
   "metadata": {},
   "outputs": [
    {
     "name": "stdout",
     "output_type": "stream",
     "text": [
      "Average Grade\n",
      "Redmond: 8.0\n",
      "\n",
      "Average Sqft Lot\n",
      "Redmond: 8645.0\n",
      "\n",
      "Average Bedrooms\n",
      "Redmond: 3.0\n"
     ]
    }
   ],
   "source": [
    "red=df[df['city']=='REDMOND']\n",
    "kirk=df[df['city']=='KIRKLAND']\n",
    "bell=df[df['city']=='BELLEVUE']\n",
    "\n",
    "print('Average Grade')\n",
    "print('Redmond: {}'.format(red['grade'].median()))\n",
    "print('')\n",
    "print('Average Sqft Lot')\n",
    "print('Redmond: {}'.format(red['sqft_lot'].median()))\n",
    "print('')\n",
    "print('Average Bedrooms')\n",
    "print('Redmond: {}'.format(red['bedrooms'].median()))\n"
   ]
  },
  {
   "cell_type": "markdown",
   "metadata": {},
   "source": [
    "We'll recommend a grade of 7-8 and sqft_lot of 8500. We checked average bedrooms as well to make sure the type of home the buyer is looking for falls around the average for this as well.  An agent would help provide guidance on this.  For homes that the buyer is considering making an offer on, this information would be available."
   ]
  },
  {
   "cell_type": "code",
   "execution_count": 204,
   "metadata": {},
   "outputs": [
    {
     "data": {
      "text/plain": [
       "'Predicted price: $499,509'"
      ]
     },
     "execution_count": 204,
     "metadata": {},
     "output_type": "execute_result"
    }
   ],
   "source": [
    "#First prediction will be in Redmond with minimums\n",
    "\n",
    "input_dictionary={\n",
    "    'waterfront':0, #1 or 0\n",
    "    'yr_built':2000, #year integer\n",
    "    'renovated':0, #1 or 0\n",
    "    'basement':0, #1 or 0\n",
    "    'city':'REDMOND', #all caps string\n",
    "    'bedrooms': 3, #integer\n",
    "    'bathrooms':2.0, #integer\n",
    "    'sqft_living':1500, #sqft number\n",
    "    'sqft_lot':8645, #sqft of lot\n",
    "    'floors': 1,  #int\n",
    "    'grade': 8  #king county grading system\n",
    "}\n",
    "\n",
    "predict_price(input_dictionary)"
   ]
  },
  {
   "cell_type": "code",
   "execution_count": 205,
   "metadata": {},
   "outputs": [
    {
     "data": {
      "text/plain": [
       "'Predicted price: $515,362'"
      ]
     },
     "execution_count": 205,
     "metadata": {},
     "output_type": "execute_result"
    }
   ],
   "source": [
    "#Second prediction add a half bath\n",
    "\n",
    "input_dictionary={\n",
    "    'waterfront':0, #1 or 0\n",
    "    'yr_built':2000, #year integer\n",
    "    'renovated':0, #1 or 0\n",
    "    'basement':0, #1 or 0\n",
    "    'city':'REDMOND', #all caps string\n",
    "    'bedrooms': 3, #integer\n",
    "    'bathrooms':2.5, #integer\n",
    "    'sqft_living':1500, #sqft number\n",
    "    'sqft_lot':8645, #sqft of lot\n",
    "    'floors': 1,  #int\n",
    "    'grade': 8  #king county grading system\n",
    "}\n",
    "predict_price(input_dictionary)"
   ]
  },
  {
   "cell_type": "code",
   "execution_count": 206,
   "metadata": {},
   "outputs": [
    {
     "data": {
      "text/plain": [
       "'Predicted price: $598,969'"
      ]
     },
     "execution_count": 206,
     "metadata": {},
     "output_type": "execute_result"
    }
   ],
   "source": [
    "#Third prediction add 500sqft\n",
    "\n",
    "input_dictionary={\n",
    "    'waterfront':0, #1 or 0\n",
    "    'yr_built':2000, #year integer\n",
    "    'renovated':0, #1 or 0\n",
    "    'basement':0, #1 or 0\n",
    "    'city':'REDMOND', #all caps string\n",
    "    'bedrooms': 3, #integer\n",
    "    'bathrooms':2.5, #integer\n",
    "    'sqft_living':2000, #sqft number\n",
    "    'sqft_lot':8645, #sqft of lot\n",
    "    'floors': 1,  #int\n",
    "    'grade': 8  #king county grading system\n",
    "}\n",
    "predict_price(input_dictionary)"
   ]
  },
  {
   "cell_type": "code",
   "execution_count": 207,
   "metadata": {},
   "outputs": [
    {
     "data": {
      "text/plain": [
       "'Predicted price: $606,408'"
      ]
     },
     "execution_count": 207,
     "metadata": {},
     "output_type": "execute_result"
    }
   ],
   "source": [
    "#Fourth prediction 10 years newer\n",
    "\n",
    "input_dictionary={\n",
    "    'waterfront':0, #1 or 0\n",
    "    'yr_built':2010, #year integer\n",
    "    'renovated':0, #1 or 0\n",
    "    'basement':0, #1 or 0\n",
    "    'city':'REDMOND', #all caps string\n",
    "    'bedrooms': 3, #integer\n",
    "    'bathrooms':2.5, #integer\n",
    "    'sqft_living':2000, #sqft number\n",
    "    'sqft_lot':8645, #sqft of lot\n",
    "    'floors': 1,  #int\n",
    "    'grade': 8  #king county grading system\n",
    "}\n",
    "predict_price(input_dictionary)"
   ]
  },
  {
   "cell_type": "code",
   "execution_count": 208,
   "metadata": {},
   "outputs": [
    {
     "data": {
      "text/plain": [
       "'Predicted price: $580,740'"
      ]
     },
     "execution_count": 208,
     "metadata": {},
     "output_type": "execute_result"
    }
   ],
   "source": [
    "#See how adding second floor changes price\n",
    "\n",
    "input_dictionary={\n",
    "    'waterfront':0, #1 or 0\n",
    "    'yr_built':2010, #year integer\n",
    "    'renovated':0, #1 or 0\n",
    "    'basement':0, #1 or 0\n",
    "    'city':'REDMOND', #all caps string\n",
    "    'bedrooms': 3, #integer\n",
    "    'bathrooms':2.5, #integer\n",
    "    'sqft_living':2000, #sqft number\n",
    "    'sqft_lot':8645, #sqft of lot\n",
    "    'floors': 2,  #int\n",
    "    'grade': 8  #king county grading system\n",
    "}\n",
    "predict_price(input_dictionary)"
   ]
  },
  {
   "cell_type": "markdown",
   "metadata": {},
   "source": [
    "All of the additional features added to the price except a second floor, which actually decreased the price. This should indicate to the buyer that for this  area and that general size house, a second floor is not more expensive."
   ]
  },
  {
   "cell_type": "markdown",
   "metadata": {},
   "source": [
    "# Conclusions #"
   ]
  },
  {
   "cell_type": "markdown",
   "metadata": {},
   "source": [
    "The model produced in this project explains over 80% of variance in price using features input by a home-buyer.  \n",
    "\n",
    "The model uses polynomial regression and log transformation of certain features.  Focus was placed on increasing accuracy of the model, prioritizing it over the ability to provide insights on specific impact of each feature.  This choice was made with the single-family home-buyer in mind, who would more easily interpret a predicted price than information on impact of individual features.\n"
   ]
  },
  {
   "cell_type": "markdown",
   "metadata": {},
   "source": [
    "## Next Steps ##"
   ]
  },
  {
   "cell_type": "markdown",
   "metadata": {},
   "source": [
    "- Create an app where buyers can input desired features and receive predicted price.\n",
    "- App can provide suggested inputs based on city averages if the buyer is not familiar with the types of houses found in that area\n",
    "- App can plot any houses on market or recently sold with similar characteristics\n",
    "***\n",
    "- Use another type of model to take inputs including price and return city most likely to find property in\n",
    "- App would plot heatmap showing likelihood of finding property at the price with those characteristics"
   ]
  }
 ],
 "metadata": {
  "kernelspec": {
   "display_name": "Python 3",
   "language": "python",
   "name": "python3"
  },
  "language_info": {
   "codemirror_mode": {
    "name": "ipython",
    "version": 3
   },
   "file_extension": ".py",
   "mimetype": "text/x-python",
   "name": "python",
   "nbconvert_exporter": "python",
   "pygments_lexer": "ipython3",
   "version": "3.8.5"
  },
  "toc": {
   "base_numbering": 1,
   "nav_menu": {},
   "number_sections": true,
   "sideBar": true,
   "skip_h1_title": false,
   "title_cell": "Table of Contents",
   "title_sidebar": "Contents",
   "toc_cell": false,
   "toc_position": {
    "height": "calc(100% - 180px)",
    "left": "10px",
    "top": "150px",
    "width": "384px"
   },
   "toc_section_display": true,
   "toc_window_display": true
  }
 },
 "nbformat": 4,
 "nbformat_minor": 2
}
